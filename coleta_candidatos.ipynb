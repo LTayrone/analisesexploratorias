{
  "nbformat": 4,
  "nbformat_minor": 5,
  "metadata": {
    "kernelspec": {
      "display_name": "coletor",
      "language": "python",
      "name": "coletor"
    },
    "language_info": {
      "codemirror_mode": {
        "name": "ipython",
        "version": 3
      },
      "file_extension": ".py",
      "mimetype": "text/x-python",
      "name": "python",
      "nbconvert_exporter": "python",
      "pygments_lexer": "ipython3",
      "version": "3.9.0"
    },
    "colab": {
      "name": "coleta_candidatos.ipynb",
      "provenance": [],
      "include_colab_link": true
    }
  },
  "cells": [
    {
      "cell_type": "markdown",
      "metadata": {
        "id": "view-in-github",
        "colab_type": "text"
      },
      "source": [
        "<a href=\"https://colab.research.google.com/github/LTayrone/analisesexploratorias/blob/main/coleta_candidatos.ipynb\" target=\"_parent\"><img src=\"https://colab.research.google.com/assets/colab-badge.svg\" alt=\"Open In Colab\"/></a>"
      ]
    },
    {
      "cell_type": "markdown",
      "metadata": {
        "id": "3vpWdQDhh9J4"
      },
      "source": [
        "# Coleta de dados na Web\n",
        "\n",
        "Vamos iniciar nosso primeiro web crawling utilizando as bibliotecas requests e BeautifulSoup"
      ],
      "id": "3vpWdQDhh9J4"
    },
    {
      "cell_type": "code",
      "metadata": {
        "colab": {
          "base_uri": "https://localhost:8080/"
        },
        "id": "VF_g0PlHh9KA",
        "outputId": "2140a3d6-e8da-4b9d-ff25-95fd62d9eeea"
      },
      "source": [
        "!pip install beautifulsoup4"
      ],
      "id": "VF_g0PlHh9KA",
      "execution_count": 1,
      "outputs": [
        {
          "output_type": "stream",
          "text": [
            "Requirement already satisfied: beautifulsoup4 in /usr/local/lib/python3.7/dist-packages (4.6.3)\n"
          ],
          "name": "stdout"
        }
      ]
    },
    {
      "cell_type": "code",
      "metadata": {
        "id": "930Xb6VGh9KC"
      },
      "source": [
        "# O primeiro passo temos que importar as bibliotecas que vamos utilizar\n",
        "\n",
        "import requests # para realizar as requisições HTMLs\n",
        "from bs4 import BeautifulSoup #\n",
        "import re # trabalhar com expressão regular"
      ],
      "id": "930Xb6VGh9KC",
      "execution_count": 2,
      "outputs": []
    },
    {
      "cell_type": "markdown",
      "metadata": {
        "id": "0N_JoGf-h9KC"
      },
      "source": [
        "Para esse estudo vamos extrair informações dos candidatos a prefeitos a prefeitura de 3 cidades (São Paulo, Rio de Janeiro e Belo horizonte) Vamos acessar o site \"https://politica.estadao.com.br/eleicoes/2020/candidatos\"\n",
        "\n",
        "Vamos extrair as seguintes informações:\n",
        "1. Nome do candidato\n",
        "2. Partido do candidato\n",
        "3. O estado \n",
        "4. A cidade\n",
        "5. O endereço de link do candidato\n"
      ],
      "id": "0N_JoGf-h9KC"
    },
    {
      "cell_type": "code",
      "metadata": {
        "id": "oDWB6SoNh9KD"
      },
      "source": [
        "# Vamos fazer uma requisição ao link que contém as informações dos candidatos\n",
        "\n",
        "# Criamos uma variável e atribuimos\n",
        "r = requests.get(\"https://politica.estadao.com.br/eleicoes/2020/candidatos\")\n"
      ],
      "id": "oDWB6SoNh9KD",
      "execution_count": 3,
      "outputs": []
    },
    {
      "cell_type": "code",
      "metadata": {
        "colab": {
          "base_uri": "https://localhost:8080/",
          "height": 137
        },
        "id": "EDGcTBBsh9KE",
        "outputId": "4af6acd1-f0a5-4ab3-e243-af5a8ce22119"
      },
      "source": [
        "# Para ver o conteúdo do texto execute o código abaixo\n",
        "r.text"
      ],
      "id": "EDGcTBBsh9KE",
      "execution_count": 4,
      "outputs": [
        {
          "output_type": "execute_result",
          "data": {
            "application/vnd.google.colaboratory.intrinsic+json": {
              "type": "string"
            },
            "text/plain": [
              "'<!DOCTYPE html><html lang=\"pt-BR\"><head><script>(function(w,d,s,l,i){w[l]=w[l]||[];w[l].push({\\'gtm.start\\': new Date().getTime(),event:\\'gtm.js\\'});var f=d.getElementsByTagName(s)[0], j=d.createElement(s),dl=l!=\\'dataLayer\\'?\\'&l=\\'+l:\\'\\';j.async=true;j.src= \\'https://www.googletagmanager.com/gtm.js?id=\\'+i+dl;f.parentNode.insertBefore(j,f); })(window,document,\\'script\\',\\'dataLayerEstadao\\',\\'GTM-M4LH38R\\');</script><meta charset=\"UTF-8\"/><script async=\\'async\\' src=\\'https://www.googletagservices.com/tag/js/gpt.js\\'></script><script async=\\'async\\' src=\"https://statics.estadao.com.br/s2016/utils/publicidade/dfp.min.js\"></script> <script type=\\'text/javascript\\'> var DFP = DFP || {}; DFP.cmd = DFP.cmd || []; DFP.cmd.push(function(){DFP.Prebid.init({ \"bids\": [{ \"accepted_formats\": [{ \"devices\": [\"xl\", \"lg\", \"md\", \"sm\", \"xs\"], \"format\": [300, 250], \"params\": { \"networkId\": 5963 } }, { \"devices\": [\"xl\", \"lg\", \"md\"], \"format\": [970, 90], \"params\": { \"networkId\": 5963 } }, { \"devices\": [\"xl\", \"lg\", \"md\"], \"format\": [300, 600], \"params\": { \"networkId\": 5963 } }, { \"devices\": [\"xl\", \"lg\", \"md\"], \"format\": [160, 600], \"params\": { \"networkId\": 5963 } }, { \"devices\": [\"xl\", \"lg\", \"md\"], \"format\": [120, 600], \"params\": { \"networkId\": 5963 } }, { \"devices\": [\"md\", \"sm\"], \"format\": [728, 90], \"params\": { \"networkId\": 5963 } }, { \"targets\": { \"formato\": [\"htopo\"] }, \"devices\": [\"sm\"], \"format\": [468, 60], \"params\": { \"network\": \"5963\" } },{ \"targets\": { \"formato\": [\"htopo\"] }, \"devices\": [\"sm\"], \"format\": [300, 100], \"params\": { \"network\": \"5963\" } },{ \"targets\": { \"formato\": [\"htopo\"] }, \"devices\": [\"sm\"], \"format\": [300, 50], \"params\": { \"network\": \"5963\" } }, { \"targets\": { \"formato\": [\"htopo\"] }, \"devices\": [\"sm\", \"xs\"], \"format\": [320, 50], \"params\": { \"networkId\": 5963 } }], \"bidder\": \"criteo\", \"params\": [] }, { \"accepted_formats\": [{ \"targets\": { \"formato\": [\"sticky\"] }, \"params\": { \"formatId\": \"91190\", \"siteId\": \"352949\", \"pageId\": \"1236065\" } }, { \"targets\": { \"formato\": [\"ttopo\"] }, \"params\": { \"formatId\": \"91189\", \"siteId\": \"352949\", \"pageId\": \"1236065\" } }, { \"targets\": { \"formato\": [\"tmeio2\"] }, \"params\": { \"formatId\": \"91188\", \"siteId\": \"352949\", \"pageId\": \"1236065\" } }, { \"targets\": { \"formato\": [\"hmeio2\"] }, \"params\": { \"formatId\": \"91187\", \"siteId\": \"352949\", \"pageId\": \"1236065\" } }, { \"targets\": { \"formato\": [\"hmeio1\"] }, \"params\": { \"formatId\": \"91186\", \"siteId\": \"352949\", \"pageId\": \"1236065\" } }, { \"targets\": { \"formato\": [\"vmeio1\"] }, \"params\": { \"formatId\": \"91185\", \"siteId\": \"352949\", \"pageId\": \"1236065\" } }, { \"targets\": { \"formato\": [\"tmeio1\"] }, \"params\": { \"formatId\": \"91184\", \"siteId\": \"352949\", \"pageId\": \"1236065\" } }, { \"targets\": { \"formato\": [\"vlatd\"] }, \"params\": { \"formatId\": \"91183\", \"siteId\": \"352949\", \"pageId\": \"1236065\" } }, { \"targets\": { \"formato\": [\"vlate\"] }, \"params\": { \"formatId\": \"92463\", \"siteId\": \"352949\", \"pageId\": \"1236065\" } }, { \"targets\": { \"formato\": [\"htopo\"] }, \"params\": { \"formatId\": \"91182\", \"siteId\": \"352949\", \"pageId\": \"1236065\" } }], \"bidder\": \"smartadserver\", \"mediaTypes\": \"bannerOnly\", \"params\": [] }, { \"bidder\": \"rubicon\", \"params\": { \"accountId\": \"14044\", \"siteId\": \"70010\", \"zoneId\": \"334044\" } }, { \"accepted_formats\": [{ \"devices\": [\"xl\", \"lg\", \"md\", \"sm\"], \"params\": { \"placementId\": \"14149591\" } }, { \"devices\": [\"xs\"], \"params\": { \"placementId\": \"14149592\" } }], \"bidder\": \"appnexus\", \"params\": [] }, { \"accepted_formats\": [{ \"targets\": { \"formato\": [\"tmeio1\"] }, \"devices\": [\"xl\", \"lg\", \"md\"], \"format\": [300, 250], \"params\": { \"dcn\": \"8a96941801787864ba7464d54b060007\", \"pos\": \"estadao_sub_home_desk_tmeio1_custom_300x250\" } }, { \"targets\": { \"formato\": [\"tmeio2\"] }, \"devices\": [\"xl\", \"lg\", \"md\"], \"format\": [300, 250], \"params\": { \"dcn\": \"8a96941801787864ba7464d54b060007\", \"pos\": \"estadao_sub_home_desk_tmeio2_custom_300x250\" } }, { \"targets\": { \"formato\": [\"hmeio1\"] }, \"devices\": [\"xl\", \"lg\", \"md\"], \"format\": [728, 90], \"params\": { \"dcn\": \"8a96941801787864ba7464d54b060007\", \"pos\": \"estadao_sub_home_desk_hmeio1_custom_728x90\" } }, { \"targets\": { \"formato\": [\"hmeio2\"] }, \"devices\": [\"xl\", \"lg\", \"md\"], \"format\": [728, 90], \"params\": { \"dcn\": \"8a96941801787864ba7464d54b060007\", \"pos\": \"estadao_sub_home_desk_hmeio2_custom_728x90\" } }, { \"targets\": { \"formato\": [\"htopo\"] }, \"devices\": [\"xl\", \"lg\", \"md\"], \"format\": [970, 250], \"params\": { \"dcn\": \"8a96941801787864ba7464d54b060007\", \"pos\": \"estadao_sub_home_desk_htopo_dym_970x250\" } }, { \"targets\": { \"formato\": [\"sticky\"] }, \"devices\": [\"sm\", \"xs\"], \"format\": [320, 100], \"params\": { \"dcn\": \"8a96941801787864ba7464d8110d0009\", \"pos\": \"estadao_sub_home_mobile_dfp_dym_320x100\" } }, { \"targets\": { \"formato\": [\"htopo\"] }, \"devices\": [\"sm\", \"xs\"], \"format\": [320, 100], \"params\": { \"dcn\": \"8a96941801787864ba7464d8110d0009\", \"pos\": \"estadao_sub_home_mobile_htopo_dym_320x100\" } }, { \"targets\": { \"formato\": [\"hmeio1\"] }, \"devices\": [\"sm\", \"xs\"], \"format\": [300, 250], \"params\": { \"dcn\": \"8a96941801787864ba7464d8110d0009\", \"pos\": \"estadao_sub_home_mobile_hmeio1_dym_300x250\" } }, { \"targets\": { \"formato\": [\"hmeio2\"] }, \"devices\": [\"sm\", \"xs\"], \"format\": [300, 250], \"params\": { \"dcn\": \"8a96941801787864ba7464d8110d0009\", \"pos\": \"estadao_sub_home_mobile_hmeio2_dym_300x250\" } }, { \"targets\": { \"formato\": [\"tmeio1\"] }, \"devices\": [\"sm\", \"xs\"], \"format\": [300, 250], \"params\": { \"dcn\": \"8a96941801787864ba7464d8110d0009\", \"pos\": \"estadao_sub_home_mobile_tmeio1_custom_300x250\" } }, { \"targets\": { \"formato\": [\"tmeio2\"] }, \"devices\": [\"sm\", \"xs\"], \"format\": [300, 250], \"params\": { \"dcn\": \"8a96941801787864ba7464d8110d0009\", \"pos\": \"estadao_sub_home_mobile_tmeio2_custom_300x250\" } }], \"bidder\": \"onemobile\", \"params\": [] }], \"currency\": []})}); DFP.cmd.push(function(){ DFP.init(\\'/118650305/estadao/politica/eleicoes\\',\\'eleicoes\\'); DFP.pushTargetsDefault([]); }); </script> <title>Elei&ccedil;&otilde;es 2020 | Candidatos | Estad&atilde;o</title><meta http-equiv=\"X-UA-Compatible\" content=\"IE=edge\"><meta name=\"viewport\" content=\"width=device-width, initial-scale=1, user-scalable=0\"><meta name=\"mobile-web-app-capable\" content=\"yes\"><meta name=\"apple-mobile-web-app-status-bar-style\" content=\"black\"><meta name=\"description\" content=\"Conhe&ccedil;a dados e informa&ccedil;&otilde;es sobre os candidatos nas elei&ccedil;&otilde;es municipais em S&atilde;o Paulo, Rio de Janeiro, Belo Horizonte e todas as demais cidades do Pa&iacute;s\"><link rel=\"canonical\" href=\"https://politica.estadao.com.br/eleicoes/2020/candidatos\"><meta name=\"google-site-verification\" content=\"PfiLKXdZ8G42sTRx1JwiEfHMkIoKwxG8pFKwjhhxZ8c\" /><meta name=\"msvalidate.01\" content=\"472E06798AE8794A1997378AF5BDA687\" /><meta property=\"fb:app_id\" content=\"127970263920039\" /><meta property=\"og:title\" content=\"Elei&ccedil;&otilde;es 2020 | Candidatos | Estad&atilde;o\" ><meta property=\"og:type\" content=\"article\" ><meta property=\"og:url\" content=\"https://politica.estadao.com.br/eleicoes/2020/candidatos\" /><meta property=\"og:image\" content=\"https://statics.estadao.com.br/s2016/portal/logos/estadao-logo-200x200.png\" ><meta property=\"og:site_name\" content=\"Estad&atilde;o\" ><meta property=\"og:description\" content=\"Conhe&ccedil;a dados e informa&ccedil;&otilde;es sobre os candidatos nas elei&ccedil;&otilde;es municipais em S&atilde;o Paulo, Rio de Janeiro, Belo Horizonte e todas as demais cidades do Pa&iacute;s\" ><link rel=\"shortcut icon\" href=\"https://statics.estadao.com.br/s2016/portal/logos/favicon/favicon.ico\"><link rel=\"apple-touch-icon\" href=\"https://statics.estadao.com.br/s2016/portal/logos/favicon/apple-touch-icon.png\"><link rel=\"dns-prefetch\" href=\"//ajax.googleapis.com\"><link rel=\"dns-prefetch\" href=\"//img.estadao.com.br\"><link rel=\"dns-prefetch\" href=\"//front.multimidia.estadao.com.br\"><link rel=\"dns-prefetch\" href=\"//www.googletagmanager.com\"><link rel=\"dns-prefetch\" href=\"//www.google-analytics.com\"><link rel=\"dns-prefetch\" href=\"//tag.navdmp.com\"><link rel=\"dns-prefetch\" href=\"//s3.amazonaws.com\"><link rel=\"dns-prefetch\" href=\"//navdmp.com\"><link rel=\"dns-prefetch\" href=\"//b.scorecardresearch.com\"><link rel=\"dns-prefetch\" href=\"//ivccftag.ivcbrasil.org.br\"><link rel=\"dns-prefetch\" href=\"//estadao.or1.sc.omtrdc.net\"><link rel=\"dns-prefetch\" href=\"//gadasource.storage.googleapis.com\"><link rel=\"dns-prefetch\" href=\"//ping.chartbeat.net\"><link rel=\"dns-prefetch\" href=\"//statics.estadao.com.br\"><link rel=\"dns-prefetch\" href=\"//static.chartbeat.com\"><link crossOrigin=\"https://statics.estadao.com.br/s2016/\" rel=\"preload\" as=\"font\" href=\"https://statics.estadao.com.br/s2016/portal/font/icons/icones-estadao.woff2\"><link crossOrigin=\"https://statics.estadao.com.br/s2016/\" rel=\"preload\" as=\"font\" href=\"https://statics.estadao.com.br/s2016/portal/font/estado/bold/estadoheadline-bold.woff2\"><link crossOrigin=\"https://statics.estadao.com.br/s2016/\" rel=\"preload\" as=\"font\" href=\"https://statics.estadao.com.br/s2016/portal/font/lato/bold/lato-bold.woff2\"><link crossOrigin=\"https://statics.estadao.com.br/s2016/\" rel=\"preload\" as=\"font\" href=\"https://statics.estadao.com.br/s2016/portal/font/lato/bold-italic/lato-bolditalic.woff2\"><link crossOrigin=\"https://statics.estadao.com.br/s2016/\" rel=\"preload\" as=\"font\" href=\"https://statics.estadao.com.br/s2016/portal/font/lato/black/lato-black.woff2\"><link crossOrigin=\"https://statics.estadao.com.br/s2016/\" rel=\"preload\" as=\"font\" href=\"https://statics.estadao.com.br/s2016/portal/font/lato/regular/lato-regular.woff2\"><link crossOrigin=\"https://statics.estadao.com.br/s2016/\" rel=\"preload\" as=\"font\" href=\"https://statics.estadao.com.br/s2016/portal/font/lato/light/lato-light.woff2\"><link crossOrigin=\"https://statics.estadao.com.br/s2016/\" rel=\"preload\" as=\"font\" href=\"https://statics.estadao.com.br/s2016/portal/font/lato/italic/lato-italic.woff2\"><link crossOrigin=\"https://statics.estadao.com.br/s2016/\" rel=\"preload\" as=\"font\" href=\"https://statics.estadao.com.br/s2016/portal/font/flama/regular/flama.woff2\"><link rel=\"preload\" type=\"text/css\" href=\"https://statics.estadao.com.br/s2016/portal/css/flexboxgrid/6.3.0/flexboxgrid.min.css\" as=\"style\"><link rel=\"stylesheet\" type=\"text/css\" href=\"https://statics.estadao.com.br/s2016/portal/css/flexboxgrid/6.3.0/flexboxgrid.min.css\"><link rel=\"preload\" type=\"text/css\" href=\"https://statics.estadao.com.br/s2016/portal/eleicoes2020/css/eleicoes2020.min.css?v=27-11-2020\" as=\"style\"><link rel=\"stylesheet\" type=\"text/css\" href=\"https://statics.estadao.com.br/s2016/portal/eleicoes2020/css/eleicoes2020.min.css?v=27-11-2020\"><!--[if lt IE 10]><link rel=\"stylesheet\" type=\"text/css\" href=\"https://statics.estadao.com.br/s2016/portal/css/ie.css\" media=\"all\" /><![endif]--><script type=\"text/javascript\" src=\"https://statics.estadao.com.br/s2016/portal/js/frameworks.min.js\"></script><script>var mod_default = mod_default || [];mod_default = [\"busca-candidatos-filtros\",\"lista-candidatos\",\"lista-candidatos\",\"lista-candidatos\",\"mais-lidas\"];</script> <script id=\"navegg\" type=\"text/javascript\"> (function(n,v,g){o=\\'Navegg\\';if(!n[o]){ a=v.createElement(\\'script\\');a.src=g;b=document.getElementsByTagName(\\'script\\')[0]; b.parentNode.insertBefore(a,b);n[o]=n[o]||function(parms){ n[o].q=n[o].q||[];n[o].q.push([this, parms])};}}) (window, document, \\'https://tag.navdmp.com/universal.min.js\\'); window.naveggReady = window.naveggReady||[]; window.nvg23902 = new Navegg({ acc: 23902 });</script><script type=\"text/javascript\" src=\"https://statics.estadao.com.br/s2016/portal/js/advertisement.js\" async></script> <script> !function(f,b,e,v,n,t,s){if(f.fbq)return;n=f.fbq=function(){n.callMethod? n.callMethod.apply(n,arguments):n.queue.push(arguments)};if(!f._fbq)f._fbq=n; n.push=n;n.loaded=!0;n.version=\\'2.0\\';n.queue=[];t=b.createElement(e);t.async=!0; t.src=v;s=b.getElementsByTagName(e)[0];s.parentNode.insertBefore(t,s)}(window, document,\\'script\\',\\'//connect.facebook.net/en_US/fbevents.js\\'); fbq(\\'init\\', \\'1659995760901982\\'); fbq(\\'track\\', \\'PageView\\'); </script> <noscript><img height=\"1\" width=\"1\" style=\"display:none\" src=\"https://www.facebook.com/tr?id=1659995760901982&ev=PageView&noscript=1\"/></noscript> <style>.async-hide { opacity: 0 !important} </style> <script> (function(a,s,y,n,c,h,i,d,e){s.className+=\\' \\'+y;h.start=1*new Date; h.end=i=function(){s.className=s.className.replace(RegExp(\\' ?\\'+y),\\'\\')}; (a[n]=a[n]||[]).hide=h;setTimeout(function(){i();h.end=null},c);h.timeout=c; })(window,document.documentElement,\\'async-hide\\',\\'dataLayer\\',4000, {\\'GTM-PMJLHJ3\\':true});</script> <script async src=\"https://www.googleoptimize.com/optimize.js?id=GTM-PMJLHJ3\" onerror=\"dataLayer.hide.end && dataLayer.hide.end()\"></script> </head><body class=\"politica \" data-area=\"\"> <noscript> <iframe src=\"https://www.googletagmanager.com/ns.html?id=GTM-M4LH38R\" height=\"0\" width=\"0\" style=\"display:none;visibility:hidden\"></iframe> </noscript> <section class=\"mold-assine\"><div class=\"hidden assine-bar\" style=\"display: none\"><a href=\"https://api.whatsapp.com/send?phone=5511992482333&amp;text=Ola\" class=\"urlassine\" style=\"background-image:url(\\'https://img.estadao.com.br/fotos3/20x169/bt-laranja-barra-lateral-20-x-169.png\\')\" >Assine o Estadão</a><div class=\"content\"><a href=\"https://api.whatsapp.com/send?phone=5511992482333&amp;text=Ola\" target=\"_blank\" rel=\"noopener noreferrer\"><img src=\"https://img.estadao.com.br/fotos3/162x269/banner-lateral-consumidor-167x282px.jpg\" alt=\"Imagem Assine o Estadão\"></a></div></div></section> <style> #barra-estadao-parceiros{box-sizing:border-box;-webkit-box-sizing:border-box;-moz-box-sizing:border-box;-ms-box-sizing:border-box;-o-box-sizing:border-box;margin:0;padding:0;height:auto;max-height:100%;background-color:#393b41;white-space:nowrap;overflow:hidden!important;overflow-x:auto!important} #barra-estadao-parceiros .barra-estadao-list{margin:0 auto;text-align:center} #barra-estadao-parceiros ul{padding:9px 20px;position:relative;display:inline-block;margin:0;font-size:0;text-align:center} #barra-estadao-parceiros li:first-child{margin-left:0} #barra-estadao-parceiros li{margin:0 0 0 9px;display:inline-block;list-style:none;color:#fff} #barra-estadao-parceiros li:not(.barra-item-visibility):before{content:\\'●\\';display:inline-block;margin-right:9px;color:#fff;font-size:12px} #barra-estadao-parceiros li.barra-item-visibility + li:before{display:none} #barra-estadao-parceiros li:not(.barra-item-visibility) a:hover{color:#D0D0D0} #barra-estadao-parceiros li.barra-estadao-item{margin-right:5px} #barra-estadao-parceiros li.barra-estadao-item a{background:rgba(255,255,255,0.4);padding:5px 10px;border-radius:2px;font-weight:bold} #barra-estadao-parceiros li a{padding:0;margin:0;line-height:normal;color:#fff;font-family:sans-serif;font-size:12px;text-decoration:none;-webkit-transition:all .3s ease;-moz-transition:all .3s ease;-ms-transition:all .3s ease;-o-transition:all .3s ease;transition:all .3s ease}@media screen and (max-width:767px) { #barra-estadao-parceiros { display:none; } }</style><div id=\"barra-estadao-parceiros\" class=\"barra-estadao-parceiros\"> <nav class=\"barra-estadao-list\"> <ul> <li class=\"barra-estadao-item barra-item-visibility\"><a href=\"https://assine.estadao.com.br/subscribe/paywall?utm_source=portal_estadao_selo_header&utm_medium=portal_estadao_selo_header&utm_campaign=portal_estadao_selo_header&utm_content=portal_estadao_selo_header\" target=\"_blank\" rel=\"noopener noreferrer\">Assine o Estadão</a></li> <li><a href=\"https://acervo.estadao.com.br\" title=\"Acervo\" target=\"_blank\" rel=\"noopener noreferrer\">Acervo</a></li> <li><a href=\"http://institucional.ae.com.br/\" title=\"Agência Estado\" target=\"_blank\" rel=\"noopener noreferrer\">Agência Estado</a></li> <li><a href=\"https://classificados.estadao.com.br/\" title=\"Classificados\" target=\"_blank\" rel=\"noopener noreferrer\">Classificados</a></li> <li><a href=\"https://emais.estadao.com.br\" title=\"E+\" target=\"_blank\" rel=\"noopener noreferrer\">E+</a></li> <li><a href=\"https://einvestidor.estadao.com.br\" title=\"E-Investidor\" target=\"_blank\" rel=\"noopener noreferrer\">E-Investidor</a></li> <li><a href=\"https://esportefera.com.br\" title=\"#FERA\" target=\"_blank\" rel=\"noopener noreferrer\">#FERA</a></li> <li><a href=\"https://imoveis.estadao.com.br/\" title=\"Imóveis\" target=\"_blank\" rel=\"noopener noreferrer\">Imóveis</a></li> <li><a href=\"https://link.estadao.com.br\" title=\"Link\" target=\"_blank\" rel=\"noopener noreferrer\">Link</a></li> <li><a href=\"https://mobilidade.estadao.com.br/\" title=\"Mobilidade\" target=\"_blank\" rel=\"noopener noreferrer\">Mobilidade</a></li> <li><a href=\"https://paladar.estadao.com.br\" title=\"Paladar\" target=\"_blank\" rel=\"noopener noreferrer\">Paladar</a></li> <li><a href=\"https://pme.estadao.com.br\" title=\"PME\" target=\"_blank\" rel=\"noopener noreferrer\">PME</a></li> <li><a href=\"https://eldorado.estadao.com.br\" title=\"Rádio Eldorado\" target=\"_blank\" rel=\"noopener noreferrer\">Rádio Eldorado</a></li> <li><a href=\"https://saudeciencia.estadao.com.br/\" title=\"Saúde & Ciência\" target=\"_blank\" rel=\"noopener noreferrer\">Saúde & Ciência</a></li> </ul> <script type=\"text/javascript\"> (function(){ var getCookie = function(cname) { var name = cname + \"=\"; var decodedCookie = decodeURIComponent(document.cookie); var ca = decodedCookie.split(\\';\\'); for(var i = 0; i <ca.length; i++) { var c = ca[i]; while (c.charAt(0) == \\' \\') { c = c.substring(1); } if (c.indexOf(name) == 0) { return c.substring(name.length, c.length); } } return null; }; try{ var cookieData = getCookie(\\'OESP_INFO\\'); if(cookieData) { cookieData = JSON.parse(cookieData); if (cookieData.produtos !== \\'undefined\\' && cookieData.produtos != \"\" && cookieData.produtos.indexOf(\\'Not_\\') > -1 ) { var li_assine = document.querySelectorAll(\\'#barra-estadao-parceiros .barra-estadao-item\\'); for(var i in li_assine){ li_assine[i].style.display = \"none\"; } } } }catch (e) {} })(); </script> </nav></div><header class=\"js-header header-estadao header-subhome \" > <div class=\"header-wrapper\"> <div class=\"header-hamburger-menu js-toggle-menu\"> <div class=\"header-menu-bar\"></div> </div> <div class=\"header-icon-menu\"> <a href=\"#\" class=\"header-icon search-button js-toggle-menu\" title=\"Buscar\"> <i class=\"ico-search\"></i> </a> <a href=\"https://acesso.estadao.com.br/login/minha-conta\" class=\"header-icon minha-conta-picture\" title=\"Meu Perfil\"> <i class=\"ico-profile\"></i> </a> </div> <div class=\"header-publicidade selo-menu-top\"> <script type=\"text/javascript\"> if (window.DFP) { DFP.cmd.push(function(){ DFP.renderHtml({ \\'selector\\': \\'.header-publicidade.selo-menu-top\\', \\'targets\\': {\"formato\": \"selo\"}, \"screenmap\" : \"out_of_page\", \"oop_devices\": [\"xs\",\"sm\",\"md\",\"lg\",\"xl\"], \"emptyCallback\" : function(){ if(DFP.isAssinante() !== \"true\"){ document.getElementById(\"selo-assine-dfp\").style.display = \"block\"; } } }); }); } </script> <div id=\"selo-assine-dfp\" style=\"display:none\"> <div class=\"selo-assine -topo img\"> <a class=\"selo-assine-topo-a\" href=\"https://assine.estadao.com.br/subscribe/paywall?utm_source=portal_estadao_selosuperior&utm_medium=portal_estadao_selosuperior&utm_campaign=portal_estadao_selosuperior&utm_content=portal_estadao_selosuperior\" target=\"_blank\" rel=\"noopener noreferrer\" title=\"Assine Estad&atilde;o\"> <img class=\"elazy\" data-src-desktop=\"https://img.estadao.com.br/fotos3/60x34/bt-laranja-selo-menu-60-x-34.png\" data-src-mobile=\"https://img.estadao.com.br/fotos3/60x34/bt-laranja-selo-menu-60-x-34.png\" alt=\"Assine Estad&atilde;o\"> </a> </div> </div> </div> <a href=\"javascript:history.go(-1)\" class=\"header-back-button\"> <div class=\"header-back-bar\"></div> </a> <div class=\"header-primary-logo logo-small logo-blue js-logo-events\"> <a href=\"https://www.estadao.com.br/\" title=\"Estadão - Portal do Estado de S. Paulo\" > <span>Estadão - Portal do Estado de S. Paulo</span> </a> </div> <h1 class=\"novo_h1 header-current-page cor-e\"> <a href=\"https://politica.estadao.com.br/eleicoes/2020\"> Eleições 2020 </a> </h1> <p class=\"header-current-section cor-e\"> <a href=\"https://politica.estadao.com.br/\" class=\"header-section-title\"> Política </a> </p> </div> <nav class=\"header-menu header-secundary-menu \"> <ul> <li class=\" \"> <a href=\"https://politica.estadao.com.br/eleicoes/2020/#ultimas\" title=\"Últimas\" > Últimas </a> </li> <li class=\" \"> <a href=\"https://politica.estadao.com.br/eleicoes/2020/cobertura-votacao-apuracao/primeiro-turno\" title=\"Apuração 1º turno\" > Apuração 1º turno </a> </li> <li class=\" \"> <a href=\"https://politica.estadao.com.br/eleicoes/2020/cobertura-votacao-apuracao/segundo-turno\" title=\"Apuração 2º turno\" > Apuração 2º turno </a> </li> <li class=\"actived \"> <a href=\"https://politica.estadao.com.br/eleicoes/2020/candidatos\" title=\"Candidatos\" > Candidatos </a> </li> <li class=\" \"> <a href=\"https://politica.estadao.com.br/eleicoes/2020/conteudo-interativo\" title=\"Conteúdo Interativo\" > Conteúdo Interativo </a> </li> <li class=\" \"> <a href=\"https://politica.estadao.com.br/eleicoes/2020/guia-do-eleitor\" title=\"Guia do Eleitor\" > Guia do Eleitor </a> </li> <li class=\" \"> <a href=\"https://politica.estadao.com.br/eleicoes/2020/pesquisas/segundo-turno/prefeito/sp/sao-paulo/ibope\" title=\"Pesquisas\" > Pesquisas </a> </li> <li class=\" \"> <a href=\"https://politica.estadao.com.br/eleicoes/2016\" title=\"Eleições 2016\" > Eleições 2016 </a> </li> <li class=\" \"> <a href=\"https://politica.estadao.com.br/eleicoes/2018\" title=\"Eleições 2018\" > Eleições 2018 </a> </li> </ul> </nav> <section class=\"header-menu-user js-menu-user\"> <div class=\"header-wrapper\"><div class=\"search-box\"> <form method=\"GET\" class=\"busca-filtro\" action=\"//busca.estadao.com.br\"> <div class=\"input-search ico-search\"> <input type=\"text\" name=\"q\" placeholder=\"Encontre notícias, assuntos e pessoas\" autocomplete=\"off\" /> </div> </form></div><div class=\"row\"> <div class=\"col-lg-8 col-xs-12 col-sm-12\"> <ul class=\"navbar\"> <li class=\"inline-block perfil item-1 \" > <a href=\"https://acesso.estadao.com.br/login/minha-conta\" class=\"change-menu-hamburguer\" > <span class=\"icon icon-perfil minha-conta-picture-mobile\"></span> <span class=\"text\">Perfil</span> </a> </li> <li class=\"inline-block transito item-2 \" > <a href=\"https://transito.estadao.com.br\" > <span class=\"icon icon-transito\"></span> <span class=\"text\">Trânsito</span> </a> </li> <li class=\"inline-block tempo item-3 \" > <a href=\"https://www.estadao.com.br/clima-e-tempo/sp-sao-paulo/\" > <span class=\"icon icon-tempo\"></span> <span class=\"text\">Tempo</span> </a> </li> <li class=\"inline-block horoscopo item-4 \" > <a href=\"https://emais.estadao.com.br/horoscopo\" > <span class=\"icon icon-horoscopo\"></span> <span class=\"text\">Horóscopo</span> </a> </li> <li class=\"inline-block quadrinhos item-5 \" > <a href=\"https://cultura.estadao.com.br/quadrinhos\" > <span class=\"icon icon-quadrinhos\"></span> <span class=\"text\">Quadrinhos</span> </a> </li> <li class=\"inline-block loterias item-6 \" > <a href=\"https://loterias.estadao.com.br/mega-sena\" > <span class=\"icon icon-loterias\"></span> <span class=\"text\">Loterias</span> </a> </li> <li class=\"inline-block aplicativos item-7 \" > <a href=\"https://www.estadao.com.br/aplicativos/\" > <span class=\"icon icon-aplicativos\"></span> <span class=\"text\">Aplicativos</span> </a> </li> <li class=\"inline-block assine item-8 hidden\" > <a href=\"https://assine.estadao.com.br/?&utm_source=portal_estadao_selo_acesso&utm_medium=portal_estadao_selo_acesso&utm_campaign=portal_estadao_selo_acesso\" target=\"_blank\"> <span class=\"icon icon-assine\"></span> <span class=\"text\">Assine</span> </a> </li> </ul> <div class=\"menu-list\"> <ul> <li> <a href=\"https://opiniao.estadao.com.br\" > Opinião <i class=\"ico-arrow-right\"></i> </a> </li> <li> <a href=\"https://politica.estadao.com.br\" > Política <i class=\"ico-arrow-right\"></i> </a> </li> <li> <a href=\"https://economia.estadao.com.br\" > Economia & Negócios <i class=\"ico-arrow-right\"></i> </a> </li> <li> <a href=\"https://brasil.estadao.com.br\" > Brasil <i class=\"ico-arrow-right\"></i> </a> </li> <li> <a href=\"https://internacional.estadao.com.br\" > Internacional <i class=\"ico-arrow-right\"></i> </a> </li> <li> <a href=\"https://esportes.estadao.com.br\" > Esportes <i class=\"ico-arrow-right\"></i> </a> </li> <li> <a href=\"https://cultura.estadao.com.br\" > Cultura <i class=\"ico-arrow-right\"></i> </a> </li> <li> <a href=\"https://www.estadao.com.br/ultimas\" > Últimas <i class=\"ico-arrow-right\"></i> </a> </li> </ul> </div> <div class=\"menu-list\"> <ul> <li> <a href=\"https://acervo.estadao.com.br/\" > Acervo <i class=\"ico-arrow-right\"></i> </a> </li> <li> <a href=\"http://pme.estadao.com.br/\" > PME <i class=\"ico-arrow-right\"></i> </a> </li> <li> <a href=\"http://jornaldocarro.estadao.com.br/\" > Jornal do Carro <i class=\"ico-arrow-right\"></i> </a> </li> <li> <a href=\"https://paladar.estadao.com.br/\" > Paladar <i class=\"ico-arrow-right\"></i> </a> </li> <li> <a href=\"https://link.estadao.com.br/\" > Link <i class=\"ico-arrow-right\"></i> </a> </li> <li> <a href=\"https://emais.estadao.com.br/\" > E+ <i class=\"ico-arrow-right\"></i> </a> </li> <li> <a href=\"https://viagem.estadao.com.br/\" > Viagem <i class=\"ico-arrow-right\"></i> </a> </li> <li> <a href=\"http://www.classificadosestadao.com.br/\" > Classificados <i class=\"ico-arrow-right\"></i> </a> </li> </ul> </div> <div class=\"menu-list\"> <ul> <li> <a href=\"https://eldorado.estadao.com.br\" > Rádio Eldorado <i class=\"ico-arrow-right\"></i> </a> </li> <li> <a href=\"https://alias.estadao.com.br/\" > Aliás <i class=\"ico-arrow-right\"></i> </a> </li> <li> <a href=\"https://educacao.estadao.com.br/\" > Educação <i class=\"ico-arrow-right\"></i> </a> </li> <li> <a href=\"https://ciencia.estadao.com.br/\" > Ciência <i class=\"ico-arrow-right\"></i> </a> </li> <li> <a href=\"https://sustentabilidade.estadao.com.br/\" > Sustentabilidade <i class=\"ico-arrow-right\"></i> </a> </li> <li> <a href=\"https://saude.estadao.com.br/\" > Saúde <i class=\"ico-arrow-right\"></i> </a> </li> <li> <a href=\"https://sao-paulo.estadao.com.br/\" > São Paulo <i class=\"ico-arrow-right\"></i> </a> </li> </ul> </div> <div class=\"menu-list\"> <ul> <li> <a href=\"https://tudo-sobre.estadao.com.br/\" > Tudo Sobre <i class=\"ico-arrow-right\"></i> </a> </li> <li> <a href=\"https://www.estadao.com.br/ao-vivo/\" > Ao Vivo <i class=\"ico-arrow-right\"></i> </a> </li> <li> <a href=\"https://www.estadao.com.br/blogs/\" > Blogs <i class=\"ico-arrow-right\"></i> </a> </li> <li> <a href=\"https://www.estadao.com.br/colunas/\" > Colunas <i class=\"ico-arrow-right\"></i> </a> </li> <li> <a href=\"https://tv.estadao.com.br/\" > TV Estadão <i class=\"ico-arrow-right\"></i> </a> </li> <li> <a href=\"https://www.estadao.com.br/aplicativos/\" > Aplicativos <i class=\"ico-arrow-right\"></i> </a> </li> <li> <a href=\"https://www.estadao.com.br/infograficos\" > Infográficos <i class=\"ico-arrow-right\"></i> </a> </li> <li> <a href=\"https://fotos.estadao.com.br/\" > Fotos <i class=\"ico-arrow-right\"></i> </a> </li> <li> <a href=\"http://voce.estadao.com.br/\" > Você no Estadão <i class=\"ico-arrow-right\"></i> </a> </li> <li> <a href=\"http://blog.estadaodados.com/\" > Estadão Dados <i class=\"ico-arrow-right\"></i> </a> </li> </ul> </div> <div class=\"menu-list\"> <ul> <li> <a href=\"https://emais.estadao.com.br/horoscopo\" > Horóscopo <i class=\"ico-arrow-right\"></i> </a> </li> <li> <a href=\"https://loterias.estadao.com.br/mega-sena\" > Loterias <i class=\"ico-arrow-right\"></i> </a> </li> <li> <a href=\"https://www.estadao.com.br/clima-e-tempo/sp-sao-paulo/\" > Tempo <i class=\"ico-arrow-right\"></i> </a> </li> <li> <a href=\"https://transito.estadao.com.br/\" > Trânsito <i class=\"ico-arrow-right\"></i> </a> </li> <li> <a href=\"https://www.estadao.com.br/newsletters/\" > Newsletter <i class=\"ico-arrow-right\"></i> </a> </li> <li> <a href=\"https://cultura.estadao.com.br/quadrinhos\" > Quadrinhos <i class=\"ico-arrow-right\"></i> </a> </li> <li> <a href=\"https://arte.estadao.com.br/jogos/sudoku/\" > Sudoku <i class=\"ico-arrow-right\"></i> </a> </li> <li> <a href=\"https://arte.estadao.com.br/jogos/palavras-cruzadas/\" > Cruzadas <i class=\"ico-arrow-right\"></i> </a> </li> </ul> </div> <div class=\"menu-list\"> <ul> <li> <a href=\"https://imoveis.moving.com.br/\" target=\"_blank\" > Moving <i class=\"ico-arrow-right\"></i> </a> </li> <li> <a href=\"https://estradao.estadao.com.br/\" target=\"_blank\" > Estradão <i class=\"ico-arrow-right\"></i> </a> </li> <li> <a href=\"http://www.broadcastpolitico.com.br/\" > Broadcast Político <i class=\"ico-arrow-right\"></i> </a> </li> <li> <a href=\"http://economia.estadao.com.br/broadcast/\" > Broadcast Econômico <i class=\"ico-arrow-right\"></i> </a> </li> </ul> </div> </div> </div> </div> </section></header><div class=\"clearfix\"></div> <img src=\"https://statics.estadao.com.br/s2016/portal/img/others/logo-black-print.png\" class=\"logo-for-print\" style=\"display: none;\" /><section class=\"col-md-12 col-sm-12 col-xs-12 htopo-style\"><div id=\\'htopo-0\\' class=\\'publicidade dfp\\' data-screenmap=\\'Horizontal_Max_N_T_100\\' data-target=\\'{\"formato\":\"htopo\",\"page_url\":\"politica.estadao.com.br,eleicoes,2020,candidatos\",\"pg_tipo\":\"eleicoes\",\"tags\":false}\\' data-status=\\'init\\' ></div></section> <section class=\"container editorial\" id=\"\"> <div class=\"row\"> <section class=\"col-md-8 col-sm-12 col-xs-12 content\"> <div class=\"row\"> <div class=\"col-xs-12\"> <div class=\"mold-busca\"> <h2 class=\"title-secundary uppercase cor-e\" title=\"Busque Seu Candidato\">Busque Seu Candidato</h2> <form action=\"/eleicoes/2020/busca\" method=\"get\" class=\"form-busca-candidatos\"> <div class=\"mold-content-busca \"> <div class=\"form-row\"> <div class=\"form-group col input-uf\"> <div class=\"custom-select \"> <select id=\"sel-est-candidatos\" name=\"sigla_uf\" class=\"form-control\"> <option value=\"\">UF</option> <option value=\"ac\" >AC</option> <option value=\"al\" >AL</option> <option value=\"ap\" >AP</option> <option value=\"am\" >AM</option> <option value=\"ba\" >BA</option> <option value=\"ce\" >CE</option> <option value=\"es\" >ES</option> <option value=\"go\" >GO</option> <option value=\"ma\" >MA</option> <option value=\"mt\" >MT</option> <option value=\"ms\" >MS</option> <option value=\"mg\" >MG</option> <option value=\"pa\" >PA</option> <option value=\"pb\" >PB</option> <option value=\"pr\" >PR</option> <option value=\"pe\" >PE</option> <option value=\"pi\" >PI</option> <option value=\"rj\" >RJ</option> <option value=\"rn\" >RN</option> <option value=\"rs\" >RS</option> <option value=\"ro\" >RO</option> <option value=\"rr\" >RR</option> <option value=\"sc\" >SC</option> <option value=\"sp\" >SP</option> <option value=\"se\" >SE</option> <option value=\"to\" >TO</option> </select> </div> </div> <div class=\"form-group col input-cidades\"> <div class=\"mold-autocomplete-select\"> <div class=\"autocomplete-select \"> <div class=\"autocomplete\"> <input type=\"text\" autocomplete=\"off\" class=\"autocomplete-input uppercase\" name=\"municipio_search\" placeholder=\"Cidade\" value=\"\" disabled> <div class=\"autocomplete-list\"> <ul></ul> <img class=\"loading-autocomplete\" src=\"https://statics.estadao.com.br/s2016/portal/eleicoes2020/img/svg/loading-autocomplete.svg\" alt=\"Loading\" /> </div> </div> </div> </div> </div> <div class=\"form-group col input-busca \"> <input type=\"text\" name=\"search\" class=\"form-control\" placeholder=\"Nome ou n. do candidato\" data-js=\"input-search\" value=\"\"> </div> </div> <div class=\"busca-body\"> <div class=\"form-row\"> <div class=\"form-group col input-partido\"> <div class=\"custom-dropdown \"> <div class=\"form-control\" data-js=\"custom-dropdown\"> <span class=\"item-label\">Partido</span> <span class=\"item-valor\"></span> </div> <ul class=\"custom-dropdown-menu\" role=\"menu\"> <li role=\"presentation\"> <label class=\"list-checked\"> <input class=\"input\" type=\"checkbox\" name=\"sigla_partido[]\" value=\"AVANTE\" > <div class=\"item\"><span>Avante</span></div> </label> </li> <li role=\"presentation\"> <label class=\"list-checked\"> <input class=\"input\" type=\"checkbox\" name=\"sigla_partido[]\" value=\"CIDADANIA\" > <div class=\"item\"><span>Cidadania</span></div> </label> </li> <li role=\"presentation\"> <label class=\"list-checked\"> <input class=\"input\" type=\"checkbox\" name=\"sigla_partido[]\" value=\"DC\" > <div class=\"item\"><span>dc</span></div> </label> </li> <li role=\"presentation\"> <label class=\"list-checked\"> <input class=\"input\" type=\"checkbox\" name=\"sigla_partido[]\" value=\"DEM\" > <div class=\"item\"><span>Dem</span></div> </label> </li> <li role=\"presentation\"> <label class=\"list-checked\"> <input class=\"input\" type=\"checkbox\" name=\"sigla_partido[]\" value=\"MDB\" > <div class=\"item\"><span>Mdb</span></div> </label> </li> <li role=\"presentation\"> <label class=\"list-checked\"> <input class=\"input\" type=\"checkbox\" name=\"sigla_partido[]\" value=\"NOVO\" > <div class=\"item\"><span>Novo</span></div> </label> </li> <li role=\"presentation\"> <label class=\"list-checked\"> <input class=\"input\" type=\"checkbox\" name=\"sigla_partido[]\" value=\"PATRIOTA\" > <div class=\"item\"><span>PATRIOTA</span></div> </label> </li> <li role=\"presentation\"> <label class=\"list-checked\"> <input class=\"input\" type=\"checkbox\" name=\"sigla_partido[]\" value=\"PC do B\" > <div class=\"item\"><span>PC do B</span></div> </label> </li> <li role=\"presentation\"> <label class=\"list-checked\"> <input class=\"input\" type=\"checkbox\" name=\"sigla_partido[]\" value=\"PCB\" > <div class=\"item\"><span>Pcb</span></div> </label> </li> <li role=\"presentation\"> <label class=\"list-checked\"> <input class=\"input\" type=\"checkbox\" name=\"sigla_partido[]\" value=\"PCO\" > <div class=\"item\"><span>Pco</span></div> </label> </li> <li role=\"presentation\"> <label class=\"list-checked\"> <input class=\"input\" type=\"checkbox\" name=\"sigla_partido[]\" value=\"PDT\" > <div class=\"item\"><span>Pdt</span></div> </label> </li> <li role=\"presentation\"> <label class=\"list-checked\"> <input class=\"input\" type=\"checkbox\" name=\"sigla_partido[]\" value=\"PL\" > <div class=\"item\"><span>Pl</span></div> </label> </li> <li role=\"presentation\"> <label class=\"list-checked\"> <input class=\"input\" type=\"checkbox\" name=\"sigla_partido[]\" value=\"PMB\" > <div class=\"item\"><span>Pmb</span></div> </label> </li> <li role=\"presentation\"> <label class=\"list-checked\"> <input class=\"input\" type=\"checkbox\" name=\"sigla_partido[]\" value=\"PMN\" > <div class=\"item\"><span>Pmn</span></div> </label> </li> <li role=\"presentation\"> <label class=\"list-checked\"> <input class=\"input\" type=\"checkbox\" name=\"sigla_partido[]\" value=\"PODE\" > <div class=\"item\"><span>Pode</span></div> </label> </li> <li role=\"presentation\"> <label class=\"list-checked\"> <input class=\"input\" type=\"checkbox\" name=\"sigla_partido[]\" value=\"PP\" > <div class=\"item\"><span>Pp</span></div> </label> </li> <li role=\"presentation\"> <label class=\"list-checked\"> <input class=\"input\" type=\"checkbox\" name=\"sigla_partido[]\" value=\"PROS\" > <div class=\"item\"><span>Pros</span></div> </label> </li> <li role=\"presentation\"> <label class=\"list-checked\"> <input class=\"input\" type=\"checkbox\" name=\"sigla_partido[]\" value=\"PRTB\" > <div class=\"item\"><span>Prtb</span></div> </label> </li> <li role=\"presentation\"> <label class=\"list-checked\"> <input class=\"input\" type=\"checkbox\" name=\"sigla_partido[]\" value=\"PSC\" > <div class=\"item\"><span>Psc</span></div> </label> </li> <li role=\"presentation\"> <label class=\"list-checked\"> <input class=\"input\" type=\"checkbox\" name=\"sigla_partido[]\" value=\"PSD\" > <div class=\"item\"><span>Psd</span></div> </label> </li> <li role=\"presentation\"> <label class=\"list-checked\"> <input class=\"input\" type=\"checkbox\" name=\"sigla_partido[]\" value=\"PSDB\" > <div class=\"item\"><span>Psdb</span></div> </label> </li> <li role=\"presentation\"> <label class=\"list-checked\"> <input class=\"input\" type=\"checkbox\" name=\"sigla_partido[]\" value=\"PSL\" > <div class=\"item\"><span>Psl</span></div> </label> </li> <li role=\"presentation\"> <label class=\"list-checked\"> <input class=\"input\" type=\"checkbox\" name=\"sigla_partido[]\" value=\"PSOL\" > <div class=\"item\"><span>Psol</span></div> </label> </li> <li role=\"presentation\"> <label class=\"list-checked\"> <input class=\"input\" type=\"checkbox\" name=\"sigla_partido[]\" value=\"PSTU\" > <div class=\"item\"><span>Pstu</span></div> </label> </li> <li role=\"presentation\"> <label class=\"list-checked\"> <input class=\"input\" type=\"checkbox\" name=\"sigla_partido[]\" value=\"PT\" > <div class=\"item\"><span>Pt</span></div> </label> </li> <li role=\"presentation\"> <label class=\"list-checked\"> <input class=\"input\" type=\"checkbox\" name=\"sigla_partido[]\" value=\"PTB\" > <div class=\"item\"><span>Ptb</span></div> </label> </li> <li role=\"presentation\"> <label class=\"list-checked\"> <input class=\"input\" type=\"checkbox\" name=\"sigla_partido[]\" value=\"PTC\" > <div class=\"item\"><span>Ptc</span></div> </label> </li> <li role=\"presentation\"> <label class=\"list-checked\"> <input class=\"input\" type=\"checkbox\" name=\"sigla_partido[]\" value=\"PV\" > <div class=\"item\"><span>Pv</span></div> </label> </li> <li role=\"presentation\"> <label class=\"list-checked\"> <input class=\"input\" type=\"checkbox\" name=\"sigla_partido[]\" value=\"REDE\" > <div class=\"item\"><span>Rede</span></div> </label> </li> <li role=\"presentation\"> <label class=\"list-checked\"> <input class=\"input\" type=\"checkbox\" name=\"sigla_partido[]\" value=\"REPUBLICANOS\" > <div class=\"item\"><span>Republicanos</span></div> </label> </li> <li role=\"presentation\"> <label class=\"list-checked\"> <input class=\"input\" type=\"checkbox\" name=\"sigla_partido[]\" value=\"SOLIDARIEDADE\" > <div class=\"item\"><span>Solidariedade</span></div> </label> </li> <li role=\"presentation\"> <label class=\"list-checked\"> <input class=\"input\" type=\"checkbox\" name=\"sigla_partido[]\" value=\"UP\" > <div class=\"item\"><span>Up</span></div> </label> </li> </ul> </div> </div> <div class=\"form-group col input-cargo\"> <div class=\"custom-dropdown \"> <div class=\"form-control\" data-js=\"custom-dropdown\"> <span class=\"item-label\">Cargo</span> <span class=\"item-valor\"></span> </div> <ul class=\"custom-dropdown-menu\" role=\"menu\"> <li role=\"presentation\"> <label class=\"list-checked\"> <input class=\"input\" type=\"checkbox\" name=\"descricao_cargo[]\" value=\"PREFEITO\" > <div class=\"item\"><span>Prefeito/a</span></div> </label> </li> <li role=\"presentation\"> <label class=\"list-checked\"> <input class=\"input\" type=\"checkbox\" name=\"descricao_cargo[]\" value=\"VICE-PREFEITO\" > <div class=\"item\"><span>Vice-Prefeito/a</span></div> </label> </li> <li role=\"presentation\"> <label class=\"list-checked\"> <input class=\"input\" type=\"checkbox\" name=\"descricao_cargo[]\" value=\"VEREADOR\" > <div class=\"item\"><span>Vereador/a</span></div> </label> </li> </ul> </div> </div> <div class=\"form-group col input-idade\"> <div class=\"custom-dropdown \"> <div class=\"form-control\" data-js=\"custom-dropdown\"> <span class=\"item-label\">Idade</span> <span class=\"item-valor\"></span> </div> <ul class=\"custom-dropdown-menu\" role=\"menu\"> <li role=\"presentation\"> <div class=\"form-group\"> <label for=\"label-control\" class=\"label-control\">De</label> <input type=\"text\" class=\"form-control\" name=\"idade_data_eleicao_min\" value=\"\" data-js=\"idade-field\"> </div> <div class=\"form-group\"> <label for=\"label-control\" class=\"label-control\">Até</label> <input type=\"text\" class=\"form-control\" name=\"idade_data_eleicao_max\" value=\"\" data-js=\"idade-field\"> </div> <button type=\"submit\" class=\"bt -bg-fill\" data-js=\"filtrar-range\" disabled=\"disabled\">Filtrar</button> </li> </ul> </div> </div> <div class=\"form-group col input-grau\"> <div class=\"custom-dropdown \"> <div class=\"form-control\" data-js=\"custom-dropdown\"> <span class=\"item-label\">Grau de Instrução</span> <span class=\"item-valor\"></span> </div> <ul class=\"custom-dropdown-menu\" role=\"menu\"> <li role=\"presentation\"> <label class=\"list-checked\"> <input class=\"input\" type=\"checkbox\" name=\"descricao_grau_instrucao[]\" value=\"SUPERIOR COMPLETO\" > <div class=\"item\"><span>Ensino Superior Completo</span></div> </label> </li> <li role=\"presentation\"> <label class=\"list-checked\"> <input class=\"input\" type=\"checkbox\" name=\"descricao_grau_instrucao[]\" value=\"SUPERIOR INCOMPLETO\" > <div class=\"item\"><span>Ensino Superior Incompleto</span></div> </label> </li> <li role=\"presentation\"> <label class=\"list-checked\"> <input class=\"input\" type=\"checkbox\" name=\"descricao_grau_instrucao[]\" value=\"ENSINO MÉDIO COMPLETO\" > <div class=\"item\"><span>Ensino Médio Completo</span></div> </label> </li> <li role=\"presentation\"> <label class=\"list-checked\"> <input class=\"input\" type=\"checkbox\" name=\"descricao_grau_instrucao[]\" value=\"ENSINO MÉDIO INCOMPLETO\" > <div class=\"item\"><span>Ensino Médio Incompleto</span></div> </label> </li> <li role=\"presentation\"> <label class=\"list-checked\"> <input class=\"input\" type=\"checkbox\" name=\"descricao_grau_instrucao[]\" value=\"ENSINO FUNDAMENTAL COMPLETO\" > <div class=\"item\"><span>Ensino Fundamental Completo</span></div> </label> </li> <li role=\"presentation\"> <label class=\"list-checked\"> <input class=\"input\" type=\"checkbox\" name=\"descricao_grau_instrucao[]\" value=\"ENSINO FUNDAMENTAL INCOMPLETO\" > <div class=\"item\"><span>Ensino Fundamental Incompleto</span></div> </label> </li> <li role=\"presentation\"> <label class=\"list-checked\"> <input class=\"input\" type=\"checkbox\" name=\"descricao_grau_instrucao[]\" value=\"LÊ E ESCREVE\" > <div class=\"item\"><span>Lê e Escreve</span></div> </label> </li> <li role=\"presentation\"> <label class=\"list-checked\"> <input class=\"input\" type=\"checkbox\" name=\"descricao_grau_instrucao[]\" value=\"ANALFABETO\" > <div class=\"item\"><span>Analfabeto</span></div> </label> </li> </ul> </div> </div> <div class=\"form-group col input-estado-civil\"> <div class=\"custom-dropdown \"> <div class=\"form-control\" data-js=\"custom-dropdown\"> <span class=\"item-label\">Estado Civil</span> <span class=\"item-valor\"></span> </div> <ul class=\"custom-dropdown-menu\" role=\"menu\"> <li role=\"presentation\"> <label class=\"list-checked\"> <input class=\"input\" type=\"checkbox\" name=\"descricao_estado_civil[]\" value=\"casado\" > <div class=\"item\"><span>Casado/a</span></div> </label> </li> <li role=\"presentation\"> <label class=\"list-checked\"> <input class=\"input\" type=\"checkbox\" name=\"descricao_estado_civil[]\" value=\"solteiro\" > <div class=\"item\"><span>Solteiro/a</span></div> </label> </li> <li role=\"presentation\"> <label class=\"list-checked\"> <input class=\"input\" type=\"checkbox\" name=\"descricao_estado_civil[]\" value=\"divorciado\" > <div class=\"item\"><span>Divorciado/a</span></div> </label> </li> <li role=\"presentation\"> <label class=\"list-checked\"> <input class=\"input\" type=\"checkbox\" name=\"descricao_estado_civil[]\" value=\"separado\" > <div class=\"item\"><span>Separado/a Judicialmente</span></div> </label> </li> <li role=\"presentation\"> <label class=\"list-checked\"> <input class=\"input\" type=\"checkbox\" name=\"descricao_estado_civil[]\" value=\"viúvo\" > <div class=\"item\"><span>Viúvo/a</span></div> </label> </li> </ul> </div> </div> <div class=\"form-group col input-genero\"> <div class=\"custom-dropdown \"> <div class=\"form-control\" data-js=\"custom-dropdown\"> <span class=\"item-label\">Gênero</span> <span class=\"item-valor\"></span> </div> <ul class=\"custom-dropdown-menu\" role=\"menu\"> <li role=\"presentation\"> <label class=\"list-checked\"> <input class=\"input\" type=\"checkbox\" name=\"descricao_sexo[]\" value=\"masculino\" > <div class=\"item\"><span>Masculino</span></div> </label> </li> <li role=\"presentation\"> <label class=\"list-checked\"> <input class=\"input\" type=\"checkbox\" name=\"descricao_sexo[]\" value=\"feminino\" > <div class=\"item\"><span>Feminino</span></div> </label> </li> </ul> </div> </div> <div class=\"form-group col input-etnia\"> <div class=\"custom-dropdown \"> <div class=\"form-control\" data-js=\"custom-dropdown\"> <span class=\"item-label\">Cor/raça</span> <span class=\"item-valor\"></span> </div> <ul class=\"custom-dropdown-menu\" role=\"menu\"> <li role=\"presentation\"> <label class=\"list-checked\"> <input class=\"input\" type=\"checkbox\" name=\"descricao_cor_raca[]\" value=\"amarela\" > <div class=\"item\"><span>Amarelo</span></div> </label> </li> <li role=\"presentation\"> <label class=\"list-checked\"> <input class=\"input\" type=\"checkbox\" name=\"descricao_cor_raca[]\" value=\"branca\" > <div class=\"item\"><span>Branco</span></div> </label> </li> <li role=\"presentation\"> <label class=\"list-checked\"> <input class=\"input\" type=\"checkbox\" name=\"descricao_cor_raca[]\" value=\"indígena\" > <div class=\"item\"><span>Indígena</span></div> </label> </li> <li role=\"presentation\"> <label class=\"list-checked\"> <input class=\"input\" type=\"checkbox\" name=\"descricao_cor_raca[]\" value=\"preta\" > <div class=\"item\"><span>Parda</span></div> </label> </li> <li role=\"presentation\"> <label class=\"list-checked\"> <input class=\"input\" type=\"checkbox\" name=\"descricao_cor_raca[]\" value=\"preta\" > <div class=\"item\"><span>Preta</span></div> </label> </li> <li role=\"presentation\"> <label class=\"list-checked\"> <input class=\"input\" type=\"checkbox\" name=\"descricao_cor_raca[]\" value=\"sem\" > <div class=\"item\"><span>Sem informação</span></div> </label> </li> </ul> </div> </div> <div class=\"form-group col input-despesas\"> <div class=\"custom-dropdown \"> <div class=\"form-control\" data-js=\"custom-dropdown\"> <span class=\"item-label\">Despesas</span> </div> <ul class=\"custom-dropdown-menu\" role=\"menu\"> <li role=\"presentation\"> <div class=\"form-group\"> <label for=\"label-control\" class=\"label-control\">De</label> <input type=\"text\" class=\"form-control\" name=\"despesa_min_campanha\" data-js=\"dolar-field\" placeholder=\"R$\" value=\"\"> </div> <div class=\"form-group\"> <label for=\"label-control\" class=\"label-control\">Até</label> <input type=\"text\" class=\"form-control\" name=\"despesa_max_campanha\" data-js=\"dolar-field\" placeholder=\"R$\" value=\"\"> </div> <button type=\"submit\" class=\"bt -bg-fill\" data-js=\"filtrar-range\" disabled=\"disabled\">Filtrar</button> </li> </ul> </div> </div> <div class=\"form-group col input-situacao\"> <div class=\"custom-dropdown \"> <div class=\"form-control\" data-js=\"custom-dropdown\"> <span class=\"item-label\">Situação da candidatura</span> <span class=\"item-valor\"></span> </div> <ul class=\"custom-dropdown-menu\" role=\"menu\"> <li role=\"presentation\"> <label class=\"list-checked\"> <input class=\"input\" type=\"checkbox\" name=\"cod_situacao_candidatura[]\" value=\"1\" > <div class=\"item\"><span>Cadastrado</span></div> </label> </li> <li role=\"presentation\"> <label class=\"list-checked\"> <input class=\"input\" type=\"checkbox\" name=\"cod_situacao_candidatura[]\" value=\"12\" > <div class=\"item\"><span>Apto</span></div> </label> </li> <li role=\"presentation\"> <label class=\"list-checked\"> <input class=\"input\" type=\"checkbox\" name=\"cod_situacao_candidatura[]\" value=\"3\" > <div class=\"item\"><span>Inapto</span></div> </label> </li> </ul> </div> </div> </div> </div> <div class=\"busca-bottom\"> <div class=\"form-row\"> <div class=\"form-group col input-button-mais\"> <a href=\"#\" class=\"bt -blue-full\" title=\"Mais\" data-js=\"button-mais\"> <i class=\"ico-arrow-down\"></i> </a> </div> <div class=\"form-group col input-button-buscar\"> <input type=\"submit\" class=\"bt -bg-fill\" value=\"Buscar\" data-js=\"button-buscar\" disabled=\"disabled\"> </div> </div> </div> </div> </form> </div></div><div class=\"col-xs-12\"> <div class=\"container-candidatos\"> <div class=\"mold-title\"> <h2 class=\"chapeu title-primary -black\" title=\"S&atilde;o Paulo - SP\"> <a href=\"https://politica.estadao.com.br/eleicoes/2020/candidatos/sp/sao-paulo\">S&atilde;o Paulo - SP</a> </h2> </div> <div class=\"mold-title-share\"> <h2 class=\"chapeu cor-e title-secundary uppercase\" title=\"Candidatos a prefeito\"> <a href=\"https://politica.estadao.com.br/eleicoes/2020/candidatos/sp/sao-paulo/prefeito\">Candidatos a prefeito</a> </h2> <ul class=\"share \"> <li class=\"hidden\"> <a href=\"javascript:void(0);\" class=\"balloon comentarios-balaozinho\" data-ancora=\\'noticia_1\\' title=\"Comentários\"> </a> </li> <li class=\"facebook \"> <a href=\"https://www.facebook.com/sharer/sharer.php?u=https://politica.estadao.com.br/eleicoes/2020/candidatos/sp/sao-paulo/prefeito%3Futm_source%3Destadao%3Afacebook%26utm_medium%3Dlink\" target=\"_blank\" class=\"ico-facebook\" title=\"Compartilhe pelo Facebook\" >&nbsp;</a> </li> <li class=\"whatsapp \"> <a href=\"whatsapp://send?text=Candidatos+a+prefeito+de+S%C3%A3o+Paulo+-+SP%20Estad%C3%A3o%3A%20https://politica.estadao.com.br/eleicoes/2020/candidatos/sp/sao-paulo/prefeito%3Futm_source%3Destadao%3Awhatsapp%26utm_medium%3Dlink\" class=\"ico-whatsapp\" title=\"Compartilhe pelo WhatsApp\">&nbsp;</a> </li> <li class=\"twitter \"> <a href=\"https://twitter.com/intent/tweet?text=Candidatos a prefeito de São Paulo - SP%20@estadao%3A%20&amp;url=https://politica.estadao.com.br/eleicoes/2020/candidatos/sp/sao-paulo/prefeito%3Futm_source%3Destadao%3Atwitter%26utm_medium%3Dlink\" target=\"_blank\" class=\"ico-twitter\" title=\"Compartilhe pelo Twitter\" >&nbsp;</a> </li> <li class=\"other \"> <a href=\"javascript:void(0);\" class=\"ico-dots-three-horizontal \" title=\"Mais compartilhamentos\" data-href=\"https://politica.estadao.com.br/eleicoes/2020/candidatos/sp/sao-paulo/prefeito\" data-title=\"Candidatos a prefeito de São Paulo - SP\">&nbsp;</a> <div class=\"share-more\" > <div class=\"share-total\" data-url=\"https://politica.estadao.com.br/eleicoes/2020/candidatos/sp/sao-paulo/prefeito\"></div> <ul> <li class=\"twitter\"> <a href=\"https://twitter.com/intent/tweet?text=Candidatos a prefeito de São Paulo - SP%20@estadao%3A%20&amp;url=https://politica.estadao.com.br/eleicoes/2020/candidatos/sp/sao-paulo/prefeito%3Futm_source%3Destadao%3Atwitter%26utm_medium%3Dlink\" target=\"_blank\" class=\"ico-twitter\" > <span>twitter</span> </a> </li> <li class=\"linkedin\"> <a href=\"https://www.linkedin.com/cws/share?url=https://politica.estadao.com.br/eleicoes/2020/candidatos/sp/sao-paulo/prefeito%3Futm_source%3Destadao%3Alinkedin%26utm_medium%3Dlink\" target=\"_blank\" class=\"ico-linkedin\" > <span>linkedin</span> </a> </li> <li class=\"email\"> <a href=\"mailto:?subject=Candidatos a prefeito de São Paulo - SP&amp;body=Candidatos a prefeito de São Paulo - SP - https://politica.estadao.com.br/eleicoes/2020/candidatos/sp/sao-paulo/prefeito%3Futm_source%3Destadao%3Amail%26utm_medium%3Dlink\" class=\"ico-envelope-o\" > <span>e-mail</span> </a> </li> <li class=\"print\"> <a href=\"javascript:window.print();\" class=\"ico-printer-text\" > <span>imprimir</span> </a> </li> </ul> </div> </li></ul> </div> <div class=\"mold-candidatos\"> <div class=\"list-candidatos\"> <div class=\"row\"> <div class=\"col-xs-12 -only\"> <a href=\"https://politica.estadao.com.br/eleicoes/2020/candidatos/sp/sao-paulo/prefeito/andrea-matarazzo,55\" title=\"andrea matarazzo\"> <div class=\"mold-cand \"> <div class=\"cand-mask\"> <img class=\"elazy\" onerror=this.onerror=null;this.src=&#039;https://statics.estadao.com.br/s2016/portal/eleicoes2020/img/img_placeholder.png&#039;; data-src=\"https://img.estadao.com.br/fotos/politica/eleicoes-2020/SP/FSP250000661535_div.jpg\" alt=\"andrea matarazzo\"/> </div> <div class=\"cand-desc\"> <h3 class=\"cand-name\">andrea matarazzo</h3> <span class=\"cand-partido\">PSD</span> </div> </div> </a> </div> <div class=\"col-xs-12 -only\"> <a href=\"https://politica.estadao.com.br/eleicoes/2020/candidatos/sp/sao-paulo/prefeito/antonio-carlos,29\" title=\"ant&ocirc;nio carlos\"> <div class=\"mold-cand \"> <div class=\"cand-mask\"> <img class=\"elazy\" onerror=this.onerror=null;this.src=&#039;https://statics.estadao.com.br/s2016/portal/eleicoes2020/img/img_placeholder.png&#039;; data-src=\"https://img.estadao.com.br/fotos/politica/eleicoes-2020/SP/FSP250001172314_div.jpg\" alt=\"ant&ocirc;nio carlos\"/> </div> <div class=\"cand-desc\"> <h3 class=\"cand-name\">ant&ocirc;nio carlos</h3> <span class=\"cand-partido\">PCO</span> </div> </div> </a> </div> <div class=\"col-xs-12 -only\"> <a href=\"https://politica.estadao.com.br/eleicoes/2020/candidatos/sp/sao-paulo/prefeito/arthur-do-val-mamae-falei,51\" title=\"arthur do val mam&atilde;e falei\"> <div class=\"mold-cand \"> <div class=\"cand-mask\"> <img class=\"elazy\" onerror=this.onerror=null;this.src=&#039;https://statics.estadao.com.br/s2016/portal/eleicoes2020/img/img_placeholder.png&#039;; data-src=\"https://img.estadao.com.br/fotos/politica/eleicoes-2020/SP/FSP250000641390_div.jpg\" alt=\"arthur do val mam&atilde;e falei\"/> </div> <div class=\"cand-desc\"> <h3 class=\"cand-name\">arthur do val mam&atilde;e falei</h3> <span class=\"cand-partido\">PATRIOTA</span> </div> </div> </a> </div> <div class=\"col-xs-12 -only\"> <a href=\"https://politica.estadao.com.br/eleicoes/2020/candidatos/sp/sao-paulo/prefeito/bruno-covas,45\" title=\"bruno covas\"> <div class=\"mold-cand -type-eleito\"> <div class=\"cand-mask\"> <img class=\"elazy\" onerror=this.onerror=null;this.src=&#039;https://statics.estadao.com.br/s2016/portal/eleicoes2020/img/img_placeholder.png&#039;; data-src=\"https://img.estadao.com.br/fotos/politica/eleicoes-2020/SP/FSP250000896546_div.jpg\" alt=\"bruno covas\"/> </div> <div class=\"cand-desc\"> <h3 class=\"cand-name\">bruno covas</h3> <span class=\"cand-partido\">PSDB</span> </div> </div> </a> </div> <div class=\"col-xs-12 -only\"> <a href=\"https://politica.estadao.com.br/eleicoes/2020/candidatos/sp/sao-paulo/prefeito/celso-russomanno,10\" title=\"celso russomanno\"> <div class=\"mold-cand \"> <div class=\"cand-mask\"> <img class=\"elazy\" onerror=this.onerror=null;this.src=&#039;https://statics.estadao.com.br/s2016/portal/eleicoes2020/img/img_placeholder.png&#039;; data-src=\"https://img.estadao.com.br/fotos/politica/eleicoes-2020/SP/FSP250001094597_div.jpg\" alt=\"celso russomanno\"/> </div> <div class=\"cand-desc\"> <h3 class=\"cand-name\">celso russomanno</h3> <span class=\"cand-partido\">REPUBLICANOS</span> </div> </div> </a> </div> <div class=\"col-xs-12 -only\"> <a href=\"https://politica.estadao.com.br/eleicoes/2020/candidatos/sp/sao-paulo/prefeito/guilherme-boulos,50\" title=\"guilherme boulos\"> <div class=\"mold-cand \"> <div class=\"cand-mask\"> <img class=\"elazy\" onerror=this.onerror=null;this.src=&#039;https://statics.estadao.com.br/s2016/portal/eleicoes2020/img/img_placeholder.png&#039;; data-src=\"https://img.estadao.com.br/fotos/politica/eleicoes-2020/SP/FSP250000746936_div.jpg\" alt=\"guilherme boulos\"/> </div> <div class=\"cand-desc\"> <h3 class=\"cand-name\">guilherme boulos</h3> <span class=\"cand-partido\">PSOL</span> </div> </div> </a> </div> <div class=\"col-xs-12 -only\"> <a href=\"https://politica.estadao.com.br/eleicoes/2020/candidatos/sp/sao-paulo/prefeito/jilmar-tatto,13\" title=\"jilmar tatto\"> <div class=\"mold-cand \"> <div class=\"cand-mask\"> <img class=\"elazy\" onerror=this.onerror=null;this.src=&#039;https://statics.estadao.com.br/s2016/portal/eleicoes2020/img/img_placeholder.png&#039;; data-src=\"https://img.estadao.com.br/fotos/politica/eleicoes-2020/SP/FSP250000755896_div.jpg\" alt=\"jilmar tatto\"/> </div> <div class=\"cand-desc\"> <h3 class=\"cand-name\">jilmar tatto</h3> <span class=\"cand-partido\">PT</span> </div> </div> </a> </div> <div class=\"col-xs-12 -only\"> <a href=\"https://politica.estadao.com.br/eleicoes/2020/candidatos/sp/sao-paulo/prefeito/joice-hasselmann,17\" title=\"joice hasselmann\"> <div class=\"mold-cand \"> <div class=\"cand-mask\"> <img class=\"elazy\" onerror=this.onerror=null;this.src=&#039;https://statics.estadao.com.br/s2016/portal/eleicoes2020/img/img_placeholder.png&#039;; data-src=\"https://img.estadao.com.br/fotos/politica/eleicoes-2020/SP/FSP250000658458_div.jpg\" alt=\"joice hasselmann\"/> </div> <div class=\"cand-desc\"> <h3 class=\"cand-name\">joice hasselmann</h3> <span class=\"cand-partido\">PSL</span> </div> </div> </a> </div> <div class=\"col-xs-12 -only\"> <a href=\"https://politica.estadao.com.br/eleicoes/2020/candidatos/sp/sao-paulo/prefeito/levy-fidelix,28\" title=\"levy fidelix\"> <div class=\"mold-cand \"> <div class=\"cand-mask\"> <img class=\"elazy\" onerror=this.onerror=null;this.src=&#039;https://statics.estadao.com.br/s2016/portal/eleicoes2020/img/img_placeholder.png&#039;; data-src=\"https://img.estadao.com.br/fotos/politica/eleicoes-2020/SP/FSP250001013564_div.jpg\" alt=\"levy fidelix\"/> </div> <div class=\"cand-desc\"> <h3 class=\"cand-name\">levy fidelix</h3> <span class=\"cand-partido\">PRTB</span> </div> </div> </a> </div> <div class=\"col-xs-12 -only\"> <a href=\"https://politica.estadao.com.br/eleicoes/2020/candidatos/sp/sao-paulo/prefeito/marina-helou,18\" title=\"marina helou\"> <div class=\"mold-cand \"> <div class=\"cand-mask\"> <img class=\"elazy\" onerror=this.onerror=null;this.src=&#039;https://statics.estadao.com.br/s2016/portal/eleicoes2020/img/img_placeholder.png&#039;; data-src=\"https://img.estadao.com.br/fotos/politica/eleicoes-2020/SP/FSP250001152470_div.jpg\" alt=\"marina helou\"/> </div> <div class=\"cand-desc\"> <h3 class=\"cand-name\">marina helou</h3> <span class=\"cand-partido\">REDE</span> </div> </div> </a> </div> <div class=\"col-xs-12 -only\"> <a href=\"https://politica.estadao.com.br/eleicoes/2020/candidatos/sp/sao-paulo/prefeito/marcio-franca,40\" title=\"m&aacute;rcio fran&ccedil;a\"> <div class=\"mold-cand \"> <div class=\"cand-mask\"> <img class=\"elazy\" onerror=this.onerror=null;this.src=&#039;https://statics.estadao.com.br/s2016/portal/eleicoes2020/img/img_placeholder.png&#039;; data-src=\"https://img.estadao.com.br/fotos/politica/eleicoes-2020/SP/FSP250001012981_div.jpg\" alt=\"m&aacute;rcio fran&ccedil;a\"/> </div> <div class=\"cand-desc\"> <h3 class=\"cand-name\">m&aacute;rcio fran&ccedil;a</h3> <span class=\"cand-partido\">PSB</span> </div> </div> </a> </div> <div class=\"col-xs-12 -only\"> <a href=\"https://politica.estadao.com.br/eleicoes/2020/candidatos/sp/sao-paulo/prefeito/orlando-silva,65\" title=\"orlando silva\"> <div class=\"mold-cand \"> <div class=\"cand-mask\"> <img class=\"elazy\" onerror=this.onerror=null;this.src=&#039;https://statics.estadao.com.br/s2016/portal/eleicoes2020/img/img_placeholder.png&#039;; data-src=\"https://img.estadao.com.br/fotos/politica/eleicoes-2020/SP/FSP250000766422_div.jpg\" alt=\"orlando silva\"/> </div> <div class=\"cand-desc\"> <h3 class=\"cand-name\">orlando silva</h3> <span class=\"cand-partido\">PC do B</span> </div> </div> </a> </div> <div class=\"col-xs-12 -only\"> <a href=\"https://politica.estadao.com.br/eleicoes/2020/candidatos/sp/sao-paulo/prefeito/sabara,30\" title=\"sabar&aacute;\"> <div class=\"mold-cand \"> <div class=\"cand-mask\"> <img class=\"elazy\" onerror=this.onerror=null;this.src=&#039;https://statics.estadao.com.br/s2016/portal/eleicoes2020/img/img_placeholder.png&#039;; data-src=\"https://img.estadao.com.br/fotos/politica/eleicoes-2020/SP/FSP250000693062_div.jpg\" alt=\"sabar&aacute;\"/> </div> <div class=\"cand-desc\"> <h3 class=\"cand-name\">sabar&aacute;</h3> <span class=\"cand-partido\">NOVO</span> </div> </div> </a> </div> <div class=\"col-xs-12 -only\"> <a href=\"https://politica.estadao.com.br/eleicoes/2020/candidatos/sp/sao-paulo/prefeito/vera,16\" title=\"vera\"> <div class=\"mold-cand \"> <div class=\"cand-mask\"> <img class=\"elazy\" onerror=this.onerror=null;this.src=&#039;https://statics.estadao.com.br/s2016/portal/eleicoes2020/img/img_placeholder.png&#039;; data-src=\"https://img.estadao.com.br/fotos/politica/eleicoes-2020/SP/FSP250000744464_div.jpg\" alt=\"vera\"/> </div> <div class=\"cand-desc\"> <h3 class=\"cand-name\">vera</h3> <span class=\"cand-partido\">PSTU</span> </div> </div> </a> </div> </div></div> <div class=\"row-link-arrow\"> <a class=\"link-arrow cor-e uppercase\" href=\"https://politica.estadao.com.br/eleicoes/2020/candidatos/sp/sao-paulo/vereador\"> <span>Veja os candidatos a vereador</span> <i class=\"ico-arrow-right\"></i> </a> </div> </div> </div></div><div class=\"col-xs-12\"> <div class=\"container-candidatos\"> <div class=\"mold-title\"> <h2 class=\"chapeu title-primary -black\" title=\"Rio de Janeiro - RJ\"> <a href=\"https://politica.estadao.com.br/eleicoes/2020/candidatos/rj/rio-de-janeiro\">Rio de Janeiro - RJ</a> </h2> </div> <div class=\"mold-title-share\"> <h2 class=\"chapeu cor-e title-secundary uppercase\" title=\"Candidatos a prefeito\"> <a href=\"https://politica.estadao.com.br/eleicoes/2020/candidatos/rj/rio-de-janeiro/prefeito\">Candidatos a prefeito</a> </h2> <ul class=\"share \"> <li class=\"hidden\"> <a href=\"javascript:void(0);\" class=\"balloon comentarios-balaozinho\" data-ancora=\\'noticia_1\\' title=\"Comentários\"> </a> </li> <li class=\"facebook \"> <a href=\"https://www.facebook.com/sharer/sharer.php?u=https://politica.estadao.com.br/eleicoes/2020/candidatos/rj/rio-de-janeiro/prefeito%3Futm_source%3Destadao%3Afacebook%26utm_medium%3Dlink\" target=\"_blank\" class=\"ico-facebook\" title=\"Compartilhe pelo Facebook\" >&nbsp;</a> </li> <li class=\"whatsapp \"> <a href=\"whatsapp://send?text=Candidatos+a+prefeito+de+Rio+de+Janeiro+-+RJ%20Estad%C3%A3o%3A%20https://politica.estadao.com.br/eleicoes/2020/candidatos/rj/rio-de-janeiro/prefeito%3Futm_source%3Destadao%3Awhatsapp%26utm_medium%3Dlink\" class=\"ico-whatsapp\" title=\"Compartilhe pelo WhatsApp\">&nbsp;</a> </li> <li class=\"twitter \"> <a href=\"https://twitter.com/intent/tweet?text=Candidatos a prefeito de Rio de Janeiro - RJ%20@estadao%3A%20&amp;url=https://politica.estadao.com.br/eleicoes/2020/candidatos/rj/rio-de-janeiro/prefeito%3Futm_source%3Destadao%3Atwitter%26utm_medium%3Dlink\" target=\"_blank\" class=\"ico-twitter\" title=\"Compartilhe pelo Twitter\" >&nbsp;</a> </li> <li class=\"other \"> <a href=\"javascript:void(0);\" class=\"ico-dots-three-horizontal \" title=\"Mais compartilhamentos\" data-href=\"https://politica.estadao.com.br/eleicoes/2020/candidatos/rj/rio-de-janeiro/prefeito\" data-title=\"Candidatos a prefeito de Rio de Janeiro - RJ\">&nbsp;</a> <div class=\"share-more\" > <div class=\"share-total\" data-url=\"https://politica.estadao.com.br/eleicoes/2020/candidatos/rj/rio-de-janeiro/prefeito\"></div> <ul> <li class=\"twitter\"> <a href=\"https://twitter.com/intent/tweet?text=Candidatos a prefeito de Rio de Janeiro - RJ%20@estadao%3A%20&amp;url=https://politica.estadao.com.br/eleicoes/2020/candidatos/rj/rio-de-janeiro/prefeito%3Futm_source%3Destadao%3Atwitter%26utm_medium%3Dlink\" target=\"_blank\" class=\"ico-twitter\" > <span>twitter</span> </a> </li> <li class=\"linkedin\"> <a href=\"https://www.linkedin.com/cws/share?url=https://politica.estadao.com.br/eleicoes/2020/candidatos/rj/rio-de-janeiro/prefeito%3Futm_source%3Destadao%3Alinkedin%26utm_medium%3Dlink\" target=\"_blank\" class=\"ico-linkedin\" > <span>linkedin</span> </a> </li> <li class=\"email\"> <a href=\"mailto:?subject=Candidatos a prefeito de Rio de Janeiro - RJ&amp;body=Candidatos a prefeito de Rio de Janeiro - RJ - https://politica.estadao.com.br/eleicoes/2020/candidatos/rj/rio-de-janeiro/prefeito%3Futm_source%3Destadao%3Amail%26utm_medium%3Dlink\" class=\"ico-envelope-o\" > <span>e-mail</span> </a> </li> <li class=\"print\"> <a href=\"javascript:window.print();\" class=\"ico-printer-text\" > <span>imprimir</span> </a> </li> </ul> </div> </li></ul> </div> <div class=\"mold-candidatos\"> <div class=\"list-candidatos\"> <div class=\"row\"> <div class=\"col-xs-12 -only\"> <a href=\"https://politica.estadao.com.br/eleicoes/2020/candidatos/rj/rio-de-janeiro/prefeito/bandeira-de-mello,18\" title=\"bandeira de mello\"> <div class=\"mold-cand \"> <div class=\"cand-mask\"> <img class=\"elazy\" onerror=this.onerror=null;this.src=&#039;https://statics.estadao.com.br/s2016/portal/eleicoes2020/img/img_placeholder.png&#039;; data-src=\"https://img.estadao.com.br/fotos/politica/eleicoes-2020/RJ/FRJ190001156278_div.jpg\" alt=\"bandeira de mello\"/> </div> <div class=\"cand-desc\"> <h3 class=\"cand-name\">bandeira de mello</h3> <span class=\"cand-partido\">REDE</span> </div> </div> </a> </div> <div class=\"col-xs-12 -only\"> <a href=\"https://politica.estadao.com.br/eleicoes/2020/candidatos/rj/rio-de-janeiro/prefeito/benedita-da-silva,13\" title=\"benedita da silva\"> <div class=\"mold-cand \"> <div class=\"cand-mask\"> <img class=\"elazy\" onerror=this.onerror=null;this.src=&#039;https://statics.estadao.com.br/s2016/portal/eleicoes2020/img/img_placeholder.png&#039;; data-src=\"https://img.estadao.com.br/fotos/politica/eleicoes-2020/RJ/FRJ190000945336_div.jpg\" alt=\"benedita da silva\"/> </div> <div class=\"cand-desc\"> <h3 class=\"cand-name\">benedita da silva</h3> <span class=\"cand-partido\">PT</span> </div> </div> </a> </div> <div class=\"col-xs-12 -only\"> <a href=\"https://politica.estadao.com.br/eleicoes/2020/candidatos/rj/rio-de-janeiro/prefeito/clarissa-garotinho,90\" title=\"clarissa garotinho\"> <div class=\"mold-cand \"> <div class=\"cand-mask\"> <img class=\"elazy\" onerror=this.onerror=null;this.src=&#039;https://statics.estadao.com.br/s2016/portal/eleicoes2020/img/img_placeholder.png&#039;; data-src=\"https://img.estadao.com.br/fotos/politica/eleicoes-2020/RJ/FRJ190000688300_div.jpg\" alt=\"clarissa garotinho\"/> </div> <div class=\"cand-desc\"> <h3 class=\"cand-name\">clarissa garotinho</h3> <span class=\"cand-partido\">PROS</span> </div> </div> </a> </div> <div class=\"col-xs-12 -only\"> <a href=\"https://politica.estadao.com.br/eleicoes/2020/candidatos/rj/rio-de-janeiro/prefeito/crivella,10\" title=\"crivella\"> <div class=\"mold-cand \"> <div class=\"cand-mask\"> <img class=\"elazy\" onerror=this.onerror=null;this.src=&#039;https://statics.estadao.com.br/s2016/portal/eleicoes2020/img/img_placeholder.png&#039;; data-src=\"https://img.estadao.com.br/fotos/politica/eleicoes-2020/RJ/FRJ190000684240_div.jpg\" alt=\"crivella\"/> </div> <div class=\"cand-desc\"> <h3 class=\"cand-name\">crivella</h3> <span class=\"cand-partido\">REPUBLICANOS</span> </div> </div> </a> </div> <div class=\"col-xs-12 -only\"> <a href=\"https://politica.estadao.com.br/eleicoes/2020/candidatos/rj/rio-de-janeiro/prefeito/cyro-garcia,16\" title=\"cyro garcia\"> <div class=\"mold-cand \"> <div class=\"cand-mask\"> <img class=\"elazy\" onerror=this.onerror=null;this.src=&#039;https://statics.estadao.com.br/s2016/portal/eleicoes2020/img/img_placeholder.png&#039;; data-src=\"https://img.estadao.com.br/fotos/politica/eleicoes-2020/RJ/FRJ190000858699_div.jpg\" alt=\"cyro garcia\"/> </div> <div class=\"cand-desc\"> <h3 class=\"cand-name\">cyro garcia</h3> <span class=\"cand-partido\">PSTU</span> </div> </div> </a> </div> <div class=\"col-xs-12 -only\"> <a href=\"https://politica.estadao.com.br/eleicoes/2020/candidatos/rj/rio-de-janeiro/prefeito/delegada-martha-rocha,12\" title=\"delegada martha rocha\"> <div class=\"mold-cand \"> <div class=\"cand-mask\"> <img class=\"elazy\" onerror=this.onerror=null;this.src=&#039;https://statics.estadao.com.br/s2016/portal/eleicoes2020/img/img_placeholder.png&#039;; data-src=\"https://img.estadao.com.br/fotos/politica/eleicoes-2020/RJ/FRJ190000945200_div.jpg\" alt=\"delegada martha rocha\"/> </div> <div class=\"cand-desc\"> <h3 class=\"cand-name\">delegada martha rocha</h3> <span class=\"cand-partido\">PDT</span> </div> </div> </a> </div> <div class=\"col-xs-12 -only\"> <a href=\"https://politica.estadao.com.br/eleicoes/2020/candidatos/rj/rio-de-janeiro/prefeito/eduardo-paes,25\" title=\"eduardo paes\"> <div class=\"mold-cand -type-eleito\"> <div class=\"cand-mask\"> <img class=\"elazy\" onerror=this.onerror=null;this.src=&#039;https://statics.estadao.com.br/s2016/portal/eleicoes2020/img/img_placeholder.png&#039;; data-src=\"https://img.estadao.com.br/fotos/politica/eleicoes-2020/RJ/FRJ190000688286_div.jpg\" alt=\"eduardo paes\"/> </div> <div class=\"cand-desc\"> <h3 class=\"cand-name\">eduardo paes</h3> <span class=\"cand-partido\">DEM</span> </div> </div> </a> </div> <div class=\"col-xs-12 -only\"> <a href=\"https://politica.estadao.com.br/eleicoes/2020/candidatos/rj/rio-de-janeiro/prefeito/fred-luz,30\" title=\"fred luz\"> <div class=\"mold-cand \"> <div class=\"cand-mask\"> <img class=\"elazy\" onerror=this.onerror=null;this.src=&#039;https://statics.estadao.com.br/s2016/portal/eleicoes2020/img/img_placeholder.png&#039;; data-src=\"https://img.estadao.com.br/fotos/politica/eleicoes-2020/RJ/FRJ190000641672_div.jpg\" alt=\"fred luz\"/> </div> <div class=\"cand-desc\"> <h3 class=\"cand-name\">fred luz</h3> <span class=\"cand-partido\">NOVO</span> </div> </div> </a> </div> <div class=\"col-xs-12 -only\"> <a href=\"https://politica.estadao.com.br/eleicoes/2020/candidatos/rj/rio-de-janeiro/prefeito/gloria-heloiza,20\" title=\"gl&oacute;ria heloiza\"> <div class=\"mold-cand \"> <div class=\"cand-mask\"> <img class=\"elazy\" onerror=this.onerror=null;this.src=&#039;https://statics.estadao.com.br/s2016/portal/eleicoes2020/img/img_placeholder.png&#039;; data-src=\"https://img.estadao.com.br/fotos/politica/eleicoes-2020/RJ/FRJ190001005298_div.jpg\" alt=\"gl&oacute;ria heloiza\"/> </div> <div class=\"cand-desc\"> <h3 class=\"cand-name\">gl&oacute;ria heloiza</h3> <span class=\"cand-partido\">PSC</span> </div> </div> </a> </div> <div class=\"col-xs-12 -only\"> <a href=\"https://politica.estadao.com.br/eleicoes/2020/candidatos/rj/rio-de-janeiro/prefeito/henrique-simonard,29\" title=\"henrique simonard\"> <div class=\"mold-cand \"> <div class=\"cand-mask\"> <img class=\"elazy\" onerror=this.onerror=null;this.src=&#039;https://statics.estadao.com.br/s2016/portal/eleicoes2020/img/img_placeholder.png&#039;; data-src=\"https://img.estadao.com.br/fotos/politica/eleicoes-2020/RJ/FRJ190001091134_div.jpg\" alt=\"henrique simonard\"/> </div> <div class=\"cand-desc\"> <h3 class=\"cand-name\">henrique simonard</h3> <span class=\"cand-partido\">PCO</span> </div> </div> </a> </div> <div class=\"col-xs-12 -only\"> <a href=\"https://politica.estadao.com.br/eleicoes/2020/candidatos/rj/rio-de-janeiro/prefeito/luiz-lima,17\" title=\"luiz lima\"> <div class=\"mold-cand \"> <div class=\"cand-mask\"> <img class=\"elazy\" onerror=this.onerror=null;this.src=&#039;https://statics.estadao.com.br/s2016/portal/eleicoes2020/img/img_placeholder.png&#039;; data-src=\"https://img.estadao.com.br/fotos/politica/eleicoes-2020/RJ/FRJ190000885034_div.jpg\" alt=\"luiz lima\"/> </div> <div class=\"cand-desc\"> <h3 class=\"cand-name\">luiz lima</h3> <span class=\"cand-partido\">PSL</span> </div> </div> </a> </div> <div class=\"col-xs-12 -only\"> <a href=\"https://politica.estadao.com.br/eleicoes/2020/candidatos/rj/rio-de-janeiro/prefeito/paulo-messina,15\" title=\"paulo messina\"> <div class=\"mold-cand \"> <div class=\"cand-mask\"> <img class=\"elazy\" onerror=this.onerror=null;this.src=&#039;https://statics.estadao.com.br/s2016/portal/eleicoes2020/img/img_placeholder.png&#039;; data-src=\"https://img.estadao.com.br/fotos/politica/eleicoes-2020/RJ/FRJ190000988467_div.jpg\" alt=\"paulo messina\"/> </div> <div class=\"cand-desc\"> <h3 class=\"cand-name\">paulo messina</h3> <span class=\"cand-partido\">MDB</span> </div> </div> </a> </div> <div class=\"col-xs-12 -only\"> <a href=\"https://politica.estadao.com.br/eleicoes/2020/candidatos/rj/rio-de-janeiro/prefeito/renata-souza,50\" title=\"renata souza\"> <div class=\"mold-cand \"> <div class=\"cand-mask\"> <img class=\"elazy\" onerror=this.onerror=null;this.src=&#039;https://statics.estadao.com.br/s2016/portal/eleicoes2020/img/img_placeholder.png&#039;; data-src=\"https://img.estadao.com.br/fotos/politica/eleicoes-2020/RJ/FRJ190000684522_div.jpg\" alt=\"renata souza\"/> </div> <div class=\"cand-desc\"> <h3 class=\"cand-name\">renata souza</h3> <span class=\"cand-partido\">PSOL</span> </div> </div> </a> </div> <div class=\"col-xs-12 -only\"> <a href=\"https://politica.estadao.com.br/eleicoes/2020/candidatos/rj/rio-de-janeiro/prefeito/sued-haidar,35\" title=\"su&ecirc;d haidar\"> <div class=\"mold-cand \"> <div class=\"cand-mask\"> <img class=\"elazy\" onerror=this.onerror=null;this.src=&#039;https://statics.estadao.com.br/s2016/portal/eleicoes2020/img/img_placeholder.png&#039;; data-src=\"https://img.estadao.com.br/fotos/politica/eleicoes-2020/RJ/FRJ190000946166_div.jpg\" alt=\"su&ecirc;d haidar\"/> </div> <div class=\"cand-desc\"> <h3 class=\"cand-name\">su&ecirc;d haidar</h3> <span class=\"cand-partido\">PMB</span> </div> </div> </a> </div> </div></div> <div class=\"row-link-arrow\"> <a class=\"link-arrow cor-e uppercase\" href=\"https://politica.estadao.com.br/eleicoes/2020/candidatos/rj/rio-de-janeiro/vereador\"> <span>Veja os candidatos a vereador</span> <i class=\"ico-arrow-right\"></i> </a> </div> </div> </div></div><div class=\"col-xs-12\"> <div class=\"container-candidatos\"> <div class=\"mold-title\"> <h2 class=\"chapeu title-primary -black\" title=\"Belo Horizonte - MG\"> <a href=\"https://politica.estadao.com.br/eleicoes/2020/candidatos/mg/belo-horizonte\">Belo Horizonte - MG</a> </h2> </div> <div class=\"mold-title-share\"> <h2 class=\"chapeu cor-e title-secundary uppercase\" title=\"Candidatos a prefeito\"> <a href=\"https://politica.estadao.com.br/eleicoes/2020/candidatos/mg/belo-horizonte/prefeito\">Candidatos a prefeito</a> </h2> <ul class=\"share \"> <li class=\"hidden\"> <a href=\"javascript:void(0);\" class=\"balloon comentarios-balaozinho\" data-ancora=\\'noticia_1\\' title=\"Comentários\"> </a> </li> <li class=\"facebook \"> <a href=\"https://www.facebook.com/sharer/sharer.php?u=https://politica.estadao.com.br/eleicoes/2020/candidatos/mg/belo-horizonte/prefeito%3Futm_source%3Destadao%3Afacebook%26utm_medium%3Dlink\" target=\"_blank\" class=\"ico-facebook\" title=\"Compartilhe pelo Facebook\" >&nbsp;</a> </li> <li class=\"whatsapp \"> <a href=\"whatsapp://send?text=Candidatos+a+prefeito+de+Belo+Horizonte+-+MG%20Estad%C3%A3o%3A%20https://politica.estadao.com.br/eleicoes/2020/candidatos/mg/belo-horizonte/prefeito%3Futm_source%3Destadao%3Awhatsapp%26utm_medium%3Dlink\" class=\"ico-whatsapp\" title=\"Compartilhe pelo WhatsApp\">&nbsp;</a> </li> <li class=\"twitter \"> <a href=\"https://twitter.com/intent/tweet?text=Candidatos a prefeito de Belo Horizonte - MG%20@estadao%3A%20&amp;url=https://politica.estadao.com.br/eleicoes/2020/candidatos/mg/belo-horizonte/prefeito%3Futm_source%3Destadao%3Atwitter%26utm_medium%3Dlink\" target=\"_blank\" class=\"ico-twitter\" title=\"Compartilhe pelo Twitter\" >&nbsp;</a> </li> <li class=\"other \"> <a href=\"javascript:void(0);\" class=\"ico-dots-three-horizontal \" title=\"Mais compartilhamentos\" data-href=\"https://politica.estadao.com.br/eleicoes/2020/candidatos/mg/belo-horizonte/prefeito\" data-title=\"Candidatos a prefeito de Belo Horizonte - MG\">&nbsp;</a> <div class=\"share-more\" > <div class=\"share-total\" data-url=\"https://politica.estadao.com.br/eleicoes/2020/candidatos/mg/belo-horizonte/prefeito\"></div> <ul> <li class=\"twitter\"> <a href=\"https://twitter.com/intent/tweet?text=Candidatos a prefeito de Belo Horizonte - MG%20@estadao%3A%20&amp;url=https://politica.estadao.com.br/eleicoes/2020/candidatos/mg/belo-horizonte/prefeito%3Futm_source%3Destadao%3Atwitter%26utm_medium%3Dlink\" target=\"_blank\" class=\"ico-twitter\" > <span>twitter</span> </a> </li> <li class=\"linkedin\"> <a href=\"https://www.linkedin.com/cws/share?url=https://politica.estadao.com.br/eleicoes/2020/candidatos/mg/belo-horizonte/prefeito%3Futm_source%3Destadao%3Alinkedin%26utm_medium%3Dlink\" target=\"_blank\" class=\"ico-linkedin\" > <span>linkedin</span> </a> </li> <li class=\"email\"> <a href=\"mailto:?subject=Candidatos a prefeito de Belo Horizonte - MG&amp;body=Candidatos a prefeito de Belo Horizonte - MG - https://politica.estadao.com.br/eleicoes/2020/candidatos/mg/belo-horizonte/prefeito%3Futm_source%3Destadao%3Amail%26utm_medium%3Dlink\" class=\"ico-envelope-o\" > <span>e-mail</span> </a> </li> <li class=\"print\"> <a href=\"javascript:window.print();\" class=\"ico-printer-text\" > <span>imprimir</span> </a> </li> </ul> </div> </li></ul> </div> <div class=\"mold-candidatos\"> <div class=\"list-candidatos\"> <div class=\"row\"> <div class=\"col-xs-12 -only\"> <a href=\"https://politica.estadao.com.br/eleicoes/2020/candidatos/mg/belo-horizonte/prefeito/bruno-engler,28\" title=\"bruno engler\"> <div class=\"mold-cand \"> <div class=\"cand-mask\"> <img class=\"elazy\" onerror=this.onerror=null;this.src=&#039;https://statics.estadao.com.br/s2016/portal/eleicoes2020/img/img_placeholder.png&#039;; data-src=\"https://img.estadao.com.br/fotos/politica/eleicoes-2020/MG/FMG130001252256_div.jpg\" alt=\"bruno engler\"/> </div> <div class=\"cand-desc\"> <h3 class=\"cand-name\">bruno engler</h3> <span class=\"cand-partido\">PRTB</span> </div> </div> </a> </div> <div class=\"col-xs-12 -only\"> <a href=\"https://politica.estadao.com.br/eleicoes/2020/candidatos/mg/belo-horizonte/prefeito/bruno-engler,28\" title=\"bruno engler\"> <div class=\"mold-cand \"> <div class=\"cand-mask\"> <img class=\"elazy\" onerror=this.onerror=null;this.src=&#039;https://statics.estadao.com.br/s2016/portal/eleicoes2020/img/img_placeholder.png&#039;; data-src=\"https://img.estadao.com.br/fotos/politica/eleicoes-2020/MG/FMG130001226853_div.jpg\" alt=\"bruno engler\"/> </div> <div class=\"cand-desc\"> <h3 class=\"cand-name\">bruno engler</h3> <span class=\"cand-partido\">PRTB</span> </div> </div> </a> </div> <div class=\"col-xs-12 -only\"> <a href=\"https://politica.estadao.com.br/eleicoes/2020/candidatos/mg/belo-horizonte/prefeito/cabo-xavier,35\" title=\"cabo xavier\"> <div class=\"mold-cand \"> <div class=\"cand-mask\"> <img class=\"elazy\" onerror=this.onerror=null;this.src=&#039;https://statics.estadao.com.br/s2016/portal/eleicoes2020/img/img_placeholder.png&#039;; data-src=\"https://img.estadao.com.br/fotos/politica/eleicoes-2020/MG/FMG130001180688_div.jpg\" alt=\"cabo xavier\"/> </div> <div class=\"cand-desc\"> <h3 class=\"cand-name\">cabo xavier</h3> <span class=\"cand-partido\">PMB</span> </div> </div> </a> </div> <div class=\"col-xs-12 -only\"> <a href=\"https://politica.estadao.com.br/eleicoes/2020/candidatos/mg/belo-horizonte/prefeito/fabiano-cazeca,90\" title=\"fabiano cazeca\"> <div class=\"mold-cand \"> <div class=\"cand-mask\"> <img class=\"elazy\" onerror=this.onerror=null;this.src=&#039;https://statics.estadao.com.br/s2016/portal/eleicoes2020/img/img_placeholder.png&#039;; data-src=\"https://img.estadao.com.br/fotos/politica/eleicoes-2020/MG/FMG130000665121_div.jpg\" alt=\"fabiano cazeca\"/> </div> <div class=\"cand-desc\"> <h3 class=\"cand-name\">fabiano cazeca</h3> <span class=\"cand-partido\">PROS</span> </div> </div> </a> </div> <div class=\"col-xs-12 -only\"> <a href=\"https://politica.estadao.com.br/eleicoes/2020/candidatos/mg/belo-horizonte/prefeito/joao-vitor-xavier,23\" title=\"jo&atilde;o vitor xavier\"> <div class=\"mold-cand \"> <div class=\"cand-mask\"> <img class=\"elazy\" onerror=this.onerror=null;this.src=&#039;https://statics.estadao.com.br/s2016/portal/eleicoes2020/img/img_placeholder.png&#039;; data-src=\"https://img.estadao.com.br/fotos/politica/eleicoes-2020/MG/FMG130001140594_div.jpg\" alt=\"jo&atilde;o vitor xavier\"/> </div> <div class=\"cand-desc\"> <h3 class=\"cand-name\">jo&atilde;o vitor xavier</h3> <span class=\"cand-partido\">CIDADANIA</span> </div> </div> </a> </div> <div class=\"col-xs-12 -only\"> <a href=\"https://politica.estadao.com.br/eleicoes/2020/candidatos/mg/belo-horizonte/prefeito/kalil,55\" title=\"kalil\"> <div class=\"mold-cand -type-eleito\"> <div class=\"cand-mask\"> <img class=\"elazy\" onerror=this.onerror=null;this.src=&#039;https://statics.estadao.com.br/s2016/portal/eleicoes2020/img/img_placeholder.png&#039;; data-src=\"https://img.estadao.com.br/fotos/politica/eleicoes-2020/MG/FMG130000756879_div.jpg\" alt=\"kalil\"/> </div> <div class=\"cand-desc\"> <h3 class=\"cand-name\">kalil</h3> <span class=\"cand-partido\">PSD</span> </div> </div> </a> </div> <div class=\"col-xs-12 -only\"> <a href=\"https://politica.estadao.com.br/eleicoes/2020/candidatos/mg/belo-horizonte/prefeito/lafayette-andrada,10\" title=\"lafayette andrada\"> <div class=\"mold-cand \"> <div class=\"cand-mask\"> <img class=\"elazy\" onerror=this.onerror=null;this.src=&#039;https://statics.estadao.com.br/s2016/portal/eleicoes2020/img/img_placeholder.png&#039;; data-src=\"https://img.estadao.com.br/fotos/politica/eleicoes-2020/MG/FMG130001001426_div.jpg\" alt=\"lafayette andrada\"/> </div> <div class=\"cand-desc\"> <h3 class=\"cand-name\">lafayette andrada</h3> <span class=\"cand-partido\">REPUBLICANOS</span> </div> </div> </a> </div> <div class=\"col-xs-12 -only\"> <a href=\"https://politica.estadao.com.br/eleicoes/2020/candidatos/mg/belo-horizonte/prefeito/luisa-barreto,45\" title=\"luisa barreto\"> <div class=\"mold-cand \"> <div class=\"cand-mask\"> <img class=\"elazy\" onerror=this.onerror=null;this.src=&#039;https://statics.estadao.com.br/s2016/portal/eleicoes2020/img/img_placeholder.png&#039;; data-src=\"https://img.estadao.com.br/fotos/politica/eleicoes-2020/MG/FMG130000868277_div.jpg\" alt=\"luisa barreto\"/> </div> <div class=\"cand-desc\"> <h3 class=\"cand-name\">luisa barreto</h3> <span class=\"cand-partido\">PSDB</span> </div> </div> </a> </div> <div class=\"col-xs-12 -only\"> <a href=\"https://politica.estadao.com.br/eleicoes/2020/candidatos/mg/belo-horizonte/prefeito/marcelo-souza-e-silva,51\" title=\"marcelo souza e silva\"> <div class=\"mold-cand \"> <div class=\"cand-mask\"> <img class=\"elazy\" onerror=this.onerror=null;this.src=&#039;https://statics.estadao.com.br/s2016/portal/eleicoes2020/img/img_placeholder.png&#039;; data-src=\"https://img.estadao.com.br/fotos/politica/eleicoes-2020/MG/FMG130000658456_div.jpg\" alt=\"marcelo souza e silva\"/> </div> <div class=\"cand-desc\"> <h3 class=\"cand-name\">marcelo souza e silva</h3> <span class=\"cand-partido\">PATRIOTA</span> </div> </div> </a> </div> <div class=\"col-xs-12 -only\"> <a href=\"https://politica.estadao.com.br/eleicoes/2020/candidatos/mg/belo-horizonte/prefeito/marilia-domingues,29\" title=\"marilia domingues\"> <div class=\"mold-cand \"> <div class=\"cand-mask\"> <img class=\"elazy\" onerror=this.onerror=null;this.src=&#039;https://statics.estadao.com.br/s2016/portal/eleicoes2020/img/img_placeholder.png&#039;; data-src=\"https://img.estadao.com.br/fotos/politica/eleicoes-2020/MG/FMG130001181053_div.jpg\" alt=\"marilia domingues\"/> </div> <div class=\"cand-desc\"> <h3 class=\"cand-name\">marilia domingues</h3> <span class=\"cand-partido\">PCO</span> </div> </div> </a> </div> <div class=\"col-xs-12 -only\"> <a href=\"https://politica.estadao.com.br/eleicoes/2020/candidatos/mg/belo-horizonte/prefeito/nilmario-miranda,13\" title=\"nilm&aacute;rio miranda\"> <div class=\"mold-cand \"> <div class=\"cand-mask\"> <img class=\"elazy\" onerror=this.onerror=null;this.src=&#039;https://statics.estadao.com.br/s2016/portal/eleicoes2020/img/img_placeholder.png&#039;; data-src=\"https://img.estadao.com.br/fotos/politica/eleicoes-2020/MG/FMG130000704118_div.jpg\" alt=\"nilm&aacute;rio miranda\"/> </div> <div class=\"cand-desc\"> <h3 class=\"cand-name\">nilm&aacute;rio miranda</h3> <span class=\"cand-partido\">PT</span> </div> </div> </a> </div> <div class=\"col-xs-12 -only\"> <a href=\"https://politica.estadao.com.br/eleicoes/2020/candidatos/mg/belo-horizonte/prefeito/professor-wendel-mesquita,77\" title=\"professor wendel mesquita\"> <div class=\"mold-cand \"> <div class=\"cand-mask\"> <img class=\"elazy\" onerror=this.onerror=null;this.src=&#039;https://statics.estadao.com.br/s2016/portal/eleicoes2020/img/img_placeholder.png&#039;; data-src=\"https://img.estadao.com.br/fotos/politica/eleicoes-2020/MG/FMG130000944000_div.jpg\" alt=\"professor wendel mesquita\"/> </div> <div class=\"cand-desc\"> <h3 class=\"cand-name\">professor wendel mesquita</h3> <span class=\"cand-partido\">SOLIDARIEDADE</span> </div> </div> </a> </div> <div class=\"col-xs-12 -only\"> <a href=\"https://politica.estadao.com.br/eleicoes/2020/candidatos/mg/belo-horizonte/prefeito/rodrigo-paiva,30\" title=\"rodrigo paiva\"> <div class=\"mold-cand \"> <div class=\"cand-mask\"> <img class=\"elazy\" onerror=this.onerror=null;this.src=&#039;https://statics.estadao.com.br/s2016/portal/eleicoes2020/img/img_placeholder.png&#039;; data-src=\"https://img.estadao.com.br/fotos/politica/eleicoes-2020/MG/FMG130000639684_div.jpg\" alt=\"rodrigo paiva\"/> </div> <div class=\"cand-desc\"> <h3 class=\"cand-name\">rodrigo paiva</h3> <span class=\"cand-partido\">NOVO</span> </div> </div> </a> </div> <div class=\"col-xs-12 -only\"> <a href=\"https://politica.estadao.com.br/eleicoes/2020/candidatos/mg/belo-horizonte/prefeito/wadson-ribeiro,65\" title=\"wadson ribeiro\"> <div class=\"mold-cand \"> <div class=\"cand-mask\"> <img class=\"elazy\" onerror=this.onerror=null;this.src=&#039;https://statics.estadao.com.br/s2016/portal/eleicoes2020/img/img_placeholder.png&#039;; data-src=\"https://img.estadao.com.br/fotos/politica/eleicoes-2020/MG/FMG130000861189_div.jpg\" alt=\"wadson ribeiro\"/> </div> <div class=\"cand-desc\"> <h3 class=\"cand-name\">wadson ribeiro</h3> <span class=\"cand-partido\">PC do B</span> </div> </div> </a> </div> <div class=\"col-xs-12 -only\"> <a href=\"https://politica.estadao.com.br/eleicoes/2020/candidatos/mg/belo-horizonte/prefeito/wanderson-rocha,16\" title=\"wanderson rocha\"> <div class=\"mold-cand \"> <div class=\"cand-mask\"> <img class=\"elazy\" onerror=this.onerror=null;this.src=&#039;https://statics.estadao.com.br/s2016/portal/eleicoes2020/img/img_placeholder.png&#039;; data-src=\"https://img.estadao.com.br/fotos/politica/eleicoes-2020/MG/FMG130001172845_div.jpg\" alt=\"wanderson rocha\"/> </div> <div class=\"cand-desc\"> <h3 class=\"cand-name\">wanderson rocha</h3> <span class=\"cand-partido\">PSTU</span> </div> </div> </a> </div> <div class=\"col-xs-12 -only\"> <a href=\"https://politica.estadao.com.br/eleicoes/2020/candidatos/mg/belo-horizonte/prefeito/aurea-carolina,50\" title=\"&aacute;urea carolina\"> <div class=\"mold-cand \"> <div class=\"cand-mask\"> <img class=\"elazy\" onerror=this.onerror=null;this.src=&#039;https://statics.estadao.com.br/s2016/portal/eleicoes2020/img/img_placeholder.png&#039;; data-src=\"https://img.estadao.com.br/fotos/politica/eleicoes-2020/MG/FMG130000662154_div.jpg\" alt=\"&aacute;urea carolina\"/> </div> <div class=\"cand-desc\"> <h3 class=\"cand-name\">&aacute;urea carolina</h3> <span class=\"cand-partido\">PSOL</span> </div> </div> </a> </div> </div></div> <div class=\"row-link-arrow\"> <a class=\"link-arrow cor-e uppercase\" href=\"https://politica.estadao.com.br/eleicoes/2020/candidatos/mg/belo-horizonte/vereador\"> <span>Veja os candidatos a vereador</span> <i class=\"ico-arrow-right\"></i> </a> </div> </div> </div></div> </div> </section> <section class=\"col-md-4 col-sm-12 col-xs-12 content\"> <div class=\"row\"> <div style=\\'display:block;margin: 20px auto;\\'><div id=\\'tmeio1-1\\' class=\\'publicidade dfp\\' data-screenmap=\\'Tile_300_250_T_250\\' data-target=\\'{\"formato\":\"tmeio1\",\"page_url\":\"politica.estadao.com.br,eleicoes,2020,candidatos\",\"pg_tipo\":\"eleicoes\",\"tags\":false}\\' data-status=\\'init\\' ></div></div><section class=\"col-xs-12 maislidas-interno\"> <a href=\"http://www.estadao.com.br/mais-lidas\"> <p class=\"now cor-e\" title=\"Mais lidas\"> Mais lidas </p> </a> <div class=\"box \"> <div class=\"label\"> <a href=\"https://politica.estadao.com.br/blogs/estadao-verifica/cronograma-de-vacinacao-falso-circula-no-whatsapp-veja-as-datas-corretas/\" title=\"Política\"> <h4 class=\"cor-e\"> Política </h4> </a> <ul class=\"share \"> <li class=\"hidden\"> <a href=\"javascript:void(0);\" class=\"balloon comentarios-balaozinho\" data-ancora=\\'noticia_1\\' title=\"Comentários\"> </a> </li> <li class=\"facebook \"> <a href=\"https://www.facebook.com/sharer/sharer.php?u=https://politica.estadao.com.br/blogs/estadao-verifica/cronograma-de-vacinacao-falso-circula-no-whatsapp-veja-as-datas-corretas/%3Futm_source%3Destadao%3Afacebook%26utm_medium%3Dlink\" target=\"_blank\" class=\"ico-facebook\" title=\"Compartilhe pelo Facebook\" >&nbsp;</a> </li> <li class=\"whatsapp \"> <a href=\"whatsapp://send?text=Cronograma+de+vacina%C3%A7%C3%A3o+falso+circula+no+WhatsApp%3B+veja+as+datas+corretas%20Estad%C3%A3o%3A%20https://politica.estadao.com.br/blogs/estadao-verifica/cronograma-de-vacinacao-falso-circula-no-whatsapp-veja-as-datas-corretas/%3Futm_source%3Destadao%3Awhatsapp%26utm_medium%3Dlink\" class=\"ico-whatsapp\" title=\"Compartilhe pelo WhatsApp\">&nbsp;</a> </li> <li class=\"twitter \"> <a href=\"https://twitter.com/intent/tweet?text=Cronograma de vacinação falso circula no WhatsApp; veja as datas corretas%20@estadao%3A%20&amp;url=https://politica.estadao.com.br/blogs/estadao-verifica/cronograma-de-vacinacao-falso-circula-no-whatsapp-veja-as-datas-corretas/%3Futm_source%3Destadao%3Atwitter%26utm_medium%3Dlink\" target=\"_blank\" class=\"ico-twitter\" title=\"Compartilhe pelo Twitter\" >&nbsp;</a> </li> <li class=\"other \"> <a href=\"javascript:void(0);\" class=\"ico-dots-three-horizontal \" title=\"Mais compartilhamentos\" data-href=\"https://politica.estadao.com.br/blogs/estadao-verifica/cronograma-de-vacinacao-falso-circula-no-whatsapp-veja-as-datas-corretas/\" data-title=\"Cronograma de vacinação falso circula no WhatsApp; veja as datas corretas\">&nbsp;</a> <div class=\"share-more\" > <div class=\"share-total\" data-url=\"https://politica.estadao.com.br/blogs/estadao-verifica/cronograma-de-vacinacao-falso-circula-no-whatsapp-veja-as-datas-corretas/\"></div> <ul> <li class=\"twitter\"> <a href=\"https://twitter.com/intent/tweet?text=Cronograma de vacinação falso circula no WhatsApp; veja as datas corretas%20@estadao%3A%20&amp;url=https://politica.estadao.com.br/blogs/estadao-verifica/cronograma-de-vacinacao-falso-circula-no-whatsapp-veja-as-datas-corretas/%3Futm_source%3Destadao%3Atwitter%26utm_medium%3Dlink\" target=\"_blank\" class=\"ico-twitter\" > <span>twitter</span> </a> </li> <li class=\"linkedin\"> <a href=\"https://www.linkedin.com/cws/share?url=https://politica.estadao.com.br/blogs/estadao-verifica/cronograma-de-vacinacao-falso-circula-no-whatsapp-veja-as-datas-corretas/%3Futm_source%3Destadao%3Alinkedin%26utm_medium%3Dlink\" target=\"_blank\" class=\"ico-linkedin\" > <span>linkedin</span> </a> </li> <li class=\"email\"> <a href=\"mailto:?subject=Cronograma de vacinação falso circula no WhatsApp; veja as datas corretas&amp;body=Cronograma de vacinação falso circula no WhatsApp; veja as datas corretas - https://politica.estadao.com.br/blogs/estadao-verifica/cronograma-de-vacinacao-falso-circula-no-whatsapp-veja-as-datas-corretas/%3Futm_source%3Destadao%3Amail%26utm_medium%3Dlink\" class=\"ico-envelope-o\" > <span>e-mail</span> </a> </li> <li class=\"print\"> <a href=\"javascript:window.print();\" class=\"ico-printer-text\" > <span>imprimir</span> </a> </li> </ul> </div> </li></ul> </div> <figure> <a href=\"https://politica.estadao.com.br/blogs/estadao-verifica/cronograma-de-vacinacao-falso-circula-no-whatsapp-veja-as-datas-corretas/\" title=\"Cronograma de vacinação falso circula no WhatsApp; veja as datas corretas}\"> <img class=\"elazy\" alt=\"Cronograma de vacina&ccedil;&atilde;o falso circula no WhatsApp; veja as datas corretas\" data-src-desktop=\"https://politica.estadao.com.br/blogs/crop/360x200/estadao-verifica/wp-content/uploads/sites/690/2021/03/1614798369723_230320211730.jpg\" /> </a> </figure> <a href=\"https://politica.estadao.com.br/blogs/estadao-verifica/cronograma-de-vacinacao-falso-circula-no-whatsapp-veja-as-datas-corretas/\" title=\"Cronograma de vacinação falso circula no WhatsApp; veja as datas corretas\"> <h3 class=\"fifth\" title=\"Cronograma de vacinação falso circula no WhatsApp; veja as datas corretas\"> Cronograma de vacinação falso circula no WhatsApp; veja as datas corretas </h3> <p title=\"Em São Paulo, as únicas datas confirmadas até o momento são para quem tem a partir de 69 anos\"> Em São Paulo, as únicas datas confirmadas até o momento são para quem tem a partir de 69 anos </p> </a> </div> <hr class=\"line-divider bottom\" /></section> </div> </section> </div></section><section class=\"col-md-12 col-sm-12 col-xs-12 center-xs x140\"> <div id=\\'oop-shop-3\\' class=\\'publicidade dfp\\' data-screenmap=\\'out_of_page\\' data-target=\\'{\"formato\":\"oop-shop\",\"page_url\":\"politica.estadao.com.br,eleicoes,2020,candidatos\",\"pg_tipo\":\"eleicoes\",\"tags\":false}\\' data-status=\\'init\\' ></div></section><link rel=\"preload\" href=\"https://statics.estadao.com.br/s2016/portal/eleicoes2020/js/eleicoes2020.min.js?v=27-11-2020\" as=\"script\"><script type=\"text/javascript\" src=\"https://statics.estadao.com.br/s2016/portal/eleicoes2020/js/eleicoes2020.min.js?v=27-11-2020\"></script> <script type=\"text/javascript\"> var oReload = new Reload(true, 300); </script> <script src=\"//www.estadao.com.br/estadao/js/modules/navegg.js\" async></script><script async src=\"https://cdn.insurads.com/bootstrap/64SAA3GT.js\"></script><section class=\"col-md-12 col-sm-12 col-xs-12 center-xs x140\"> <div class=\"box\"> </div></section><footer> <section class=\"footer-container expedient\"> <div class=\"row\"> <section class=\"col-md-12 col-sm-12 col-xs-12\"> <div class=\"row\"> <section class=\"col-md-3 col-sm-3 col-xs-12 menu-list menu-institucional\"> <div class=\"box\"> <p>Institucional</p> <ul> <li> <a href=\"http://www.estadao.com.br/ext/codigoetica/codigo_de_etica_miolo.pdf\" title=\"Código de ética\">Código de ética</a> </li> <li> <a href=\"http://www.estadao.com.br/ext/codigoetica/politica_anti_corrupcao.pdf\" title=\"Politica anticorrupção\">Politica anticorrupção</a> </li> <li> <a href=\"http://www.estadao.com.br/tudo-sobre/focas\" title=\"Curso de jornalismo\">Curso de jornalismo</a> </li> <li> <a href=\"http://www.estadao.com.br/relatorio-da-administracao/\" title=\"Demonstrações Contábeis\">Demonstrações Contábeis</a> </li> <li> <a href=\"http://www.estadao.com.br/termo-de-uso/\" title=\"Termo de uso\">Termo de uso</a> </li> </ul> </div> </section> <section class=\"col-md-3 col-sm-3 col-xs-12 menu-list menu-atendimento\"> <div class=\"box\"> <p>Atendimento</p> <ul> <li> <a href=\"http://www.estadao.com.br/correcoes\" title=\"Correções\">Correções</a> </li> <li> <a href=\"http://www.assinante.estadao.com.br/\" target=\"_blank\" rel=\"noopener noreferrer\" title=\"Portal do assinante\">Portal do assinante</a> </li> <li> <a href=\"http://www.estadao.com.br/fale-conosco/\" title=\"Fale conosco\">Fale conosco</a> </li> <li> <a href=\"http://site.vagas.com.br/estadao\" target=\"_blank\" rel=\"noopener noreferrer\" title=\"Trabalhe conosco\">Trabalhe conosco</a> </li> </ul> </div> </section> <section class=\"col-md-3 col-sm-3 col-xs-12 menu-list menu-conexão estadão\"> <div class=\"box\"> <p>Conexão Estadão</p> <ul> <li> <a href=\"http://broadcast.com.br\" target=\"_blank\" rel=\"noopener noreferrer\" title=\"Broadcast\">Broadcast</a> </li> <li> <a href=\"http://www.broadcastpolitico.com.br/\" target=\"_blank\" rel=\"noopener noreferrer\" title=\"Broadcast político\">Broadcast político</a> </li> <li> <a href=\"http://www.estadao.com.br/aplicativos/\" title=\"Aplicativos\">Aplicativos</a> </li> </ul> </div> </section> <section class=\"col-md-3 col-sm-3 col-xs-6 edicao-digital\"> <div class=\"box\"> <p>Hoje</p> <figure> <a href=\"https://acesso.estadao.com.br/login/estadao-jornal-digital\" class=\"digital\"> <img class=\"elazy\" src=\"\" data-src-desktop=\"https://img.estadao.com.br/fotos/crop/162x269/fotos3/162x269/28-03-21.jpg\"> </a> </figure> </div> </section> </div> </section> </div> </section> <nav class=\"another-links center-xs\"> <ul> <li> <a href=\"http://acervo.estadao.com.br/\" title=\"Acervo\">Acervo</a> </li> <li> <a href=\"http://pme.estadao.com.br/\" title=\"PME\">PME</a> </li> <li> <a href=\"http://www.estadao.com.br/jornal-do-carro/\" title=\"Jornal do Carro\">Jornal do Carro</a> </li> <li> <a href=\"http://paladar.estadao.com.br/\" title=\"Paladar\">Paladar</a> </li> <li> <a href=\"http://link.estadao.com.br/\" title=\"Link\">Link</a> </li> <li> <a href=\"http://www.ilocal.com.br/\" title=\"iLocal\">iLocal</a> </li> <li> <a href=\"http://broadcast.com.br\" target=\"_blank\" title=\"Agência Estado\">Agência Estado</a> </li> <li> <a href=\"http://www.territorioeldorado.limao.com.br/\" title=\"Rádio Eldorado\">Rádio Eldorado</a> </li> <li> <a href=\"http://radio.estadao.com.br/\" title=\"Rádio Estadão\">Rádio Estadão</a> </li> <li> <a href=\"http://planetadigital.estadao.com.br/\" target=\"_blank\" title=\"Planeta Digital\">Planeta Digital</a> </li> <li> <a href=\"https://www.movingimoveis.com.br/\" target=\"_blank\" title=\"Moving Imóveis\">Moving Imóveis</a> </li> </ul> </nav> <section class=\"footer-container copyright\"> <div class=\"row\"> <section class=\"col-md-12 col-sm-12 col-xs-12\"> <div class=\"box\"> <a href=\"http://www.estadao.com.br/\" class=\"logo\" ></a> <p>Copyright © 1995 - 2021 Grupo Estado</p> <ul> <li class=\"ico-facebook-square\"> <a href=\"https://www.facebook.com/estadao\" target=\"_blank\" title=\"Estadão no Facebook\" > <span>Facebook</span> </a> </li> <li class=\"ico-twitter-square\"> <a href=\"https://twitter.com/estadao/\" target=\"_blank\" title=\"Estadão no Twitter\" > <span>Twitter</span> </a> </li> <li class=\"ico-instagram-square\"> <a href=\"https://www.instagram.com/estadao/\" target=\"_blank\" title=\"Estadão no Instagram\"> <span>Instagram</span> </a> </li> <li class=\"ico-pinterest-square\"> <a href=\"https://br.pinterest.com/estadao/\" target=\"_blank\" title=\"Estadão no Pinterest\" > <span>Pinterest</span> </a> </li> </ul> </div> </section> </div> </section></footer> <div class=\"ie-overlay\"><div class=\"ie-alert\"><p>O Estadão deixou de dar suporte ao Internet Explorer 9 ou anterior. <a href=\"https://www.whatsmybrowser.org/\" target=\"_blank\" rel=\"noopener noreferrer\">Clique aqui</a> e saiba mais.</p></div></div> </body></html>'"
            ]
          },
          "metadata": {
            "tags": []
          },
          "execution_count": 4
        }
      ]
    },
    {
      "cell_type": "markdown",
      "metadata": {
        "id": "y6mxvizSh9KG"
      },
      "source": [
        "Perceba que veio todo o conteúdo do HTML. Porém dessa forma é dificil de trabalhar. Então o proximo passo é criar um objeto BeautifulSoup para tratar e encontrar os elementos na página."
      ],
      "id": "y6mxvizSh9KG"
    },
    {
      "cell_type": "code",
      "metadata": {
        "id": "v0QZhqmSh9KH"
      },
      "source": [
        "# vamos então criar objeto soup que vai receber o texto do requests e parsar o parametro html.parser\n",
        "soup = BeautifulSoup(r.text, 'html.parser')"
      ],
      "id": "v0QZhqmSh9KH",
      "execution_count": 5,
      "outputs": []
    },
    {
      "cell_type": "code",
      "metadata": {
        "colab": {
          "base_uri": "https://localhost:8080/"
        },
        "id": "sfNnNc_hh9KH",
        "outputId": "c6a2ef6b-4bc5-4daa-9197-c3a59fb6c73e"
      },
      "source": [
        "type(soup) #vamos ver o tipo do objeto criardo"
      ],
      "id": "sfNnNc_hh9KH",
      "execution_count": 6,
      "outputs": [
        {
          "output_type": "execute_result",
          "data": {
            "text/plain": [
              "bs4.BeautifulSoup"
            ]
          },
          "metadata": {
            "tags": []
          },
          "execution_count": 6
        }
      ]
    },
    {
      "cell_type": "markdown",
      "metadata": {
        "id": "F-3yCTloh9KI"
      },
      "source": [
        "Veja que o objeto criado é do tipo bs4.BeautifulSoup com ele vai ser possível fazer uma varredura no HTML e assim, extrair seu conteúdo.\n",
        "\n",
        "O próximo passo é analisar o contéudo da página. E buscar a Tag que contém as informações dos candidatos. Para essa terefa vamos utiliar o navegador google Chrome. Com a página aberta no navegador, clique com o botão direito do mouse em cima da imagem do candidato em seguida clique em inspecionar.\n",
        "\n",
        "![image.png](attachment:5e781ef1-d437-4578-b29c-b157c7a21f4c.png)\n",
        "\n"
      ],
      "id": "F-3yCTloh9KI"
    },
    {
      "cell_type": "markdown",
      "metadata": {
        "id": "8cvSJdOEh9KI"
      },
      "source": [
        "Ao inspecionar a página identificamos que a 'div class=\"col-xs-12 -only' contém as informações que estamos querendo coletar\n",
        "\n",
        "![image.png](attachment:7c33d8f3-a370-4c45-84b9-4f30f307a89e.png)"
      ],
      "id": "8cvSJdOEh9KI"
    },
    {
      "cell_type": "code",
      "metadata": {
        "id": "Q_28XtrFh9KI"
      },
      "source": [
        "# vamos utilizar o método método examina os descendentes de uma tag e recupera todos os descendentes que correspondem aos seus filtros\n",
        "# Nesse caso vamos procurar a tag Div e pela class col-xs-12 -onl\n",
        "candidatos = soup.find_all(\"div\", attrs={\"class\": \"col-xs-12 -only\"})"
      ],
      "id": "Q_28XtrFh9KI",
      "execution_count": 7,
      "outputs": []
    },
    {
      "cell_type": "markdown",
      "metadata": {
        "id": "X2EVB6Pyh9KJ"
      },
      "source": [
        "O método traz uma lista do tipo BeautifulSoap de tags para cada candidato dessa forma podemos exibir os itens dentro da lista\n"
      ],
      "id": "X2EVB6Pyh9KJ"
    },
    {
      "cell_type": "code",
      "metadata": {
        "colab": {
          "base_uri": "https://localhost:8080/"
        },
        "id": "7RNlDGGEh9KJ",
        "outputId": "4c56899e-6a96-47af-d221-8c0ef6572705"
      },
      "source": [
        "type(candidatos)"
      ],
      "id": "7RNlDGGEh9KJ",
      "execution_count": 8,
      "outputs": [
        {
          "output_type": "execute_result",
          "data": {
            "text/plain": [
              "bs4.element.ResultSet"
            ]
          },
          "metadata": {
            "tags": []
          },
          "execution_count": 8
        }
      ]
    },
    {
      "cell_type": "code",
      "metadata": {
        "colab": {
          "base_uri": "https://localhost:8080/"
        },
        "id": "F5DLyzbKh9KK",
        "outputId": "448c53f4-fe0e-40f3-ec15-69f9053147a7"
      },
      "source": [
        "#vamos listar os itens que estão na lista de candidatos\n",
        "candidatos[:5] # traz os primeiros elementos da lista"
      ],
      "id": "F5DLyzbKh9KK",
      "execution_count": 11,
      "outputs": [
        {
          "output_type": "execute_result",
          "data": {
            "text/plain": [
              "[<div class=\"col-xs-12 -only\"> <a href=\"https://politica.estadao.com.br/eleicoes/2020/candidatos/sp/sao-paulo/prefeito/andrea-matarazzo,55\" title=\"andrea matarazzo\"> <div class=\"mold-cand \"> <div class=\"cand-mask\"> <img alt=\"andrea matarazzo\" class=\"elazy\" data-src=\"https://img.estadao.com.br/fotos/politica/eleicoes-2020/SP/FSP250000661535_div.jpg\" onerror=\"this.onerror=null;this.src='https://statics.estadao.com.br/s2016/portal/eleicoes2020/img/img_placeholder.png';\"/> </div> <div class=\"cand-desc\"> <h3 class=\"cand-name\">andrea matarazzo</h3> <span class=\"cand-partido\">PSD</span> </div> </div> </a> </div>,\n",
              " <div class=\"col-xs-12 -only\"> <a href=\"https://politica.estadao.com.br/eleicoes/2020/candidatos/sp/sao-paulo/prefeito/antonio-carlos,29\" title=\"antônio carlos\"> <div class=\"mold-cand \"> <div class=\"cand-mask\"> <img alt=\"antônio carlos\" class=\"elazy\" data-src=\"https://img.estadao.com.br/fotos/politica/eleicoes-2020/SP/FSP250001172314_div.jpg\" onerror=\"this.onerror=null;this.src='https://statics.estadao.com.br/s2016/portal/eleicoes2020/img/img_placeholder.png';\"/> </div> <div class=\"cand-desc\"> <h3 class=\"cand-name\">antônio carlos</h3> <span class=\"cand-partido\">PCO</span> </div> </div> </a> </div>,\n",
              " <div class=\"col-xs-12 -only\"> <a href=\"https://politica.estadao.com.br/eleicoes/2020/candidatos/sp/sao-paulo/prefeito/arthur-do-val-mamae-falei,51\" title=\"arthur do val mamãe falei\"> <div class=\"mold-cand \"> <div class=\"cand-mask\"> <img alt=\"arthur do val mamãe falei\" class=\"elazy\" data-src=\"https://img.estadao.com.br/fotos/politica/eleicoes-2020/SP/FSP250000641390_div.jpg\" onerror=\"this.onerror=null;this.src='https://statics.estadao.com.br/s2016/portal/eleicoes2020/img/img_placeholder.png';\"/> </div> <div class=\"cand-desc\"> <h3 class=\"cand-name\">arthur do val mamãe falei</h3> <span class=\"cand-partido\">PATRIOTA</span> </div> </div> </a> </div>,\n",
              " <div class=\"col-xs-12 -only\"> <a href=\"https://politica.estadao.com.br/eleicoes/2020/candidatos/sp/sao-paulo/prefeito/bruno-covas,45\" title=\"bruno covas\"> <div class=\"mold-cand -type-eleito\"> <div class=\"cand-mask\"> <img alt=\"bruno covas\" class=\"elazy\" data-src=\"https://img.estadao.com.br/fotos/politica/eleicoes-2020/SP/FSP250000896546_div.jpg\" onerror=\"this.onerror=null;this.src='https://statics.estadao.com.br/s2016/portal/eleicoes2020/img/img_placeholder.png';\"/> </div> <div class=\"cand-desc\"> <h3 class=\"cand-name\">bruno covas</h3> <span class=\"cand-partido\">PSDB</span> </div> </div> </a> </div>,\n",
              " <div class=\"col-xs-12 -only\"> <a href=\"https://politica.estadao.com.br/eleicoes/2020/candidatos/sp/sao-paulo/prefeito/celso-russomanno,10\" title=\"celso russomanno\"> <div class=\"mold-cand \"> <div class=\"cand-mask\"> <img alt=\"celso russomanno\" class=\"elazy\" data-src=\"https://img.estadao.com.br/fotos/politica/eleicoes-2020/SP/FSP250001094597_div.jpg\" onerror=\"this.onerror=null;this.src='https://statics.estadao.com.br/s2016/portal/eleicoes2020/img/img_placeholder.png';\"/> </div> <div class=\"cand-desc\"> <h3 class=\"cand-name\">celso russomanno</h3> <span class=\"cand-partido\">REPUBLICANOS</span> </div> </div> </a> </div>]"
            ]
          },
          "metadata": {
            "tags": []
          },
          "execution_count": 11
        }
      ]
    },
    {
      "cell_type": "markdown",
      "metadata": {
        "id": "gkSLHd90h9KL"
      },
      "source": [
        "\n",
        "\n",
        "Perceba que cada candidato é separado por uma \"virgula\" assim podemos identificar os elementos dentro das tags\n",
        "Vamos nesse momento iniciar o tratamento dos dados. Vamos iniciar então a extração dos dados.\n",
        "\n",
        "Dentro de cada item da lista possuem várias tags. Por exemplo: div, a, span, img. Nossa tarefa é identificar qual tag esta cada dado e indicar. O nome do candidato podemos extrair das tags a, img"
      ],
      "id": "gkSLHd90h9KL"
    },
    {
      "cell_type": "code",
      "metadata": {
        "colab": {
          "base_uri": "https://localhost:8080/"
        },
        "id": "zk-MnzOlh9KL",
        "outputId": "a3e26726-20d5-4df3-b2b7-2cdc6acf5746"
      },
      "source": [
        "#Extração do nome candidato utilizando a TAG \"img\"\n",
        "nome_candidato = candidatos[1].img[\"alt\"] # Traz o primeiro elemento da lista\n",
        "#Extração do nome candidato utilizando a TAG \"a\"\n",
        "nome_candidato2 = candidatos[1].a[\"title\"]\n",
        "print('Extração do nome do candidato utilizando a TAG \"img\": ',nome_candidato)\n",
        "print('Extração do nome do candidato utilizando a TAG \"a\": ', nome_candidato2)"
      ],
      "id": "zk-MnzOlh9KL",
      "execution_count": 12,
      "outputs": [
        {
          "output_type": "stream",
          "text": [
            "Extração do nome do candidato utilizando a TAG \"img\":  antônio carlos\n",
            "Extração do nome do candidato utilizando a TAG \"a\":  antônio carlos\n"
          ],
          "name": "stdout"
        }
      ]
    },
    {
      "cell_type": "markdown",
      "metadata": {
        "id": "kEA_hOjkh9KM"
      },
      "source": [
        "Agora vamos fazer a coleta para os outros atributos: partido, estado, cidade, link_candidato"
      ],
      "id": "kEA_hOjkh9KM"
    },
    {
      "cell_type": "code",
      "metadata": {
        "colab": {
          "base_uri": "https://localhost:8080/"
        },
        "id": "rJ8aOH8Ch9KQ",
        "outputId": "1cfe713a-8742-44c3-877d-c21ecc4991fc"
      },
      "source": [
        "# buscando o partido do candidato\n",
        "partido = candidatos[1].span.text\n",
        "print(partido)"
      ],
      "id": "rJ8aOH8Ch9KQ",
      "execution_count": 13,
      "outputs": [
        {
          "output_type": "stream",
          "text": [
            "PCO\n"
          ],
          "name": "stdout"
        }
      ]
    },
    {
      "cell_type": "markdown",
      "metadata": {
        "id": "AoMPyAlSh9KR"
      },
      "source": [
        "As informações de estado e cidade estão presentes dentro da TAG \"a\". A TAG \"a\" é um link de acesso, então vamos utilizar uma expressão regular para separar e encontrar os dados dentro do link. \n",
        "\n",
        "Para isso vamos importar a biblioteca re\n"
      ],
      "id": "AoMPyAlSh9KR"
    },
    {
      "cell_type": "code",
      "metadata": {
        "id": "fCMzjLiLh9KR"
      },
      "source": [
        "import re "
      ],
      "id": "fCMzjLiLh9KR",
      "execution_count": 14,
      "outputs": []
    },
    {
      "cell_type": "markdown",
      "metadata": {
        "id": "EVm_es3ch9KS"
      },
      "source": [
        "Vamos ver como está a construção do link contido na página.\n"
      ],
      "id": "EVm_es3ch9KS"
    },
    {
      "cell_type": "code",
      "metadata": {
        "id": "LPR5y8sdh9KS",
        "outputId": "e3e5ea3e-b93c-4d84-c7d7-5fef787f3fe9"
      },
      "source": [
        "print(candidatos[1].a[\"href\"])"
      ],
      "id": "LPR5y8sdh9KS",
      "execution_count": null,
      "outputs": [
        {
          "output_type": "stream",
          "text": [
            "https://politica.estadao.com.br/eleicoes/2020/candidatos/sp/sao-paulo/prefeito/antonio-carlos,29\n"
          ],
          "name": "stdout"
        }
      ]
    },
    {
      "cell_type": "markdown",
      "metadata": {
        "id": "lkGQzITLh9KS"
      },
      "source": [
        "Perceba que as informações de estado e cidade estão separados por \"/\" . \n",
        "Então vamos executar o comando split para separar as palavras dentro de um vetor"
      ],
      "id": "lkGQzITLh9KS"
    },
    {
      "cell_type": "code",
      "metadata": {
        "colab": {
          "base_uri": "https://localhost:8080/"
        },
        "id": "F3TeJXHkh9KT",
        "outputId": "0a1276c4-1bf2-4705-ab5b-ceeeac50aa88"
      },
      "source": [
        "print(re.split('/', candidatos[1].a[\"href\"]))"
      ],
      "id": "F3TeJXHkh9KT",
      "execution_count": 15,
      "outputs": [
        {
          "output_type": "stream",
          "text": [
            "['https:', '', 'politica.estadao.com.br', 'eleicoes', '2020', 'candidatos', 'sp', 'sao-paulo', 'prefeito', 'antonio-carlos,29']\n"
          ],
          "name": "stdout"
        }
      ]
    },
    {
      "cell_type": "markdown",
      "metadata": {
        "id": "A7iNYfuFh9KT"
      },
      "source": [
        "Vejam que cada palavra foi separada dentro de um vetor. O vetor pode ser acessado informando a sua posição. \n",
        "Neste caso, a posição 6 e 7 indicam o estado e a cidade do candidato. "
      ],
      "id": "A7iNYfuFh9KT"
    },
    {
      "cell_type": "code",
      "metadata": {
        "colab": {
          "base_uri": "https://localhost:8080/"
        },
        "id": "xaBOAeP-h9KT",
        "outputId": "00916a14-ba18-49dd-fe9a-0594f5511fa6"
      },
      "source": [
        "print(\"Estado do candidato: \", re.split('/', candidatos[1].a[\"href\"])[6])\n",
        "print(\"Cidade do candidato:\", re.split('/', candidatos[1].a[\"href\"])[7])"
      ],
      "id": "xaBOAeP-h9KT",
      "execution_count": 16,
      "outputs": [
        {
          "output_type": "stream",
          "text": [
            "Estado do candidato:  sp\n",
            "Cidade do candidato: sao-paulo\n"
          ],
          "name": "stdout"
        }
      ]
    },
    {
      "cell_type": "code",
      "metadata": {
        "id": "YuU1nQABh9KU"
      },
      "source": [
        "#agora vamos artibuir para as veriaveis \n",
        "estado = re.split('/', candidatos[1].a[\"href\"])[6]\n",
        "cidade = re.split('/', candidatos[1].a[\"href\"])[7]\n",
        "link = candidatos[1].a[\"href\"]"
      ],
      "id": "YuU1nQABh9KU",
      "execution_count": 17,
      "outputs": []
    },
    {
      "cell_type": "code",
      "metadata": {
        "colab": {
          "base_uri": "https://localhost:8080/"
        },
        "id": "5qUClkJjh9KU",
        "outputId": "5ba52aa1-086b-4f09-a8e4-4314232e1d7a"
      },
      "source": [
        "print (estado, cidade, link)"
      ],
      "id": "5qUClkJjh9KU",
      "execution_count": 18,
      "outputs": [
        {
          "output_type": "stream",
          "text": [
            "sp sao-paulo https://politica.estadao.com.br/eleicoes/2020/candidatos/sp/sao-paulo/prefeito/antonio-carlos,29\n"
          ],
          "name": "stdout"
        }
      ]
    },
    {
      "cell_type": "markdown",
      "metadata": {
        "id": "SH2NpatNh9KU"
      },
      "source": [
        "Ótimo! Agora que temos todos os dados que queremos, vamos criar uma estrutura que percorra toda a lista de candidados\n",
        "e coletando os dados. Ao final teremos uma lista contendo todos os dados dos candidatos.\n",
        "\n",
        "Vamos criar um for para percorrer toda a lista e adicionar os elementos que queremos."
      ],
      "id": "SH2NpatNh9KU"
    },
    {
      "cell_type": "code",
      "metadata": {
        "id": "5JfvdPbkh9KV"
      },
      "source": [
        "lista_candidatos = []\n",
        "# buscar o nome do candidado\n",
        "for candidato in candidatos:\n",
        "    dados_candidato = []\n",
        "    dados_candidato.append(candidato.img[\"alt\"]) # nome do candidato\n",
        "    dados_candidato.append(candidato.span.text) # partido \n",
        "    dados_candidato.append(re.split('/', candidato.a[\"href\"])[6])\n",
        "    dados_candidato.append(re.split('/', candidato.a[\"href\"])[7])\n",
        "    dados_candidato.append(candidato.a[\"href\"])\n",
        "    lista_candidatos.append(dados_candidato)\n",
        "    \n",
        "    \n",
        "   "
      ],
      "id": "5JfvdPbkh9KV",
      "execution_count": 19,
      "outputs": []
    },
    {
      "cell_type": "code",
      "metadata": {
        "colab": {
          "base_uri": "https://localhost:8080/"
        },
        "id": "N6wsdzhSh9KV",
        "outputId": "d841fac7-a841-434f-bbdd-5fa6aef78eb0"
      },
      "source": [
        "lista_candidatos[:2]"
      ],
      "id": "N6wsdzhSh9KV",
      "execution_count": 22,
      "outputs": [
        {
          "output_type": "execute_result",
          "data": {
            "text/plain": [
              "[['andrea matarazzo',\n",
              "  'PSD',\n",
              "  'sp',\n",
              "  'sao-paulo',\n",
              "  'https://politica.estadao.com.br/eleicoes/2020/candidatos/sp/sao-paulo/prefeito/andrea-matarazzo,55'],\n",
              " ['antônio carlos',\n",
              "  'PCO',\n",
              "  'sp',\n",
              "  'sao-paulo',\n",
              "  'https://politica.estadao.com.br/eleicoes/2020/candidatos/sp/sao-paulo/prefeito/antonio-carlos,29']]"
            ]
          },
          "metadata": {
            "tags": []
          },
          "execution_count": 22
        }
      ]
    },
    {
      "cell_type": "markdown",
      "metadata": {
        "id": "iJVAOedJh9KW"
      },
      "source": [
        "Com os dados coletados e adicionados na lista de candidatos, vamos agora criar um Dataframe. Para isso vamos utilizar a biblioteca do pandas. "
      ],
      "id": "iJVAOedJh9KW"
    },
    {
      "cell_type": "code",
      "metadata": {
        "id": "ktGl0GHGh9KW"
      },
      "source": [
        "import pandas as pd"
      ],
      "id": "ktGl0GHGh9KW",
      "execution_count": 23,
      "outputs": []
    },
    {
      "cell_type": "code",
      "metadata": {
        "id": "OprkkZKjh9KW"
      },
      "source": [
        "# Criando um data frame passando a lista de candidats e inserindo as colunas\n",
        "df_candidatos = pd.DataFrame(lista_candidatos, columns=['nome_candidato', 'partido', 'estado', 'cidade', 'link'])"
      ],
      "id": "OprkkZKjh9KW",
      "execution_count": 24,
      "outputs": []
    },
    {
      "cell_type": "code",
      "metadata": {
        "colab": {
          "base_uri": "https://localhost:8080/",
          "height": 173
        },
        "id": "1ECYSHndh9KW",
        "outputId": "25566eba-9e3a-4f0d-8e06-2228fc30b858"
      },
      "source": [
        "df_candidatos[:4]"
      ],
      "id": "1ECYSHndh9KW",
      "execution_count": 25,
      "outputs": [
        {
          "output_type": "execute_result",
          "data": {
            "text/html": [
              "<div>\n",
              "<style scoped>\n",
              "    .dataframe tbody tr th:only-of-type {\n",
              "        vertical-align: middle;\n",
              "    }\n",
              "\n",
              "    .dataframe tbody tr th {\n",
              "        vertical-align: top;\n",
              "    }\n",
              "\n",
              "    .dataframe thead th {\n",
              "        text-align: right;\n",
              "    }\n",
              "</style>\n",
              "<table border=\"1\" class=\"dataframe\">\n",
              "  <thead>\n",
              "    <tr style=\"text-align: right;\">\n",
              "      <th></th>\n",
              "      <th>nome_candidato</th>\n",
              "      <th>partido</th>\n",
              "      <th>estado</th>\n",
              "      <th>cidade</th>\n",
              "      <th>link</th>\n",
              "    </tr>\n",
              "  </thead>\n",
              "  <tbody>\n",
              "    <tr>\n",
              "      <th>0</th>\n",
              "      <td>andrea matarazzo</td>\n",
              "      <td>PSD</td>\n",
              "      <td>sp</td>\n",
              "      <td>sao-paulo</td>\n",
              "      <td>https://politica.estadao.com.br/eleicoes/2020/...</td>\n",
              "    </tr>\n",
              "    <tr>\n",
              "      <th>1</th>\n",
              "      <td>antônio carlos</td>\n",
              "      <td>PCO</td>\n",
              "      <td>sp</td>\n",
              "      <td>sao-paulo</td>\n",
              "      <td>https://politica.estadao.com.br/eleicoes/2020/...</td>\n",
              "    </tr>\n",
              "    <tr>\n",
              "      <th>2</th>\n",
              "      <td>arthur do val mamãe falei</td>\n",
              "      <td>PATRIOTA</td>\n",
              "      <td>sp</td>\n",
              "      <td>sao-paulo</td>\n",
              "      <td>https://politica.estadao.com.br/eleicoes/2020/...</td>\n",
              "    </tr>\n",
              "    <tr>\n",
              "      <th>3</th>\n",
              "      <td>bruno covas</td>\n",
              "      <td>PSDB</td>\n",
              "      <td>sp</td>\n",
              "      <td>sao-paulo</td>\n",
              "      <td>https://politica.estadao.com.br/eleicoes/2020/...</td>\n",
              "    </tr>\n",
              "  </tbody>\n",
              "</table>\n",
              "</div>"
            ],
            "text/plain": [
              "              nome_candidato  ...                                               link\n",
              "0           andrea matarazzo  ...  https://politica.estadao.com.br/eleicoes/2020/...\n",
              "1             antônio carlos  ...  https://politica.estadao.com.br/eleicoes/2020/...\n",
              "2  arthur do val mamãe falei  ...  https://politica.estadao.com.br/eleicoes/2020/...\n",
              "3                bruno covas  ...  https://politica.estadao.com.br/eleicoes/2020/...\n",
              "\n",
              "[4 rows x 5 columns]"
            ]
          },
          "metadata": {
            "tags": []
          },
          "execution_count": 25
        }
      ]
    },
    {
      "cell_type": "markdown",
      "metadata": {
        "id": "UcU--gWch9KX"
      },
      "source": [
        "# Explorando e tratando os dados coletados\n",
        "\n",
        "Pronto! Agora estamos com os dados carregados no nosso DataFrame. Vamos então explorar e tratar um pouco os dados?\n"
      ],
      "id": "UcU--gWch9KX"
    },
    {
      "cell_type": "code",
      "metadata": {
        "colab": {
          "base_uri": "https://localhost:8080/"
        },
        "id": "UsCl12buh9KX",
        "outputId": "9fe1b097-9db6-4609-b127-e7a0744c2c8b"
      },
      "source": [
        "# contar quantos candidatos temos por estado\n",
        "df_candidatos['estado'].value_counts()"
      ],
      "id": "UsCl12buh9KX",
      "execution_count": 26,
      "outputs": [
        {
          "output_type": "execute_result",
          "data": {
            "text/plain": [
              "mg    16\n",
              "rj    14\n",
              "sp    14\n",
              "Name: estado, dtype: int64"
            ]
          },
          "metadata": {
            "tags": []
          },
          "execution_count": 26
        }
      ]
    },
    {
      "cell_type": "code",
      "metadata": {
        "colab": {
          "base_uri": "https://localhost:8080/"
        },
        "id": "-iVkpAD-h9KY",
        "outputId": "53852d8c-635a-46ba-9a60-f8f3b511a605"
      },
      "source": [
        "# contar quantos candidatos temos por estado\n",
        "df_candidatos['cidade'].value_counts()"
      ],
      "id": "-iVkpAD-h9KY",
      "execution_count": 27,
      "outputs": [
        {
          "output_type": "execute_result",
          "data": {
            "text/plain": [
              "belo-horizonte    16\n",
              "rio-de-janeiro    14\n",
              "sao-paulo         14\n",
              "Name: cidade, dtype: int64"
            ]
          },
          "metadata": {
            "tags": []
          },
          "execution_count": 27
        }
      ]
    },
    {
      "cell_type": "code",
      "metadata": {
        "colab": {
          "base_uri": "https://localhost:8080/"
        },
        "id": "mzv42xM9h9KY",
        "outputId": "be108eff-76f9-40d7-9b57-bce8a7e346e3"
      },
      "source": [
        "# Contar quantos candidatos temos por partido\n",
        "df_candidatos['partido'].value_counts()"
      ],
      "id": "mzv42xM9h9KY",
      "execution_count": 28,
      "outputs": [
        {
          "output_type": "execute_result",
          "data": {
            "text/plain": [
              "PSOL             3\n",
              "REPUBLICANOS     3\n",
              "PRTB             3\n",
              "PT               3\n",
              "PCO              3\n",
              "PSTU             3\n",
              "NOVO             3\n",
              "PROS             2\n",
              "PSD              2\n",
              "PMB              2\n",
              "PATRIOTA         2\n",
              "REDE             2\n",
              "PSL              2\n",
              "PC do B          2\n",
              "PSDB             2\n",
              "MDB              1\n",
              "SOLIDARIEDADE    1\n",
              "PSC              1\n",
              "CIDADANIA        1\n",
              "PSB              1\n",
              "DEM              1\n",
              "PDT              1\n",
              "Name: partido, dtype: int64"
            ]
          },
          "metadata": {
            "tags": []
          },
          "execution_count": 28
        }
      ]
    },
    {
      "cell_type": "markdown",
      "metadata": {
        "id": "h7MSvynVh9KY"
      },
      "source": [
        "# Realizando tratamento de texto \n"
      ],
      "id": "h7MSvynVh9KY"
    },
    {
      "cell_type": "code",
      "metadata": {
        "colab": {
          "base_uri": "https://localhost:8080/",
          "height": 204
        },
        "id": "rGQgtvYnh9KZ",
        "outputId": "f4784845-df0a-41b0-c798-34f39e617426"
      },
      "source": [
        "df_candidatos[:5]"
      ],
      "id": "rGQgtvYnh9KZ",
      "execution_count": 29,
      "outputs": [
        {
          "output_type": "execute_result",
          "data": {
            "text/html": [
              "<div>\n",
              "<style scoped>\n",
              "    .dataframe tbody tr th:only-of-type {\n",
              "        vertical-align: middle;\n",
              "    }\n",
              "\n",
              "    .dataframe tbody tr th {\n",
              "        vertical-align: top;\n",
              "    }\n",
              "\n",
              "    .dataframe thead th {\n",
              "        text-align: right;\n",
              "    }\n",
              "</style>\n",
              "<table border=\"1\" class=\"dataframe\">\n",
              "  <thead>\n",
              "    <tr style=\"text-align: right;\">\n",
              "      <th></th>\n",
              "      <th>nome_candidato</th>\n",
              "      <th>partido</th>\n",
              "      <th>estado</th>\n",
              "      <th>cidade</th>\n",
              "      <th>link</th>\n",
              "    </tr>\n",
              "  </thead>\n",
              "  <tbody>\n",
              "    <tr>\n",
              "      <th>0</th>\n",
              "      <td>andrea matarazzo</td>\n",
              "      <td>PSD</td>\n",
              "      <td>sp</td>\n",
              "      <td>sao-paulo</td>\n",
              "      <td>https://politica.estadao.com.br/eleicoes/2020/...</td>\n",
              "    </tr>\n",
              "    <tr>\n",
              "      <th>1</th>\n",
              "      <td>antônio carlos</td>\n",
              "      <td>PCO</td>\n",
              "      <td>sp</td>\n",
              "      <td>sao-paulo</td>\n",
              "      <td>https://politica.estadao.com.br/eleicoes/2020/...</td>\n",
              "    </tr>\n",
              "    <tr>\n",
              "      <th>2</th>\n",
              "      <td>arthur do val mamãe falei</td>\n",
              "      <td>PATRIOTA</td>\n",
              "      <td>sp</td>\n",
              "      <td>sao-paulo</td>\n",
              "      <td>https://politica.estadao.com.br/eleicoes/2020/...</td>\n",
              "    </tr>\n",
              "    <tr>\n",
              "      <th>3</th>\n",
              "      <td>bruno covas</td>\n",
              "      <td>PSDB</td>\n",
              "      <td>sp</td>\n",
              "      <td>sao-paulo</td>\n",
              "      <td>https://politica.estadao.com.br/eleicoes/2020/...</td>\n",
              "    </tr>\n",
              "    <tr>\n",
              "      <th>4</th>\n",
              "      <td>celso russomanno</td>\n",
              "      <td>REPUBLICANOS</td>\n",
              "      <td>sp</td>\n",
              "      <td>sao-paulo</td>\n",
              "      <td>https://politica.estadao.com.br/eleicoes/2020/...</td>\n",
              "    </tr>\n",
              "  </tbody>\n",
              "</table>\n",
              "</div>"
            ],
            "text/plain": [
              "              nome_candidato  ...                                               link\n",
              "0           andrea matarazzo  ...  https://politica.estadao.com.br/eleicoes/2020/...\n",
              "1             antônio carlos  ...  https://politica.estadao.com.br/eleicoes/2020/...\n",
              "2  arthur do val mamãe falei  ...  https://politica.estadao.com.br/eleicoes/2020/...\n",
              "3                bruno covas  ...  https://politica.estadao.com.br/eleicoes/2020/...\n",
              "4           celso russomanno  ...  https://politica.estadao.com.br/eleicoes/2020/...\n",
              "\n",
              "[5 rows x 5 columns]"
            ]
          },
          "metadata": {
            "tags": []
          },
          "execution_count": 29
        }
      ]
    },
    {
      "cell_type": "markdown",
      "metadata": {
        "id": "wCdDrrgGh9KZ"
      },
      "source": [
        "Perceba que no Dataframe contém dados em letras minusculas e a coluna de cidade os nomes estão separados com um hífem. \n",
        "Vamos então tratar esses dados substituindo o hífem por um espaço e alterando os nomes para maiúscalas"
      ],
      "id": "wCdDrrgGh9KZ"
    },
    {
      "cell_type": "code",
      "metadata": {
        "colab": {
          "base_uri": "https://localhost:8080/"
        },
        "id": "F35mMnL_h9Ka",
        "outputId": "c702b01a-bb5b-4203-9c03-f05c3cf29728"
      },
      "source": [
        "df_candidatos[:2].cidade.str.replace('-',' ').str.upper()"
      ],
      "id": "F35mMnL_h9Ka",
      "execution_count": 30,
      "outputs": [
        {
          "output_type": "execute_result",
          "data": {
            "text/plain": [
              "0    SAO PAULO\n",
              "1    SAO PAULO\n",
              "Name: cidade, dtype: object"
            ]
          },
          "metadata": {
            "tags": []
          },
          "execution_count": 30
        }
      ]
    },
    {
      "cell_type": "markdown",
      "metadata": {
        "id": "pRICVx8wh9Ka"
      },
      "source": [
        "Podemos ainda fazer a correção da palavra Sao Paulo. Vamos alterar inserindo o til \"~\""
      ],
      "id": "pRICVx8wh9Ka"
    },
    {
      "cell_type": "code",
      "metadata": {
        "colab": {
          "base_uri": "https://localhost:8080/"
        },
        "id": "rbcs88Y4h9Kb",
        "outputId": "2c3096e8-e25c-4469-80c0-0a7c7c02ee6f"
      },
      "source": [
        "df_candidatos[:2]['cidade'].str.upper().str.replace('-',' ').str.replace(\"SAO\", \"SÃO\")"
      ],
      "id": "rbcs88Y4h9Kb",
      "execution_count": 31,
      "outputs": [
        {
          "output_type": "execute_result",
          "data": {
            "text/plain": [
              "0    SÃO PAULO\n",
              "1    SÃO PAULO\n",
              "Name: cidade, dtype: object"
            ]
          },
          "metadata": {
            "tags": []
          },
          "execution_count": 31
        }
      ]
    },
    {
      "cell_type": "markdown",
      "metadata": {
        "id": "6xe-NK4ah9Kb"
      },
      "source": [
        "Agora temos os tratamentos. Porém temos que atribuir essas mudanças ao proprio DataFrame na coluna cidade criada\n",
        "Obs: Não se esqueçam de retirar o demilitador da lista [:2]"
      ],
      "id": "6xe-NK4ah9Kb"
    },
    {
      "cell_type": "code",
      "metadata": {
        "colab": {
          "base_uri": "https://localhost:8080/",
          "height": 1000
        },
        "id": "uZUqykmeh9Kc",
        "outputId": "6426463c-28c4-48c6-c164-4656eb870fbb"
      },
      "source": [
        "df_candidatos['cidade'] = df_candidatos['cidade'].str.upper().str.replace('-',' ').str.replace(\"SAO\", \"SÃO\")\n",
        "\n",
        "#visualiza DataFrame\n",
        "df_candidatos"
      ],
      "id": "uZUqykmeh9Kc",
      "execution_count": 32,
      "outputs": [
        {
          "output_type": "execute_result",
          "data": {
            "text/html": [
              "<div>\n",
              "<style scoped>\n",
              "    .dataframe tbody tr th:only-of-type {\n",
              "        vertical-align: middle;\n",
              "    }\n",
              "\n",
              "    .dataframe tbody tr th {\n",
              "        vertical-align: top;\n",
              "    }\n",
              "\n",
              "    .dataframe thead th {\n",
              "        text-align: right;\n",
              "    }\n",
              "</style>\n",
              "<table border=\"1\" class=\"dataframe\">\n",
              "  <thead>\n",
              "    <tr style=\"text-align: right;\">\n",
              "      <th></th>\n",
              "      <th>nome_candidato</th>\n",
              "      <th>partido</th>\n",
              "      <th>estado</th>\n",
              "      <th>cidade</th>\n",
              "      <th>link</th>\n",
              "    </tr>\n",
              "  </thead>\n",
              "  <tbody>\n",
              "    <tr>\n",
              "      <th>0</th>\n",
              "      <td>andrea matarazzo</td>\n",
              "      <td>PSD</td>\n",
              "      <td>sp</td>\n",
              "      <td>SÃO PAULO</td>\n",
              "      <td>https://politica.estadao.com.br/eleicoes/2020/...</td>\n",
              "    </tr>\n",
              "    <tr>\n",
              "      <th>1</th>\n",
              "      <td>antônio carlos</td>\n",
              "      <td>PCO</td>\n",
              "      <td>sp</td>\n",
              "      <td>SÃO PAULO</td>\n",
              "      <td>https://politica.estadao.com.br/eleicoes/2020/...</td>\n",
              "    </tr>\n",
              "    <tr>\n",
              "      <th>2</th>\n",
              "      <td>arthur do val mamãe falei</td>\n",
              "      <td>PATRIOTA</td>\n",
              "      <td>sp</td>\n",
              "      <td>SÃO PAULO</td>\n",
              "      <td>https://politica.estadao.com.br/eleicoes/2020/...</td>\n",
              "    </tr>\n",
              "    <tr>\n",
              "      <th>3</th>\n",
              "      <td>bruno covas</td>\n",
              "      <td>PSDB</td>\n",
              "      <td>sp</td>\n",
              "      <td>SÃO PAULO</td>\n",
              "      <td>https://politica.estadao.com.br/eleicoes/2020/...</td>\n",
              "    </tr>\n",
              "    <tr>\n",
              "      <th>4</th>\n",
              "      <td>celso russomanno</td>\n",
              "      <td>REPUBLICANOS</td>\n",
              "      <td>sp</td>\n",
              "      <td>SÃO PAULO</td>\n",
              "      <td>https://politica.estadao.com.br/eleicoes/2020/...</td>\n",
              "    </tr>\n",
              "    <tr>\n",
              "      <th>5</th>\n",
              "      <td>guilherme boulos</td>\n",
              "      <td>PSOL</td>\n",
              "      <td>sp</td>\n",
              "      <td>SÃO PAULO</td>\n",
              "      <td>https://politica.estadao.com.br/eleicoes/2020/...</td>\n",
              "    </tr>\n",
              "    <tr>\n",
              "      <th>6</th>\n",
              "      <td>jilmar tatto</td>\n",
              "      <td>PT</td>\n",
              "      <td>sp</td>\n",
              "      <td>SÃO PAULO</td>\n",
              "      <td>https://politica.estadao.com.br/eleicoes/2020/...</td>\n",
              "    </tr>\n",
              "    <tr>\n",
              "      <th>7</th>\n",
              "      <td>joice hasselmann</td>\n",
              "      <td>PSL</td>\n",
              "      <td>sp</td>\n",
              "      <td>SÃO PAULO</td>\n",
              "      <td>https://politica.estadao.com.br/eleicoes/2020/...</td>\n",
              "    </tr>\n",
              "    <tr>\n",
              "      <th>8</th>\n",
              "      <td>levy fidelix</td>\n",
              "      <td>PRTB</td>\n",
              "      <td>sp</td>\n",
              "      <td>SÃO PAULO</td>\n",
              "      <td>https://politica.estadao.com.br/eleicoes/2020/...</td>\n",
              "    </tr>\n",
              "    <tr>\n",
              "      <th>9</th>\n",
              "      <td>marina helou</td>\n",
              "      <td>REDE</td>\n",
              "      <td>sp</td>\n",
              "      <td>SÃO PAULO</td>\n",
              "      <td>https://politica.estadao.com.br/eleicoes/2020/...</td>\n",
              "    </tr>\n",
              "    <tr>\n",
              "      <th>10</th>\n",
              "      <td>márcio frança</td>\n",
              "      <td>PSB</td>\n",
              "      <td>sp</td>\n",
              "      <td>SÃO PAULO</td>\n",
              "      <td>https://politica.estadao.com.br/eleicoes/2020/...</td>\n",
              "    </tr>\n",
              "    <tr>\n",
              "      <th>11</th>\n",
              "      <td>orlando silva</td>\n",
              "      <td>PC do B</td>\n",
              "      <td>sp</td>\n",
              "      <td>SÃO PAULO</td>\n",
              "      <td>https://politica.estadao.com.br/eleicoes/2020/...</td>\n",
              "    </tr>\n",
              "    <tr>\n",
              "      <th>12</th>\n",
              "      <td>sabará</td>\n",
              "      <td>NOVO</td>\n",
              "      <td>sp</td>\n",
              "      <td>SÃO PAULO</td>\n",
              "      <td>https://politica.estadao.com.br/eleicoes/2020/...</td>\n",
              "    </tr>\n",
              "    <tr>\n",
              "      <th>13</th>\n",
              "      <td>vera</td>\n",
              "      <td>PSTU</td>\n",
              "      <td>sp</td>\n",
              "      <td>SÃO PAULO</td>\n",
              "      <td>https://politica.estadao.com.br/eleicoes/2020/...</td>\n",
              "    </tr>\n",
              "    <tr>\n",
              "      <th>14</th>\n",
              "      <td>bandeira de mello</td>\n",
              "      <td>REDE</td>\n",
              "      <td>rj</td>\n",
              "      <td>RIO DE JANEIRO</td>\n",
              "      <td>https://politica.estadao.com.br/eleicoes/2020/...</td>\n",
              "    </tr>\n",
              "    <tr>\n",
              "      <th>15</th>\n",
              "      <td>benedita da silva</td>\n",
              "      <td>PT</td>\n",
              "      <td>rj</td>\n",
              "      <td>RIO DE JANEIRO</td>\n",
              "      <td>https://politica.estadao.com.br/eleicoes/2020/...</td>\n",
              "    </tr>\n",
              "    <tr>\n",
              "      <th>16</th>\n",
              "      <td>clarissa garotinho</td>\n",
              "      <td>PROS</td>\n",
              "      <td>rj</td>\n",
              "      <td>RIO DE JANEIRO</td>\n",
              "      <td>https://politica.estadao.com.br/eleicoes/2020/...</td>\n",
              "    </tr>\n",
              "    <tr>\n",
              "      <th>17</th>\n",
              "      <td>crivella</td>\n",
              "      <td>REPUBLICANOS</td>\n",
              "      <td>rj</td>\n",
              "      <td>RIO DE JANEIRO</td>\n",
              "      <td>https://politica.estadao.com.br/eleicoes/2020/...</td>\n",
              "    </tr>\n",
              "    <tr>\n",
              "      <th>18</th>\n",
              "      <td>cyro garcia</td>\n",
              "      <td>PSTU</td>\n",
              "      <td>rj</td>\n",
              "      <td>RIO DE JANEIRO</td>\n",
              "      <td>https://politica.estadao.com.br/eleicoes/2020/...</td>\n",
              "    </tr>\n",
              "    <tr>\n",
              "      <th>19</th>\n",
              "      <td>delegada martha rocha</td>\n",
              "      <td>PDT</td>\n",
              "      <td>rj</td>\n",
              "      <td>RIO DE JANEIRO</td>\n",
              "      <td>https://politica.estadao.com.br/eleicoes/2020/...</td>\n",
              "    </tr>\n",
              "    <tr>\n",
              "      <th>20</th>\n",
              "      <td>eduardo paes</td>\n",
              "      <td>DEM</td>\n",
              "      <td>rj</td>\n",
              "      <td>RIO DE JANEIRO</td>\n",
              "      <td>https://politica.estadao.com.br/eleicoes/2020/...</td>\n",
              "    </tr>\n",
              "    <tr>\n",
              "      <th>21</th>\n",
              "      <td>fred luz</td>\n",
              "      <td>NOVO</td>\n",
              "      <td>rj</td>\n",
              "      <td>RIO DE JANEIRO</td>\n",
              "      <td>https://politica.estadao.com.br/eleicoes/2020/...</td>\n",
              "    </tr>\n",
              "    <tr>\n",
              "      <th>22</th>\n",
              "      <td>glória heloiza</td>\n",
              "      <td>PSC</td>\n",
              "      <td>rj</td>\n",
              "      <td>RIO DE JANEIRO</td>\n",
              "      <td>https://politica.estadao.com.br/eleicoes/2020/...</td>\n",
              "    </tr>\n",
              "    <tr>\n",
              "      <th>23</th>\n",
              "      <td>henrique simonard</td>\n",
              "      <td>PCO</td>\n",
              "      <td>rj</td>\n",
              "      <td>RIO DE JANEIRO</td>\n",
              "      <td>https://politica.estadao.com.br/eleicoes/2020/...</td>\n",
              "    </tr>\n",
              "    <tr>\n",
              "      <th>24</th>\n",
              "      <td>luiz lima</td>\n",
              "      <td>PSL</td>\n",
              "      <td>rj</td>\n",
              "      <td>RIO DE JANEIRO</td>\n",
              "      <td>https://politica.estadao.com.br/eleicoes/2020/...</td>\n",
              "    </tr>\n",
              "    <tr>\n",
              "      <th>25</th>\n",
              "      <td>paulo messina</td>\n",
              "      <td>MDB</td>\n",
              "      <td>rj</td>\n",
              "      <td>RIO DE JANEIRO</td>\n",
              "      <td>https://politica.estadao.com.br/eleicoes/2020/...</td>\n",
              "    </tr>\n",
              "    <tr>\n",
              "      <th>26</th>\n",
              "      <td>renata souza</td>\n",
              "      <td>PSOL</td>\n",
              "      <td>rj</td>\n",
              "      <td>RIO DE JANEIRO</td>\n",
              "      <td>https://politica.estadao.com.br/eleicoes/2020/...</td>\n",
              "    </tr>\n",
              "    <tr>\n",
              "      <th>27</th>\n",
              "      <td>suêd haidar</td>\n",
              "      <td>PMB</td>\n",
              "      <td>rj</td>\n",
              "      <td>RIO DE JANEIRO</td>\n",
              "      <td>https://politica.estadao.com.br/eleicoes/2020/...</td>\n",
              "    </tr>\n",
              "    <tr>\n",
              "      <th>28</th>\n",
              "      <td>bruno engler</td>\n",
              "      <td>PRTB</td>\n",
              "      <td>mg</td>\n",
              "      <td>BELO HORIZONTE</td>\n",
              "      <td>https://politica.estadao.com.br/eleicoes/2020/...</td>\n",
              "    </tr>\n",
              "    <tr>\n",
              "      <th>29</th>\n",
              "      <td>bruno engler</td>\n",
              "      <td>PRTB</td>\n",
              "      <td>mg</td>\n",
              "      <td>BELO HORIZONTE</td>\n",
              "      <td>https://politica.estadao.com.br/eleicoes/2020/...</td>\n",
              "    </tr>\n",
              "    <tr>\n",
              "      <th>30</th>\n",
              "      <td>cabo xavier</td>\n",
              "      <td>PMB</td>\n",
              "      <td>mg</td>\n",
              "      <td>BELO HORIZONTE</td>\n",
              "      <td>https://politica.estadao.com.br/eleicoes/2020/...</td>\n",
              "    </tr>\n",
              "    <tr>\n",
              "      <th>31</th>\n",
              "      <td>fabiano cazeca</td>\n",
              "      <td>PROS</td>\n",
              "      <td>mg</td>\n",
              "      <td>BELO HORIZONTE</td>\n",
              "      <td>https://politica.estadao.com.br/eleicoes/2020/...</td>\n",
              "    </tr>\n",
              "    <tr>\n",
              "      <th>32</th>\n",
              "      <td>joão vitor xavier</td>\n",
              "      <td>CIDADANIA</td>\n",
              "      <td>mg</td>\n",
              "      <td>BELO HORIZONTE</td>\n",
              "      <td>https://politica.estadao.com.br/eleicoes/2020/...</td>\n",
              "    </tr>\n",
              "    <tr>\n",
              "      <th>33</th>\n",
              "      <td>kalil</td>\n",
              "      <td>PSD</td>\n",
              "      <td>mg</td>\n",
              "      <td>BELO HORIZONTE</td>\n",
              "      <td>https://politica.estadao.com.br/eleicoes/2020/...</td>\n",
              "    </tr>\n",
              "    <tr>\n",
              "      <th>34</th>\n",
              "      <td>lafayette andrada</td>\n",
              "      <td>REPUBLICANOS</td>\n",
              "      <td>mg</td>\n",
              "      <td>BELO HORIZONTE</td>\n",
              "      <td>https://politica.estadao.com.br/eleicoes/2020/...</td>\n",
              "    </tr>\n",
              "    <tr>\n",
              "      <th>35</th>\n",
              "      <td>luisa barreto</td>\n",
              "      <td>PSDB</td>\n",
              "      <td>mg</td>\n",
              "      <td>BELO HORIZONTE</td>\n",
              "      <td>https://politica.estadao.com.br/eleicoes/2020/...</td>\n",
              "    </tr>\n",
              "    <tr>\n",
              "      <th>36</th>\n",
              "      <td>marcelo souza e silva</td>\n",
              "      <td>PATRIOTA</td>\n",
              "      <td>mg</td>\n",
              "      <td>BELO HORIZONTE</td>\n",
              "      <td>https://politica.estadao.com.br/eleicoes/2020/...</td>\n",
              "    </tr>\n",
              "    <tr>\n",
              "      <th>37</th>\n",
              "      <td>marilia domingues</td>\n",
              "      <td>PCO</td>\n",
              "      <td>mg</td>\n",
              "      <td>BELO HORIZONTE</td>\n",
              "      <td>https://politica.estadao.com.br/eleicoes/2020/...</td>\n",
              "    </tr>\n",
              "    <tr>\n",
              "      <th>38</th>\n",
              "      <td>nilmário miranda</td>\n",
              "      <td>PT</td>\n",
              "      <td>mg</td>\n",
              "      <td>BELO HORIZONTE</td>\n",
              "      <td>https://politica.estadao.com.br/eleicoes/2020/...</td>\n",
              "    </tr>\n",
              "    <tr>\n",
              "      <th>39</th>\n",
              "      <td>professor wendel mesquita</td>\n",
              "      <td>SOLIDARIEDADE</td>\n",
              "      <td>mg</td>\n",
              "      <td>BELO HORIZONTE</td>\n",
              "      <td>https://politica.estadao.com.br/eleicoes/2020/...</td>\n",
              "    </tr>\n",
              "    <tr>\n",
              "      <th>40</th>\n",
              "      <td>rodrigo paiva</td>\n",
              "      <td>NOVO</td>\n",
              "      <td>mg</td>\n",
              "      <td>BELO HORIZONTE</td>\n",
              "      <td>https://politica.estadao.com.br/eleicoes/2020/...</td>\n",
              "    </tr>\n",
              "    <tr>\n",
              "      <th>41</th>\n",
              "      <td>wadson ribeiro</td>\n",
              "      <td>PC do B</td>\n",
              "      <td>mg</td>\n",
              "      <td>BELO HORIZONTE</td>\n",
              "      <td>https://politica.estadao.com.br/eleicoes/2020/...</td>\n",
              "    </tr>\n",
              "    <tr>\n",
              "      <th>42</th>\n",
              "      <td>wanderson rocha</td>\n",
              "      <td>PSTU</td>\n",
              "      <td>mg</td>\n",
              "      <td>BELO HORIZONTE</td>\n",
              "      <td>https://politica.estadao.com.br/eleicoes/2020/...</td>\n",
              "    </tr>\n",
              "    <tr>\n",
              "      <th>43</th>\n",
              "      <td>áurea carolina</td>\n",
              "      <td>PSOL</td>\n",
              "      <td>mg</td>\n",
              "      <td>BELO HORIZONTE</td>\n",
              "      <td>https://politica.estadao.com.br/eleicoes/2020/...</td>\n",
              "    </tr>\n",
              "  </tbody>\n",
              "</table>\n",
              "</div>"
            ],
            "text/plain": [
              "               nome_candidato  ...                                               link\n",
              "0            andrea matarazzo  ...  https://politica.estadao.com.br/eleicoes/2020/...\n",
              "1              antônio carlos  ...  https://politica.estadao.com.br/eleicoes/2020/...\n",
              "2   arthur do val mamãe falei  ...  https://politica.estadao.com.br/eleicoes/2020/...\n",
              "3                 bruno covas  ...  https://politica.estadao.com.br/eleicoes/2020/...\n",
              "4            celso russomanno  ...  https://politica.estadao.com.br/eleicoes/2020/...\n",
              "5            guilherme boulos  ...  https://politica.estadao.com.br/eleicoes/2020/...\n",
              "6                jilmar tatto  ...  https://politica.estadao.com.br/eleicoes/2020/...\n",
              "7            joice hasselmann  ...  https://politica.estadao.com.br/eleicoes/2020/...\n",
              "8                levy fidelix  ...  https://politica.estadao.com.br/eleicoes/2020/...\n",
              "9                marina helou  ...  https://politica.estadao.com.br/eleicoes/2020/...\n",
              "10              márcio frança  ...  https://politica.estadao.com.br/eleicoes/2020/...\n",
              "11              orlando silva  ...  https://politica.estadao.com.br/eleicoes/2020/...\n",
              "12                     sabará  ...  https://politica.estadao.com.br/eleicoes/2020/...\n",
              "13                       vera  ...  https://politica.estadao.com.br/eleicoes/2020/...\n",
              "14          bandeira de mello  ...  https://politica.estadao.com.br/eleicoes/2020/...\n",
              "15          benedita da silva  ...  https://politica.estadao.com.br/eleicoes/2020/...\n",
              "16         clarissa garotinho  ...  https://politica.estadao.com.br/eleicoes/2020/...\n",
              "17                   crivella  ...  https://politica.estadao.com.br/eleicoes/2020/...\n",
              "18                cyro garcia  ...  https://politica.estadao.com.br/eleicoes/2020/...\n",
              "19      delegada martha rocha  ...  https://politica.estadao.com.br/eleicoes/2020/...\n",
              "20               eduardo paes  ...  https://politica.estadao.com.br/eleicoes/2020/...\n",
              "21                   fred luz  ...  https://politica.estadao.com.br/eleicoes/2020/...\n",
              "22             glória heloiza  ...  https://politica.estadao.com.br/eleicoes/2020/...\n",
              "23          henrique simonard  ...  https://politica.estadao.com.br/eleicoes/2020/...\n",
              "24                  luiz lima  ...  https://politica.estadao.com.br/eleicoes/2020/...\n",
              "25              paulo messina  ...  https://politica.estadao.com.br/eleicoes/2020/...\n",
              "26               renata souza  ...  https://politica.estadao.com.br/eleicoes/2020/...\n",
              "27                suêd haidar  ...  https://politica.estadao.com.br/eleicoes/2020/...\n",
              "28               bruno engler  ...  https://politica.estadao.com.br/eleicoes/2020/...\n",
              "29               bruno engler  ...  https://politica.estadao.com.br/eleicoes/2020/...\n",
              "30                cabo xavier  ...  https://politica.estadao.com.br/eleicoes/2020/...\n",
              "31             fabiano cazeca  ...  https://politica.estadao.com.br/eleicoes/2020/...\n",
              "32          joão vitor xavier  ...  https://politica.estadao.com.br/eleicoes/2020/...\n",
              "33                      kalil  ...  https://politica.estadao.com.br/eleicoes/2020/...\n",
              "34          lafayette andrada  ...  https://politica.estadao.com.br/eleicoes/2020/...\n",
              "35              luisa barreto  ...  https://politica.estadao.com.br/eleicoes/2020/...\n",
              "36      marcelo souza e silva  ...  https://politica.estadao.com.br/eleicoes/2020/...\n",
              "37          marilia domingues  ...  https://politica.estadao.com.br/eleicoes/2020/...\n",
              "38           nilmário miranda  ...  https://politica.estadao.com.br/eleicoes/2020/...\n",
              "39  professor wendel mesquita  ...  https://politica.estadao.com.br/eleicoes/2020/...\n",
              "40              rodrigo paiva  ...  https://politica.estadao.com.br/eleicoes/2020/...\n",
              "41             wadson ribeiro  ...  https://politica.estadao.com.br/eleicoes/2020/...\n",
              "42            wanderson rocha  ...  https://politica.estadao.com.br/eleicoes/2020/...\n",
              "43             áurea carolina  ...  https://politica.estadao.com.br/eleicoes/2020/...\n",
              "\n",
              "[44 rows x 5 columns]"
            ]
          },
          "metadata": {
            "tags": []
          },
          "execution_count": 32
        }
      ]
    },
    {
      "cell_type": "markdown",
      "metadata": {
        "id": "F0wN21-7h9Kc"
      },
      "source": [
        "Vamos colocar em maiúsculo também as colunas nome_candidato e estado\n"
      ],
      "id": "F0wN21-7h9Kc"
    },
    {
      "cell_type": "code",
      "metadata": {
        "colab": {
          "base_uri": "https://localhost:8080/",
          "height": 142
        },
        "id": "u5vIp4sJh9Kd",
        "outputId": "071ab8dd-e5f7-4f30-d0f7-36427d5345ef"
      },
      "source": [
        "df_candidatos.nome_candidato = df_candidatos.nome_candidato.str.upper()\n",
        "df_candidatos.estado = df_candidatos.estado.str.upper()\n",
        "\n",
        "#visualiza DataFrame\n",
        "df_candidatos[:3]"
      ],
      "id": "u5vIp4sJh9Kd",
      "execution_count": 33,
      "outputs": [
        {
          "output_type": "execute_result",
          "data": {
            "text/html": [
              "<div>\n",
              "<style scoped>\n",
              "    .dataframe tbody tr th:only-of-type {\n",
              "        vertical-align: middle;\n",
              "    }\n",
              "\n",
              "    .dataframe tbody tr th {\n",
              "        vertical-align: top;\n",
              "    }\n",
              "\n",
              "    .dataframe thead th {\n",
              "        text-align: right;\n",
              "    }\n",
              "</style>\n",
              "<table border=\"1\" class=\"dataframe\">\n",
              "  <thead>\n",
              "    <tr style=\"text-align: right;\">\n",
              "      <th></th>\n",
              "      <th>nome_candidato</th>\n",
              "      <th>partido</th>\n",
              "      <th>estado</th>\n",
              "      <th>cidade</th>\n",
              "      <th>link</th>\n",
              "    </tr>\n",
              "  </thead>\n",
              "  <tbody>\n",
              "    <tr>\n",
              "      <th>0</th>\n",
              "      <td>ANDREA MATARAZZO</td>\n",
              "      <td>PSD</td>\n",
              "      <td>SP</td>\n",
              "      <td>SÃO PAULO</td>\n",
              "      <td>https://politica.estadao.com.br/eleicoes/2020/...</td>\n",
              "    </tr>\n",
              "    <tr>\n",
              "      <th>1</th>\n",
              "      <td>ANTÔNIO CARLOS</td>\n",
              "      <td>PCO</td>\n",
              "      <td>SP</td>\n",
              "      <td>SÃO PAULO</td>\n",
              "      <td>https://politica.estadao.com.br/eleicoes/2020/...</td>\n",
              "    </tr>\n",
              "    <tr>\n",
              "      <th>2</th>\n",
              "      <td>ARTHUR DO VAL MAMÃE FALEI</td>\n",
              "      <td>PATRIOTA</td>\n",
              "      <td>SP</td>\n",
              "      <td>SÃO PAULO</td>\n",
              "      <td>https://politica.estadao.com.br/eleicoes/2020/...</td>\n",
              "    </tr>\n",
              "  </tbody>\n",
              "</table>\n",
              "</div>"
            ],
            "text/plain": [
              "              nome_candidato  ...                                               link\n",
              "0           ANDREA MATARAZZO  ...  https://politica.estadao.com.br/eleicoes/2020/...\n",
              "1             ANTÔNIO CARLOS  ...  https://politica.estadao.com.br/eleicoes/2020/...\n",
              "2  ARTHUR DO VAL MAMÃE FALEI  ...  https://politica.estadao.com.br/eleicoes/2020/...\n",
              "\n",
              "[3 rows x 5 columns]"
            ]
          },
          "metadata": {
            "tags": []
          },
          "execution_count": 33
        }
      ]
    },
    {
      "cell_type": "markdown",
      "metadata": {
        "id": "7XIewUXzh9Kd"
      },
      "source": [
        "# Verificando coleta de dados\n"
      ],
      "id": "7XIewUXzh9Kd"
    },
    {
      "cell_type": "code",
      "metadata": {
        "colab": {
          "base_uri": "https://localhost:8080/",
          "height": 1000
        },
        "id": "67TVBzs1h9Kd",
        "outputId": "b0f6659b-a615-4209-c1bc-bfefa59abe07"
      },
      "source": [
        "df_candidatos"
      ],
      "id": "67TVBzs1h9Kd",
      "execution_count": 34,
      "outputs": [
        {
          "output_type": "execute_result",
          "data": {
            "text/html": [
              "<div>\n",
              "<style scoped>\n",
              "    .dataframe tbody tr th:only-of-type {\n",
              "        vertical-align: middle;\n",
              "    }\n",
              "\n",
              "    .dataframe tbody tr th {\n",
              "        vertical-align: top;\n",
              "    }\n",
              "\n",
              "    .dataframe thead th {\n",
              "        text-align: right;\n",
              "    }\n",
              "</style>\n",
              "<table border=\"1\" class=\"dataframe\">\n",
              "  <thead>\n",
              "    <tr style=\"text-align: right;\">\n",
              "      <th></th>\n",
              "      <th>nome_candidato</th>\n",
              "      <th>partido</th>\n",
              "      <th>estado</th>\n",
              "      <th>cidade</th>\n",
              "      <th>link</th>\n",
              "    </tr>\n",
              "  </thead>\n",
              "  <tbody>\n",
              "    <tr>\n",
              "      <th>0</th>\n",
              "      <td>ANDREA MATARAZZO</td>\n",
              "      <td>PSD</td>\n",
              "      <td>SP</td>\n",
              "      <td>SÃO PAULO</td>\n",
              "      <td>https://politica.estadao.com.br/eleicoes/2020/...</td>\n",
              "    </tr>\n",
              "    <tr>\n",
              "      <th>1</th>\n",
              "      <td>ANTÔNIO CARLOS</td>\n",
              "      <td>PCO</td>\n",
              "      <td>SP</td>\n",
              "      <td>SÃO PAULO</td>\n",
              "      <td>https://politica.estadao.com.br/eleicoes/2020/...</td>\n",
              "    </tr>\n",
              "    <tr>\n",
              "      <th>2</th>\n",
              "      <td>ARTHUR DO VAL MAMÃE FALEI</td>\n",
              "      <td>PATRIOTA</td>\n",
              "      <td>SP</td>\n",
              "      <td>SÃO PAULO</td>\n",
              "      <td>https://politica.estadao.com.br/eleicoes/2020/...</td>\n",
              "    </tr>\n",
              "    <tr>\n",
              "      <th>3</th>\n",
              "      <td>BRUNO COVAS</td>\n",
              "      <td>PSDB</td>\n",
              "      <td>SP</td>\n",
              "      <td>SÃO PAULO</td>\n",
              "      <td>https://politica.estadao.com.br/eleicoes/2020/...</td>\n",
              "    </tr>\n",
              "    <tr>\n",
              "      <th>4</th>\n",
              "      <td>CELSO RUSSOMANNO</td>\n",
              "      <td>REPUBLICANOS</td>\n",
              "      <td>SP</td>\n",
              "      <td>SÃO PAULO</td>\n",
              "      <td>https://politica.estadao.com.br/eleicoes/2020/...</td>\n",
              "    </tr>\n",
              "    <tr>\n",
              "      <th>5</th>\n",
              "      <td>GUILHERME BOULOS</td>\n",
              "      <td>PSOL</td>\n",
              "      <td>SP</td>\n",
              "      <td>SÃO PAULO</td>\n",
              "      <td>https://politica.estadao.com.br/eleicoes/2020/...</td>\n",
              "    </tr>\n",
              "    <tr>\n",
              "      <th>6</th>\n",
              "      <td>JILMAR TATTO</td>\n",
              "      <td>PT</td>\n",
              "      <td>SP</td>\n",
              "      <td>SÃO PAULO</td>\n",
              "      <td>https://politica.estadao.com.br/eleicoes/2020/...</td>\n",
              "    </tr>\n",
              "    <tr>\n",
              "      <th>7</th>\n",
              "      <td>JOICE HASSELMANN</td>\n",
              "      <td>PSL</td>\n",
              "      <td>SP</td>\n",
              "      <td>SÃO PAULO</td>\n",
              "      <td>https://politica.estadao.com.br/eleicoes/2020/...</td>\n",
              "    </tr>\n",
              "    <tr>\n",
              "      <th>8</th>\n",
              "      <td>LEVY FIDELIX</td>\n",
              "      <td>PRTB</td>\n",
              "      <td>SP</td>\n",
              "      <td>SÃO PAULO</td>\n",
              "      <td>https://politica.estadao.com.br/eleicoes/2020/...</td>\n",
              "    </tr>\n",
              "    <tr>\n",
              "      <th>9</th>\n",
              "      <td>MARINA HELOU</td>\n",
              "      <td>REDE</td>\n",
              "      <td>SP</td>\n",
              "      <td>SÃO PAULO</td>\n",
              "      <td>https://politica.estadao.com.br/eleicoes/2020/...</td>\n",
              "    </tr>\n",
              "    <tr>\n",
              "      <th>10</th>\n",
              "      <td>MÁRCIO FRANÇA</td>\n",
              "      <td>PSB</td>\n",
              "      <td>SP</td>\n",
              "      <td>SÃO PAULO</td>\n",
              "      <td>https://politica.estadao.com.br/eleicoes/2020/...</td>\n",
              "    </tr>\n",
              "    <tr>\n",
              "      <th>11</th>\n",
              "      <td>ORLANDO SILVA</td>\n",
              "      <td>PC do B</td>\n",
              "      <td>SP</td>\n",
              "      <td>SÃO PAULO</td>\n",
              "      <td>https://politica.estadao.com.br/eleicoes/2020/...</td>\n",
              "    </tr>\n",
              "    <tr>\n",
              "      <th>12</th>\n",
              "      <td>SABARÁ</td>\n",
              "      <td>NOVO</td>\n",
              "      <td>SP</td>\n",
              "      <td>SÃO PAULO</td>\n",
              "      <td>https://politica.estadao.com.br/eleicoes/2020/...</td>\n",
              "    </tr>\n",
              "    <tr>\n",
              "      <th>13</th>\n",
              "      <td>VERA</td>\n",
              "      <td>PSTU</td>\n",
              "      <td>SP</td>\n",
              "      <td>SÃO PAULO</td>\n",
              "      <td>https://politica.estadao.com.br/eleicoes/2020/...</td>\n",
              "    </tr>\n",
              "    <tr>\n",
              "      <th>14</th>\n",
              "      <td>BANDEIRA DE MELLO</td>\n",
              "      <td>REDE</td>\n",
              "      <td>RJ</td>\n",
              "      <td>RIO DE JANEIRO</td>\n",
              "      <td>https://politica.estadao.com.br/eleicoes/2020/...</td>\n",
              "    </tr>\n",
              "    <tr>\n",
              "      <th>15</th>\n",
              "      <td>BENEDITA DA SILVA</td>\n",
              "      <td>PT</td>\n",
              "      <td>RJ</td>\n",
              "      <td>RIO DE JANEIRO</td>\n",
              "      <td>https://politica.estadao.com.br/eleicoes/2020/...</td>\n",
              "    </tr>\n",
              "    <tr>\n",
              "      <th>16</th>\n",
              "      <td>CLARISSA GAROTINHO</td>\n",
              "      <td>PROS</td>\n",
              "      <td>RJ</td>\n",
              "      <td>RIO DE JANEIRO</td>\n",
              "      <td>https://politica.estadao.com.br/eleicoes/2020/...</td>\n",
              "    </tr>\n",
              "    <tr>\n",
              "      <th>17</th>\n",
              "      <td>CRIVELLA</td>\n",
              "      <td>REPUBLICANOS</td>\n",
              "      <td>RJ</td>\n",
              "      <td>RIO DE JANEIRO</td>\n",
              "      <td>https://politica.estadao.com.br/eleicoes/2020/...</td>\n",
              "    </tr>\n",
              "    <tr>\n",
              "      <th>18</th>\n",
              "      <td>CYRO GARCIA</td>\n",
              "      <td>PSTU</td>\n",
              "      <td>RJ</td>\n",
              "      <td>RIO DE JANEIRO</td>\n",
              "      <td>https://politica.estadao.com.br/eleicoes/2020/...</td>\n",
              "    </tr>\n",
              "    <tr>\n",
              "      <th>19</th>\n",
              "      <td>DELEGADA MARTHA ROCHA</td>\n",
              "      <td>PDT</td>\n",
              "      <td>RJ</td>\n",
              "      <td>RIO DE JANEIRO</td>\n",
              "      <td>https://politica.estadao.com.br/eleicoes/2020/...</td>\n",
              "    </tr>\n",
              "    <tr>\n",
              "      <th>20</th>\n",
              "      <td>EDUARDO PAES</td>\n",
              "      <td>DEM</td>\n",
              "      <td>RJ</td>\n",
              "      <td>RIO DE JANEIRO</td>\n",
              "      <td>https://politica.estadao.com.br/eleicoes/2020/...</td>\n",
              "    </tr>\n",
              "    <tr>\n",
              "      <th>21</th>\n",
              "      <td>FRED LUZ</td>\n",
              "      <td>NOVO</td>\n",
              "      <td>RJ</td>\n",
              "      <td>RIO DE JANEIRO</td>\n",
              "      <td>https://politica.estadao.com.br/eleicoes/2020/...</td>\n",
              "    </tr>\n",
              "    <tr>\n",
              "      <th>22</th>\n",
              "      <td>GLÓRIA HELOIZA</td>\n",
              "      <td>PSC</td>\n",
              "      <td>RJ</td>\n",
              "      <td>RIO DE JANEIRO</td>\n",
              "      <td>https://politica.estadao.com.br/eleicoes/2020/...</td>\n",
              "    </tr>\n",
              "    <tr>\n",
              "      <th>23</th>\n",
              "      <td>HENRIQUE SIMONARD</td>\n",
              "      <td>PCO</td>\n",
              "      <td>RJ</td>\n",
              "      <td>RIO DE JANEIRO</td>\n",
              "      <td>https://politica.estadao.com.br/eleicoes/2020/...</td>\n",
              "    </tr>\n",
              "    <tr>\n",
              "      <th>24</th>\n",
              "      <td>LUIZ LIMA</td>\n",
              "      <td>PSL</td>\n",
              "      <td>RJ</td>\n",
              "      <td>RIO DE JANEIRO</td>\n",
              "      <td>https://politica.estadao.com.br/eleicoes/2020/...</td>\n",
              "    </tr>\n",
              "    <tr>\n",
              "      <th>25</th>\n",
              "      <td>PAULO MESSINA</td>\n",
              "      <td>MDB</td>\n",
              "      <td>RJ</td>\n",
              "      <td>RIO DE JANEIRO</td>\n",
              "      <td>https://politica.estadao.com.br/eleicoes/2020/...</td>\n",
              "    </tr>\n",
              "    <tr>\n",
              "      <th>26</th>\n",
              "      <td>RENATA SOUZA</td>\n",
              "      <td>PSOL</td>\n",
              "      <td>RJ</td>\n",
              "      <td>RIO DE JANEIRO</td>\n",
              "      <td>https://politica.estadao.com.br/eleicoes/2020/...</td>\n",
              "    </tr>\n",
              "    <tr>\n",
              "      <th>27</th>\n",
              "      <td>SUÊD HAIDAR</td>\n",
              "      <td>PMB</td>\n",
              "      <td>RJ</td>\n",
              "      <td>RIO DE JANEIRO</td>\n",
              "      <td>https://politica.estadao.com.br/eleicoes/2020/...</td>\n",
              "    </tr>\n",
              "    <tr>\n",
              "      <th>28</th>\n",
              "      <td>BRUNO ENGLER</td>\n",
              "      <td>PRTB</td>\n",
              "      <td>MG</td>\n",
              "      <td>BELO HORIZONTE</td>\n",
              "      <td>https://politica.estadao.com.br/eleicoes/2020/...</td>\n",
              "    </tr>\n",
              "    <tr>\n",
              "      <th>29</th>\n",
              "      <td>BRUNO ENGLER</td>\n",
              "      <td>PRTB</td>\n",
              "      <td>MG</td>\n",
              "      <td>BELO HORIZONTE</td>\n",
              "      <td>https://politica.estadao.com.br/eleicoes/2020/...</td>\n",
              "    </tr>\n",
              "    <tr>\n",
              "      <th>30</th>\n",
              "      <td>CABO XAVIER</td>\n",
              "      <td>PMB</td>\n",
              "      <td>MG</td>\n",
              "      <td>BELO HORIZONTE</td>\n",
              "      <td>https://politica.estadao.com.br/eleicoes/2020/...</td>\n",
              "    </tr>\n",
              "    <tr>\n",
              "      <th>31</th>\n",
              "      <td>FABIANO CAZECA</td>\n",
              "      <td>PROS</td>\n",
              "      <td>MG</td>\n",
              "      <td>BELO HORIZONTE</td>\n",
              "      <td>https://politica.estadao.com.br/eleicoes/2020/...</td>\n",
              "    </tr>\n",
              "    <tr>\n",
              "      <th>32</th>\n",
              "      <td>JOÃO VITOR XAVIER</td>\n",
              "      <td>CIDADANIA</td>\n",
              "      <td>MG</td>\n",
              "      <td>BELO HORIZONTE</td>\n",
              "      <td>https://politica.estadao.com.br/eleicoes/2020/...</td>\n",
              "    </tr>\n",
              "    <tr>\n",
              "      <th>33</th>\n",
              "      <td>KALIL</td>\n",
              "      <td>PSD</td>\n",
              "      <td>MG</td>\n",
              "      <td>BELO HORIZONTE</td>\n",
              "      <td>https://politica.estadao.com.br/eleicoes/2020/...</td>\n",
              "    </tr>\n",
              "    <tr>\n",
              "      <th>34</th>\n",
              "      <td>LAFAYETTE ANDRADA</td>\n",
              "      <td>REPUBLICANOS</td>\n",
              "      <td>MG</td>\n",
              "      <td>BELO HORIZONTE</td>\n",
              "      <td>https://politica.estadao.com.br/eleicoes/2020/...</td>\n",
              "    </tr>\n",
              "    <tr>\n",
              "      <th>35</th>\n",
              "      <td>LUISA BARRETO</td>\n",
              "      <td>PSDB</td>\n",
              "      <td>MG</td>\n",
              "      <td>BELO HORIZONTE</td>\n",
              "      <td>https://politica.estadao.com.br/eleicoes/2020/...</td>\n",
              "    </tr>\n",
              "    <tr>\n",
              "      <th>36</th>\n",
              "      <td>MARCELO SOUZA E SILVA</td>\n",
              "      <td>PATRIOTA</td>\n",
              "      <td>MG</td>\n",
              "      <td>BELO HORIZONTE</td>\n",
              "      <td>https://politica.estadao.com.br/eleicoes/2020/...</td>\n",
              "    </tr>\n",
              "    <tr>\n",
              "      <th>37</th>\n",
              "      <td>MARILIA DOMINGUES</td>\n",
              "      <td>PCO</td>\n",
              "      <td>MG</td>\n",
              "      <td>BELO HORIZONTE</td>\n",
              "      <td>https://politica.estadao.com.br/eleicoes/2020/...</td>\n",
              "    </tr>\n",
              "    <tr>\n",
              "      <th>38</th>\n",
              "      <td>NILMÁRIO MIRANDA</td>\n",
              "      <td>PT</td>\n",
              "      <td>MG</td>\n",
              "      <td>BELO HORIZONTE</td>\n",
              "      <td>https://politica.estadao.com.br/eleicoes/2020/...</td>\n",
              "    </tr>\n",
              "    <tr>\n",
              "      <th>39</th>\n",
              "      <td>PROFESSOR WENDEL MESQUITA</td>\n",
              "      <td>SOLIDARIEDADE</td>\n",
              "      <td>MG</td>\n",
              "      <td>BELO HORIZONTE</td>\n",
              "      <td>https://politica.estadao.com.br/eleicoes/2020/...</td>\n",
              "    </tr>\n",
              "    <tr>\n",
              "      <th>40</th>\n",
              "      <td>RODRIGO PAIVA</td>\n",
              "      <td>NOVO</td>\n",
              "      <td>MG</td>\n",
              "      <td>BELO HORIZONTE</td>\n",
              "      <td>https://politica.estadao.com.br/eleicoes/2020/...</td>\n",
              "    </tr>\n",
              "    <tr>\n",
              "      <th>41</th>\n",
              "      <td>WADSON RIBEIRO</td>\n",
              "      <td>PC do B</td>\n",
              "      <td>MG</td>\n",
              "      <td>BELO HORIZONTE</td>\n",
              "      <td>https://politica.estadao.com.br/eleicoes/2020/...</td>\n",
              "    </tr>\n",
              "    <tr>\n",
              "      <th>42</th>\n",
              "      <td>WANDERSON ROCHA</td>\n",
              "      <td>PSTU</td>\n",
              "      <td>MG</td>\n",
              "      <td>BELO HORIZONTE</td>\n",
              "      <td>https://politica.estadao.com.br/eleicoes/2020/...</td>\n",
              "    </tr>\n",
              "    <tr>\n",
              "      <th>43</th>\n",
              "      <td>ÁUREA CAROLINA</td>\n",
              "      <td>PSOL</td>\n",
              "      <td>MG</td>\n",
              "      <td>BELO HORIZONTE</td>\n",
              "      <td>https://politica.estadao.com.br/eleicoes/2020/...</td>\n",
              "    </tr>\n",
              "  </tbody>\n",
              "</table>\n",
              "</div>"
            ],
            "text/plain": [
              "               nome_candidato  ...                                               link\n",
              "0            ANDREA MATARAZZO  ...  https://politica.estadao.com.br/eleicoes/2020/...\n",
              "1              ANTÔNIO CARLOS  ...  https://politica.estadao.com.br/eleicoes/2020/...\n",
              "2   ARTHUR DO VAL MAMÃE FALEI  ...  https://politica.estadao.com.br/eleicoes/2020/...\n",
              "3                 BRUNO COVAS  ...  https://politica.estadao.com.br/eleicoes/2020/...\n",
              "4            CELSO RUSSOMANNO  ...  https://politica.estadao.com.br/eleicoes/2020/...\n",
              "5            GUILHERME BOULOS  ...  https://politica.estadao.com.br/eleicoes/2020/...\n",
              "6                JILMAR TATTO  ...  https://politica.estadao.com.br/eleicoes/2020/...\n",
              "7            JOICE HASSELMANN  ...  https://politica.estadao.com.br/eleicoes/2020/...\n",
              "8                LEVY FIDELIX  ...  https://politica.estadao.com.br/eleicoes/2020/...\n",
              "9                MARINA HELOU  ...  https://politica.estadao.com.br/eleicoes/2020/...\n",
              "10              MÁRCIO FRANÇA  ...  https://politica.estadao.com.br/eleicoes/2020/...\n",
              "11              ORLANDO SILVA  ...  https://politica.estadao.com.br/eleicoes/2020/...\n",
              "12                     SABARÁ  ...  https://politica.estadao.com.br/eleicoes/2020/...\n",
              "13                       VERA  ...  https://politica.estadao.com.br/eleicoes/2020/...\n",
              "14          BANDEIRA DE MELLO  ...  https://politica.estadao.com.br/eleicoes/2020/...\n",
              "15          BENEDITA DA SILVA  ...  https://politica.estadao.com.br/eleicoes/2020/...\n",
              "16         CLARISSA GAROTINHO  ...  https://politica.estadao.com.br/eleicoes/2020/...\n",
              "17                   CRIVELLA  ...  https://politica.estadao.com.br/eleicoes/2020/...\n",
              "18                CYRO GARCIA  ...  https://politica.estadao.com.br/eleicoes/2020/...\n",
              "19      DELEGADA MARTHA ROCHA  ...  https://politica.estadao.com.br/eleicoes/2020/...\n",
              "20               EDUARDO PAES  ...  https://politica.estadao.com.br/eleicoes/2020/...\n",
              "21                   FRED LUZ  ...  https://politica.estadao.com.br/eleicoes/2020/...\n",
              "22             GLÓRIA HELOIZA  ...  https://politica.estadao.com.br/eleicoes/2020/...\n",
              "23          HENRIQUE SIMONARD  ...  https://politica.estadao.com.br/eleicoes/2020/...\n",
              "24                  LUIZ LIMA  ...  https://politica.estadao.com.br/eleicoes/2020/...\n",
              "25              PAULO MESSINA  ...  https://politica.estadao.com.br/eleicoes/2020/...\n",
              "26               RENATA SOUZA  ...  https://politica.estadao.com.br/eleicoes/2020/...\n",
              "27                SUÊD HAIDAR  ...  https://politica.estadao.com.br/eleicoes/2020/...\n",
              "28               BRUNO ENGLER  ...  https://politica.estadao.com.br/eleicoes/2020/...\n",
              "29               BRUNO ENGLER  ...  https://politica.estadao.com.br/eleicoes/2020/...\n",
              "30                CABO XAVIER  ...  https://politica.estadao.com.br/eleicoes/2020/...\n",
              "31             FABIANO CAZECA  ...  https://politica.estadao.com.br/eleicoes/2020/...\n",
              "32          JOÃO VITOR XAVIER  ...  https://politica.estadao.com.br/eleicoes/2020/...\n",
              "33                      KALIL  ...  https://politica.estadao.com.br/eleicoes/2020/...\n",
              "34          LAFAYETTE ANDRADA  ...  https://politica.estadao.com.br/eleicoes/2020/...\n",
              "35              LUISA BARRETO  ...  https://politica.estadao.com.br/eleicoes/2020/...\n",
              "36      MARCELO SOUZA E SILVA  ...  https://politica.estadao.com.br/eleicoes/2020/...\n",
              "37          MARILIA DOMINGUES  ...  https://politica.estadao.com.br/eleicoes/2020/...\n",
              "38           NILMÁRIO MIRANDA  ...  https://politica.estadao.com.br/eleicoes/2020/...\n",
              "39  PROFESSOR WENDEL MESQUITA  ...  https://politica.estadao.com.br/eleicoes/2020/...\n",
              "40              RODRIGO PAIVA  ...  https://politica.estadao.com.br/eleicoes/2020/...\n",
              "41             WADSON RIBEIRO  ...  https://politica.estadao.com.br/eleicoes/2020/...\n",
              "42            WANDERSON ROCHA  ...  https://politica.estadao.com.br/eleicoes/2020/...\n",
              "43             ÁUREA CAROLINA  ...  https://politica.estadao.com.br/eleicoes/2020/...\n",
              "\n",
              "[44 rows x 5 columns]"
            ]
          },
          "metadata": {
            "tags": []
          },
          "execution_count": 34
        }
      ]
    }
  ]
}