{
  "nbformat": 4,
  "nbformat_minor": 5,
  "metadata": {
    "kernelspec": {
      "display_name": "coleta_dados",
      "language": "python",
      "name": "coleta_dados"
    },
    "language_info": {
      "codemirror_mode": {
        "name": "ipython",
        "version": 3
      },
      "file_extension": ".py",
      "mimetype": "text/x-python",
      "name": "python",
      "nbconvert_exporter": "python",
      "pygments_lexer": "ipython3",
      "version": "3.8.5"
    },
    "colab": {
      "name": "Progresso Mundial da Vacinação COVID-19.ipynb",
      "provenance": [],
      "toc_visible": true,
      "include_colab_link": true
    }
  },
  "cells": [
    {
      "cell_type": "markdown",
      "metadata": {
        "id": "view-in-github",
        "colab_type": "text"
      },
      "source": [
        "<a href=\"https://colab.research.google.com/github/LTayrone/analisesexploratorias/blob/main/Progresso_Mundial_da_Vacina%C3%A7%C3%A3o_COVID_19.ipynb\" target=\"_parent\"><img src=\"https://colab.research.google.com/assets/colab-badge.svg\" alt=\"Open In Colab\"/></a>"
      ]
    },
    {
      "cell_type": "markdown",
      "metadata": {
        "id": "7ONLdeNwSks9"
      },
      "source": [
        "# Coleta de dados estruturados\n",
        "\n",
        "Os dados estruturados são provenientes de estruturas definidas, inflexível, pensadas antes mesmo da própria criação dos dados. Exemplo de dados estruturados: Tabelas de banco de dados, planilhas eletrônicas, arquivos de textos como txt e csv.\n",
        "\n",
        "Nesse exercício vamos inicíar a coleta de dados proveniente de arquivos de texto disponibilizado no site do Kaggle.\n",
        "\n",
        "A base de dados está disponível no seguinte link: https://www.kaggle.com/gpreda/covid-world-vaccination-progress\n",
        "\n",
        "**Informação importante:**\n",
        "Esse dataset é atualizado diariamente. Desta forma, para que os resultados sejam iguais esse exercicio, temos que utilizar o mesmo dataset. O dataset pode ser obtido no arquivo disponbilizado da plataforma do canvas do IGTI ou no github https://github.com/ProfLeandroLessa\n",
        "\n",
        "O dataset utilizado nesse estudo foi coletado no dia 26/02/\n",
        "2021 às 17:50\n",
        "\n",
        "Está sendo trabalhado no dia 21/03/2021 por Lucas Tayrone\n"
      ],
      "id": "7ONLdeNwSks9"
    },
    {
      "cell_type": "code",
      "metadata": {
        "id": "GurZAwdDSktG"
      },
      "source": [
        "# Antes de iniciar a coleta dos dados vamos importar as bibliotecas necessárias.\n",
        "import pandas as pd\n",
        "import os "
      ],
      "id": "GurZAwdDSktG",
      "execution_count": 1,
      "outputs": []
    },
    {
      "cell_type": "markdown",
      "metadata": {
        "id": "2zZOQZMASktH"
      },
      "source": [
        "# Importando dados do arquivo\n",
        "O primeiro passo é encontrar o local aonde o arquivo a ser trabalho vai estar armazenado. \n",
        "Após isso, vamos abrir-lo e em seguida vamos adiciona-lo dentro de um dataframe do pandas."
      ],
      "id": "2zZOQZMASktH"
    },
    {
      "cell_type": "code",
      "metadata": {
        "id": "m2y9aM9XSktH"
      },
      "source": [
        "dados = pd.read_csv('/content/country_vaccinations.csv', sep=',', encoding='latin-1' )"
      ],
      "id": "m2y9aM9XSktH",
      "execution_count": 4,
      "outputs": []
    },
    {
      "cell_type": "markdown",
      "metadata": {
        "id": "qeIFKmsDSktI"
      },
      "source": [
        "Verifica o caminho do diretorio que o arquivo esta salvo"
      ],
      "id": "qeIFKmsDSktI"
    },
    {
      "cell_type": "code",
      "metadata": {
        "colab": {
          "base_uri": "https://localhost:8080/",
          "height": 609
        },
        "id": "55nBhv9qSktI",
        "outputId": "744e8891-f37d-4e9b-face-e1645a556305"
      },
      "source": [
        "dados"
      ],
      "id": "55nBhv9qSktI",
      "execution_count": 5,
      "outputs": [
        {
          "output_type": "execute_result",
          "data": {
            "text/html": [
              "<div>\n",
              "<style scoped>\n",
              "    .dataframe tbody tr th:only-of-type {\n",
              "        vertical-align: middle;\n",
              "    }\n",
              "\n",
              "    .dataframe tbody tr th {\n",
              "        vertical-align: top;\n",
              "    }\n",
              "\n",
              "    .dataframe thead th {\n",
              "        text-align: right;\n",
              "    }\n",
              "</style>\n",
              "<table border=\"1\" class=\"dataframe\">\n",
              "  <thead>\n",
              "    <tr style=\"text-align: right;\">\n",
              "      <th></th>\n",
              "      <th>country</th>\n",
              "      <th>iso_code</th>\n",
              "      <th>date</th>\n",
              "      <th>total_vaccinations</th>\n",
              "      <th>people_vaccinated</th>\n",
              "      <th>people_fully_vaccinated</th>\n",
              "      <th>daily_vaccinations_raw</th>\n",
              "      <th>daily_vaccinations</th>\n",
              "      <th>total_vaccinations_per_hundred</th>\n",
              "      <th>people_vaccinated_per_hundred</th>\n",
              "      <th>people_fully_vaccinated_per_hundred</th>\n",
              "      <th>daily_vaccinations_per_million</th>\n",
              "      <th>vaccines</th>\n",
              "      <th>source_name</th>\n",
              "      <th>source_website</th>\n",
              "    </tr>\n",
              "  </thead>\n",
              "  <tbody>\n",
              "    <tr>\n",
              "      <th>0</th>\n",
              "      <td>Albania</td>\n",
              "      <td>ALB</td>\n",
              "      <td>2021-01-10</td>\n",
              "      <td>0.0</td>\n",
              "      <td>0.0</td>\n",
              "      <td>NaN</td>\n",
              "      <td>NaN</td>\n",
              "      <td>NaN</td>\n",
              "      <td>0.00</td>\n",
              "      <td>0.00</td>\n",
              "      <td>NaN</td>\n",
              "      <td>NaN</td>\n",
              "      <td>Pfizer/BioNTech</td>\n",
              "      <td>Ministry of Health</td>\n",
              "      <td>https://shendetesia.gov.al/covid19-ministria-e...</td>\n",
              "    </tr>\n",
              "    <tr>\n",
              "      <th>1</th>\n",
              "      <td>Albania</td>\n",
              "      <td>ALB</td>\n",
              "      <td>2021-01-11</td>\n",
              "      <td>NaN</td>\n",
              "      <td>NaN</td>\n",
              "      <td>NaN</td>\n",
              "      <td>NaN</td>\n",
              "      <td>64.0</td>\n",
              "      <td>NaN</td>\n",
              "      <td>NaN</td>\n",
              "      <td>NaN</td>\n",
              "      <td>22.0</td>\n",
              "      <td>Pfizer/BioNTech</td>\n",
              "      <td>Ministry of Health</td>\n",
              "      <td>https://shendetesia.gov.al/covid19-ministria-e...</td>\n",
              "    </tr>\n",
              "    <tr>\n",
              "      <th>2</th>\n",
              "      <td>Albania</td>\n",
              "      <td>ALB</td>\n",
              "      <td>2021-01-12</td>\n",
              "      <td>128.0</td>\n",
              "      <td>128.0</td>\n",
              "      <td>NaN</td>\n",
              "      <td>NaN</td>\n",
              "      <td>64.0</td>\n",
              "      <td>0.00</td>\n",
              "      <td>0.00</td>\n",
              "      <td>NaN</td>\n",
              "      <td>22.0</td>\n",
              "      <td>Pfizer/BioNTech</td>\n",
              "      <td>Ministry of Health</td>\n",
              "      <td>https://shendetesia.gov.al/covid19-ministria-e...</td>\n",
              "    </tr>\n",
              "    <tr>\n",
              "      <th>3</th>\n",
              "      <td>Albania</td>\n",
              "      <td>ALB</td>\n",
              "      <td>2021-01-13</td>\n",
              "      <td>188.0</td>\n",
              "      <td>188.0</td>\n",
              "      <td>NaN</td>\n",
              "      <td>60.0</td>\n",
              "      <td>63.0</td>\n",
              "      <td>0.01</td>\n",
              "      <td>0.01</td>\n",
              "      <td>NaN</td>\n",
              "      <td>22.0</td>\n",
              "      <td>Pfizer/BioNTech</td>\n",
              "      <td>Ministry of Health</td>\n",
              "      <td>https://shendetesia.gov.al/covid19-ministria-e...</td>\n",
              "    </tr>\n",
              "    <tr>\n",
              "      <th>4</th>\n",
              "      <td>Albania</td>\n",
              "      <td>ALB</td>\n",
              "      <td>2021-01-14</td>\n",
              "      <td>266.0</td>\n",
              "      <td>266.0</td>\n",
              "      <td>NaN</td>\n",
              "      <td>78.0</td>\n",
              "      <td>66.0</td>\n",
              "      <td>0.01</td>\n",
              "      <td>0.01</td>\n",
              "      <td>NaN</td>\n",
              "      <td>23.0</td>\n",
              "      <td>Pfizer/BioNTech</td>\n",
              "      <td>Ministry of Health</td>\n",
              "      <td>https://shendetesia.gov.al/covid19-ministria-e...</td>\n",
              "    </tr>\n",
              "    <tr>\n",
              "      <th>...</th>\n",
              "      <td>...</td>\n",
              "      <td>...</td>\n",
              "      <td>...</td>\n",
              "      <td>...</td>\n",
              "      <td>...</td>\n",
              "      <td>...</td>\n",
              "      <td>...</td>\n",
              "      <td>...</td>\n",
              "      <td>...</td>\n",
              "      <td>...</td>\n",
              "      <td>...</td>\n",
              "      <td>...</td>\n",
              "      <td>...</td>\n",
              "      <td>...</td>\n",
              "      <td>...</td>\n",
              "    </tr>\n",
              "    <tr>\n",
              "      <th>4375</th>\n",
              "      <td>Zimbabwe</td>\n",
              "      <td>ZWE</td>\n",
              "      <td>2021-02-22</td>\n",
              "      <td>1314.0</td>\n",
              "      <td>1314.0</td>\n",
              "      <td>NaN</td>\n",
              "      <td>NaN</td>\n",
              "      <td>328.0</td>\n",
              "      <td>0.01</td>\n",
              "      <td>0.01</td>\n",
              "      <td>NaN</td>\n",
              "      <td>22.0</td>\n",
              "      <td>Sinopharm/Beijing</td>\n",
              "      <td>Ministry of Health</td>\n",
              "      <td>https://twitter.com/MoHCCZim/status/1365400469...</td>\n",
              "    </tr>\n",
              "    <tr>\n",
              "      <th>4376</th>\n",
              "      <td>Zimbabwe</td>\n",
              "      <td>ZWE</td>\n",
              "      <td>2021-02-23</td>\n",
              "      <td>4041.0</td>\n",
              "      <td>4041.0</td>\n",
              "      <td>NaN</td>\n",
              "      <td>2727.0</td>\n",
              "      <td>808.0</td>\n",
              "      <td>0.03</td>\n",
              "      <td>0.03</td>\n",
              "      <td>NaN</td>\n",
              "      <td>54.0</td>\n",
              "      <td>Sinopharm/Beijing</td>\n",
              "      <td>Ministry of Health</td>\n",
              "      <td>https://twitter.com/MoHCCZim/status/1365400469...</td>\n",
              "    </tr>\n",
              "    <tr>\n",
              "      <th>4377</th>\n",
              "      <td>Zimbabwe</td>\n",
              "      <td>ZWE</td>\n",
              "      <td>2021-02-24</td>\n",
              "      <td>7872.0</td>\n",
              "      <td>7872.0</td>\n",
              "      <td>NaN</td>\n",
              "      <td>3831.0</td>\n",
              "      <td>1312.0</td>\n",
              "      <td>0.05</td>\n",
              "      <td>0.05</td>\n",
              "      <td>NaN</td>\n",
              "      <td>88.0</td>\n",
              "      <td>Sinopharm/Beijing</td>\n",
              "      <td>Ministry of Health</td>\n",
              "      <td>https://twitter.com/MoHCCZim/status/1365400469...</td>\n",
              "    </tr>\n",
              "    <tr>\n",
              "      <th>4378</th>\n",
              "      <td>Zimbabwe</td>\n",
              "      <td>ZWE</td>\n",
              "      <td>2021-02-25</td>\n",
              "      <td>11007.0</td>\n",
              "      <td>11007.0</td>\n",
              "      <td>NaN</td>\n",
              "      <td>3135.0</td>\n",
              "      <td>1572.0</td>\n",
              "      <td>0.07</td>\n",
              "      <td>0.07</td>\n",
              "      <td>NaN</td>\n",
              "      <td>106.0</td>\n",
              "      <td>Sinopharm/Beijing</td>\n",
              "      <td>Ministry of Health</td>\n",
              "      <td>https://twitter.com/MoHCCZim/status/1365400469...</td>\n",
              "    </tr>\n",
              "    <tr>\n",
              "      <th>4379</th>\n",
              "      <td>Zimbabwe</td>\n",
              "      <td>ZWE</td>\n",
              "      <td>2021-02-26</td>\n",
              "      <td>12579.0</td>\n",
              "      <td>12579.0</td>\n",
              "      <td>NaN</td>\n",
              "      <td>1572.0</td>\n",
              "      <td>1750.0</td>\n",
              "      <td>0.08</td>\n",
              "      <td>0.08</td>\n",
              "      <td>NaN</td>\n",
              "      <td>118.0</td>\n",
              "      <td>Sinopharm/Beijing</td>\n",
              "      <td>Ministry of Health</td>\n",
              "      <td>https://twitter.com/MoHCCZim/status/1365400469...</td>\n",
              "    </tr>\n",
              "  </tbody>\n",
              "</table>\n",
              "<p>4380 rows × 15 columns</p>\n",
              "</div>"
            ],
            "text/plain": [
              "       country  ...                                     source_website\n",
              "0      Albania  ...  https://shendetesia.gov.al/covid19-ministria-e...\n",
              "1      Albania  ...  https://shendetesia.gov.al/covid19-ministria-e...\n",
              "2      Albania  ...  https://shendetesia.gov.al/covid19-ministria-e...\n",
              "3      Albania  ...  https://shendetesia.gov.al/covid19-ministria-e...\n",
              "4      Albania  ...  https://shendetesia.gov.al/covid19-ministria-e...\n",
              "...        ...  ...                                                ...\n",
              "4375  Zimbabwe  ...  https://twitter.com/MoHCCZim/status/1365400469...\n",
              "4376  Zimbabwe  ...  https://twitter.com/MoHCCZim/status/1365400469...\n",
              "4377  Zimbabwe  ...  https://twitter.com/MoHCCZim/status/1365400469...\n",
              "4378  Zimbabwe  ...  https://twitter.com/MoHCCZim/status/1365400469...\n",
              "4379  Zimbabwe  ...  https://twitter.com/MoHCCZim/status/1365400469...\n",
              "\n",
              "[4380 rows x 15 columns]"
            ]
          },
          "metadata": {
            "tags": []
          },
          "execution_count": 5
        }
      ]
    },
    {
      "cell_type": "markdown",
      "metadata": {
        "id": "cT5yOcHoSktK"
      },
      "source": [
        "Agora vamos criar um data frame no pandas e ler o arquivo na pasta de origem. \n",
        "Para abir o arquivo vamos utilizar o comando read_csv e utiliar o separador ';' de acordo com o dado fornecido. Além disso, temos que utilizar o encoding informando a codigicação do arquivo."
      ],
      "id": "cT5yOcHoSktK"
    },
    {
      "cell_type": "code",
      "metadata": {
        "colab": {
          "base_uri": "https://localhost:8080/",
          "height": 309
        },
        "id": "Fo4MVNTESktL",
        "outputId": "5afea4ab-3a97-400e-93d1-0eb930366705"
      },
      "source": [
        "# Exibe os 5 primeiros regirstros da tabela\n",
        "dados.head(5)"
      ],
      "id": "Fo4MVNTESktL",
      "execution_count": 10,
      "outputs": [
        {
          "output_type": "execute_result",
          "data": {
            "text/html": [
              "<div>\n",
              "<style scoped>\n",
              "    .dataframe tbody tr th:only-of-type {\n",
              "        vertical-align: middle;\n",
              "    }\n",
              "\n",
              "    .dataframe tbody tr th {\n",
              "        vertical-align: top;\n",
              "    }\n",
              "\n",
              "    .dataframe thead th {\n",
              "        text-align: right;\n",
              "    }\n",
              "</style>\n",
              "<table border=\"1\" class=\"dataframe\">\n",
              "  <thead>\n",
              "    <tr style=\"text-align: right;\">\n",
              "      <th></th>\n",
              "      <th>country</th>\n",
              "      <th>iso_code</th>\n",
              "      <th>date</th>\n",
              "      <th>total_vaccinations</th>\n",
              "      <th>people_vaccinated</th>\n",
              "      <th>people_fully_vaccinated</th>\n",
              "      <th>daily_vaccinations_raw</th>\n",
              "      <th>daily_vaccinations</th>\n",
              "      <th>total_vaccinations_per_hundred</th>\n",
              "      <th>people_vaccinated_per_hundred</th>\n",
              "      <th>people_fully_vaccinated_per_hundred</th>\n",
              "      <th>daily_vaccinations_per_million</th>\n",
              "      <th>vaccines</th>\n",
              "      <th>source_name</th>\n",
              "      <th>source_website</th>\n",
              "    </tr>\n",
              "  </thead>\n",
              "  <tbody>\n",
              "    <tr>\n",
              "      <th>0</th>\n",
              "      <td>Albania</td>\n",
              "      <td>ALB</td>\n",
              "      <td>2021-01-10</td>\n",
              "      <td>0.0</td>\n",
              "      <td>0.0</td>\n",
              "      <td>NaN</td>\n",
              "      <td>NaN</td>\n",
              "      <td>NaN</td>\n",
              "      <td>0.00</td>\n",
              "      <td>0.00</td>\n",
              "      <td>NaN</td>\n",
              "      <td>NaN</td>\n",
              "      <td>Pfizer/BioNTech</td>\n",
              "      <td>Ministry of Health</td>\n",
              "      <td>https://shendetesia.gov.al/covid19-ministria-e...</td>\n",
              "    </tr>\n",
              "    <tr>\n",
              "      <th>1</th>\n",
              "      <td>Albania</td>\n",
              "      <td>ALB</td>\n",
              "      <td>2021-01-11</td>\n",
              "      <td>NaN</td>\n",
              "      <td>NaN</td>\n",
              "      <td>NaN</td>\n",
              "      <td>NaN</td>\n",
              "      <td>64.0</td>\n",
              "      <td>NaN</td>\n",
              "      <td>NaN</td>\n",
              "      <td>NaN</td>\n",
              "      <td>22.0</td>\n",
              "      <td>Pfizer/BioNTech</td>\n",
              "      <td>Ministry of Health</td>\n",
              "      <td>https://shendetesia.gov.al/covid19-ministria-e...</td>\n",
              "    </tr>\n",
              "    <tr>\n",
              "      <th>2</th>\n",
              "      <td>Albania</td>\n",
              "      <td>ALB</td>\n",
              "      <td>2021-01-12</td>\n",
              "      <td>128.0</td>\n",
              "      <td>128.0</td>\n",
              "      <td>NaN</td>\n",
              "      <td>NaN</td>\n",
              "      <td>64.0</td>\n",
              "      <td>0.00</td>\n",
              "      <td>0.00</td>\n",
              "      <td>NaN</td>\n",
              "      <td>22.0</td>\n",
              "      <td>Pfizer/BioNTech</td>\n",
              "      <td>Ministry of Health</td>\n",
              "      <td>https://shendetesia.gov.al/covid19-ministria-e...</td>\n",
              "    </tr>\n",
              "    <tr>\n",
              "      <th>3</th>\n",
              "      <td>Albania</td>\n",
              "      <td>ALB</td>\n",
              "      <td>2021-01-13</td>\n",
              "      <td>188.0</td>\n",
              "      <td>188.0</td>\n",
              "      <td>NaN</td>\n",
              "      <td>60.0</td>\n",
              "      <td>63.0</td>\n",
              "      <td>0.01</td>\n",
              "      <td>0.01</td>\n",
              "      <td>NaN</td>\n",
              "      <td>22.0</td>\n",
              "      <td>Pfizer/BioNTech</td>\n",
              "      <td>Ministry of Health</td>\n",
              "      <td>https://shendetesia.gov.al/covid19-ministria-e...</td>\n",
              "    </tr>\n",
              "    <tr>\n",
              "      <th>4</th>\n",
              "      <td>Albania</td>\n",
              "      <td>ALB</td>\n",
              "      <td>2021-01-14</td>\n",
              "      <td>266.0</td>\n",
              "      <td>266.0</td>\n",
              "      <td>NaN</td>\n",
              "      <td>78.0</td>\n",
              "      <td>66.0</td>\n",
              "      <td>0.01</td>\n",
              "      <td>0.01</td>\n",
              "      <td>NaN</td>\n",
              "      <td>23.0</td>\n",
              "      <td>Pfizer/BioNTech</td>\n",
              "      <td>Ministry of Health</td>\n",
              "      <td>https://shendetesia.gov.al/covid19-ministria-e...</td>\n",
              "    </tr>\n",
              "  </tbody>\n",
              "</table>\n",
              "</div>"
            ],
            "text/plain": [
              "   country  ...                                     source_website\n",
              "0  Albania  ...  https://shendetesia.gov.al/covid19-ministria-e...\n",
              "1  Albania  ...  https://shendetesia.gov.al/covid19-ministria-e...\n",
              "2  Albania  ...  https://shendetesia.gov.al/covid19-ministria-e...\n",
              "3  Albania  ...  https://shendetesia.gov.al/covid19-ministria-e...\n",
              "4  Albania  ...  https://shendetesia.gov.al/covid19-ministria-e...\n",
              "\n",
              "[5 rows x 15 columns]"
            ]
          },
          "metadata": {
            "tags": []
          },
          "execution_count": 10
        }
      ]
    },
    {
      "cell_type": "markdown",
      "metadata": {
        "id": "2_qLPfUxSktL"
      },
      "source": [
        "# Analisando os dados\n",
        "\n",
        "\n",
        "## Sobre o dataset\n",
        "\n",
        "O dataset utilizado é referente a estatistica do número de vacinados da COVID-19 em todos os países do mundo.\n",
        "\n",
        "Para esse estudo vamos utilizar as váriaveis: \n",
        "*county = pais;\n",
        "date = data;\n",
        "total_vaccinations = Número total de vacinações ( número absoluto de imunizações totais no país);\n",
        "daily_vaccinations = Número de vacinados por dia;\n",
        "Vaccines = vacinas utilizadas no país;\n",
        ";*\n",
        "\n",
        "\n",
        "Vamos responder as perguntas:\n",
        "\n",
        "1. Quais são os países com maior número de pessoas imunizadas?\n",
        "2. Qual vacina é a mais utilizada no mundo? ** Existem diferentes tipos de vacinas disponível no mundo\n",
        "3. Qual a país possui o maior número de vacinados por dia?\n",
        "4. Qual a média de vacinação de vacinação por pais?\n",
        "\n",
        "Após responder as perguntas vamos exportar as respostas obtidas.\n"
      ],
      "id": "2_qLPfUxSktL"
    },
    {
      "cell_type": "code",
      "metadata": {
        "colab": {
          "base_uri": "https://localhost:8080/",
          "height": 564
        },
        "id": "PaXCosP3SktM",
        "outputId": "b68808d6-7848-48b6-ec81-ce033bcbf8b8"
      },
      "source": [
        "# Verificando dados referênte ao brasil por dia.\n",
        "dados.query('country == \"Brazil\" ').sort_values('date', ascending=False)[:5]\n"
      ],
      "id": "PaXCosP3SktM",
      "execution_count": 11,
      "outputs": [
        {
          "output_type": "execute_result",
          "data": {
            "text/html": [
              "<div>\n",
              "<style scoped>\n",
              "    .dataframe tbody tr th:only-of-type {\n",
              "        vertical-align: middle;\n",
              "    }\n",
              "\n",
              "    .dataframe tbody tr th {\n",
              "        vertical-align: top;\n",
              "    }\n",
              "\n",
              "    .dataframe thead th {\n",
              "        text-align: right;\n",
              "    }\n",
              "</style>\n",
              "<table border=\"1\" class=\"dataframe\">\n",
              "  <thead>\n",
              "    <tr style=\"text-align: right;\">\n",
              "      <th></th>\n",
              "      <th>country</th>\n",
              "      <th>iso_code</th>\n",
              "      <th>date</th>\n",
              "      <th>total_vaccinations</th>\n",
              "      <th>people_vaccinated</th>\n",
              "      <th>people_fully_vaccinated</th>\n",
              "      <th>daily_vaccinations_raw</th>\n",
              "      <th>daily_vaccinations</th>\n",
              "      <th>total_vaccinations_per_hundred</th>\n",
              "      <th>people_vaccinated_per_hundred</th>\n",
              "      <th>people_fully_vaccinated_per_hundred</th>\n",
              "      <th>daily_vaccinations_per_million</th>\n",
              "      <th>vaccines</th>\n",
              "      <th>source_name</th>\n",
              "      <th>source_website</th>\n",
              "    </tr>\n",
              "  </thead>\n",
              "  <tbody>\n",
              "    <tr>\n",
              "      <th>573</th>\n",
              "      <td>Brazil</td>\n",
              "      <td>BRA</td>\n",
              "      <td>2021-02-26</td>\n",
              "      <td>8101787.0</td>\n",
              "      <td>6346769.0</td>\n",
              "      <td>1755018.0</td>\n",
              "      <td>302787.0</td>\n",
              "      <td>223804.0</td>\n",
              "      <td>3.81</td>\n",
              "      <td>2.99</td>\n",
              "      <td>0.83</td>\n",
              "      <td>1053.0</td>\n",
              "      <td>Oxford/AstraZeneca, Sinovac</td>\n",
              "      <td>Regional governments via Coronavirus Brasil</td>\n",
              "      <td>https://coronavirusbra1.github.io/</td>\n",
              "    </tr>\n",
              "    <tr>\n",
              "      <th>572</th>\n",
              "      <td>Brazil</td>\n",
              "      <td>BRA</td>\n",
              "      <td>2021-02-25</td>\n",
              "      <td>7799000.0</td>\n",
              "      <td>6202055.0</td>\n",
              "      <td>1596945.0</td>\n",
              "      <td>247324.0</td>\n",
              "      <td>227474.0</td>\n",
              "      <td>3.67</td>\n",
              "      <td>2.92</td>\n",
              "      <td>0.75</td>\n",
              "      <td>1070.0</td>\n",
              "      <td>Oxford/AstraZeneca, Sinovac</td>\n",
              "      <td>Regional governments via Coronavirus Brasil</td>\n",
              "      <td>https://coronavirusbra1.github.io/</td>\n",
              "    </tr>\n",
              "    <tr>\n",
              "      <th>571</th>\n",
              "      <td>Brazil</td>\n",
              "      <td>BRA</td>\n",
              "      <td>2021-02-24</td>\n",
              "      <td>7551676.0</td>\n",
              "      <td>6116082.0</td>\n",
              "      <td>1435594.0</td>\n",
              "      <td>254615.0</td>\n",
              "      <td>238305.0</td>\n",
              "      <td>3.55</td>\n",
              "      <td>2.88</td>\n",
              "      <td>0.68</td>\n",
              "      <td>1121.0</td>\n",
              "      <td>Oxford/AstraZeneca, Sinovac</td>\n",
              "      <td>Regional governments via Coronavirus Brasil</td>\n",
              "      <td>https://coronavirusbra1.github.io/</td>\n",
              "    </tr>\n",
              "    <tr>\n",
              "      <th>570</th>\n",
              "      <td>Brazil</td>\n",
              "      <td>BRA</td>\n",
              "      <td>2021-02-23</td>\n",
              "      <td>7297061.0</td>\n",
              "      <td>6002873.0</td>\n",
              "      <td>1294188.0</td>\n",
              "      <td>268705.0</td>\n",
              "      <td>241018.0</td>\n",
              "      <td>3.43</td>\n",
              "      <td>2.82</td>\n",
              "      <td>0.61</td>\n",
              "      <td>1134.0</td>\n",
              "      <td>Oxford/AstraZeneca, Sinovac</td>\n",
              "      <td>Regional governments via Coronavirus Brasil</td>\n",
              "      <td>https://coronavirusbra1.github.io/</td>\n",
              "    </tr>\n",
              "    <tr>\n",
              "      <th>569</th>\n",
              "      <td>Brazil</td>\n",
              "      <td>BRA</td>\n",
              "      <td>2021-02-22</td>\n",
              "      <td>7028356.0</td>\n",
              "      <td>5857080.0</td>\n",
              "      <td>1171276.0</td>\n",
              "      <td>77554.0</td>\n",
              "      <td>247768.0</td>\n",
              "      <td>3.31</td>\n",
              "      <td>2.76</td>\n",
              "      <td>0.55</td>\n",
              "      <td>1166.0</td>\n",
              "      <td>Oxford/AstraZeneca, Sinovac</td>\n",
              "      <td>Regional governments via Coronavirus Brasil</td>\n",
              "      <td>https://coronavirusbra1.github.io/</td>\n",
              "    </tr>\n",
              "  </tbody>\n",
              "</table>\n",
              "</div>"
            ],
            "text/plain": [
              "    country  ...                      source_website\n",
              "573  Brazil  ...  https://coronavirusbra1.github.io/\n",
              "572  Brazil  ...  https://coronavirusbra1.github.io/\n",
              "571  Brazil  ...  https://coronavirusbra1.github.io/\n",
              "570  Brazil  ...  https://coronavirusbra1.github.io/\n",
              "569  Brazil  ...  https://coronavirusbra1.github.io/\n",
              "\n",
              "[5 rows x 15 columns]"
            ]
          },
          "metadata": {
            "tags": []
          },
          "execution_count": 11
        }
      ]
    },
    {
      "cell_type": "code",
      "metadata": {
        "colab": {
          "base_uri": "https://localhost:8080/"
        },
        "id": "ZyKcR4rYSktM",
        "outputId": "e212e817-a05b-443c-bdb6-6cca20db2f5d"
      },
      "source": [
        "# verificando o número de países distintos na base\n",
        "dados['country'].nunique()"
      ],
      "id": "ZyKcR4rYSktM",
      "execution_count": 12,
      "outputs": [
        {
          "output_type": "execute_result",
          "data": {
            "text/plain": [
              "112"
            ]
          },
          "metadata": {
            "tags": []
          },
          "execution_count": 12
        }
      ]
    },
    {
      "cell_type": "markdown",
      "metadata": {
        "id": "uIIP98niSktN"
      },
      "source": [
        "**Observem que temos 112 registros de países no nosso dataset**"
      ],
      "id": "uIIP98niSktN"
    },
    {
      "cell_type": "markdown",
      "metadata": {
        "id": "9Jk7P6DFSktN"
      },
      "source": [
        "\n",
        "## 1. Qual o pais com maior número de pessoas imunizadas?\n",
        "\n",
        "Para que a análise seja realizada de forma correta é necessário analisar profundamente os dados. \n",
        "Nessa etapa, precisamos fazer vários testes afim de conhecer melhor os dados.\n",
        "Perceba que o dataset traz infomação por data de coleta. Dessa forma, temos que filtrar o ultimo registro baseado na data.\n",
        "\n",
        "Será que essa análise é correta?\n",
        "\n",
        "Vamos analisar!\n"
      ],
      "id": "9Jk7P6DFSktN"
    },
    {
      "cell_type": "code",
      "metadata": {
        "colab": {
          "base_uri": "https://localhost:8080/",
          "height": 35
        },
        "id": "t3yGmo3DSktN",
        "outputId": "fd7529a2-df7f-4e3f-dbf0-5702f8b60cbf"
      },
      "source": [
        "#identificando a data mais recente da coleta\n",
        "ultima_data = dados['date'].max()\n",
        "ultima_data"
      ],
      "id": "t3yGmo3DSktN",
      "execution_count": 31,
      "outputs": [
        {
          "output_type": "execute_result",
          "data": {
            "application/vnd.google.colaboratory.intrinsic+json": {
              "type": "string"
            },
            "text/plain": [
              "'2021-02-26'"
            ]
          },
          "metadata": {
            "tags": []
          },
          "execution_count": 31
        }
      ]
    },
    {
      "cell_type": "code",
      "metadata": {
        "id": "NVvVBoAnSktO"
      },
      "source": [
        "# filtrando a ultima data\n",
        "ultima_data = dados[dados.date == ultima_data]"
      ],
      "id": "NVvVBoAnSktO",
      "execution_count": 32,
      "outputs": []
    },
    {
      "cell_type": "code",
      "metadata": {
        "colab": {
          "base_uri": "https://localhost:8080/"
        },
        "id": "RjjoWXq9SktO",
        "outputId": "2e4cafa8-b337-426d-c6a1-36fefd39cf5b"
      },
      "source": [
        "# O comando shape mostra a quantidade de linhas e colunas dentro de um dataset\n",
        "ultima_data.shape"
      ],
      "id": "RjjoWXq9SktO",
      "execution_count": 33,
      "outputs": [
        {
          "output_type": "execute_result",
          "data": {
            "text/plain": [
              "(43, 15)"
            ]
          },
          "metadata": {
            "tags": []
          },
          "execution_count": 33
        }
      ]
    },
    {
      "cell_type": "markdown",
      "metadata": {
        "id": "-BSgC99HSktP"
      },
      "source": [
        "# Atenção!\n",
        "Perceba que o dataset filtrado pela ultima data retornou (43,15) ou seja 43 linhas e 15 colunas. Isso não esta certo! Pois verificamos que temos 112 países no dataset original. \n",
        "\n",
        "Dessa forma, ao filtrar pela última data estamos excluindo registros de outros países que não foram ainda computados na última coleta. \n",
        "\n",
        "Para resolver esse problema, temos que selecionar o último registro de data cada país. Assim não vamos deixar nenhum país de fora. \n",
        "\n",
        "Vamos fazer um agrupamento do pais e selecionar a última data de atualização que foi realizada"
      ],
      "id": "-BSgC99HSktP"
    },
    {
      "cell_type": "code",
      "metadata": {
        "colab": {
          "base_uri": "https://localhost:8080/"
        },
        "id": "D7jYmHfySktP",
        "outputId": "fe15c77f-2d77-4937-d183-abde589492ef"
      },
      "source": [
        "dados.groupby('country')['date'].max().sort_values(ascending=False)"
      ],
      "id": "D7jYmHfySktP",
      "execution_count": 34,
      "outputs": [
        {
          "output_type": "execute_result",
          "data": {
            "text/plain": [
              "country\n",
              "Zimbabwe           2021-02-26\n",
              "Montenegro         2021-02-26\n",
              "Portugal           2021-02-26\n",
              "Poland             2021-02-26\n",
              "Czechia            2021-02-26\n",
              "                      ...    \n",
              "Myanmar            2021-02-02\n",
              "Egypt              2021-01-30\n",
              "Greenland          2021-01-27\n",
              "Northern Cyprus    2021-01-22\n",
              "Monaco             2021-01-18\n",
              "Name: date, Length: 112, dtype: object"
            ]
          },
          "metadata": {
            "tags": []
          },
          "execution_count": 34
        }
      ]
    },
    {
      "cell_type": "markdown",
      "metadata": {
        "id": "eqSfDoSsSktQ"
      },
      "source": [
        "Agora vimos que existem de fato países que não possuem a atualização da ultima data da coleta.\n",
        "Dessa forma, temos que procurar uma outra maneira para obter esses dados.\n",
        "A variável total_vaccinations contém o total de vacinações naquele país. Ou seja, podemos utilizar ele como parâmetro  para buscar a última data de coleta. \n",
        "Desta forma, vamos agrupar por país e pegar o valor máximo obtido nessa variável.\n"
      ],
      "id": "eqSfDoSsSktQ"
    },
    {
      "cell_type": "code",
      "metadata": {
        "colab": {
          "base_uri": "https://localhost:8080/"
        },
        "id": "578UUBAcSktQ",
        "outputId": "12870069-d696-4857-e0de-37c3ddca4e84"
      },
      "source": [
        "dados.groupby('country')['total_vaccinations'].max().sort_values(ascending=False)"
      ],
      "id": "578UUBAcSktQ",
      "execution_count": 35,
      "outputs": [
        {
          "output_type": "execute_result",
          "data": {
            "text/plain": [
              "country\n",
              "United States          70454064.0\n",
              "China                  40520000.0\n",
              "United Kingdom         19913592.0\n",
              "England                16785841.0\n",
              "India                  13756940.0\n",
              "                          ...    \n",
              "Paraguay                   1000.0\n",
              "New Zealand                1000.0\n",
              "Trinidad and Tobago         440.0\n",
              "Venezuela                   157.0\n",
              "Saint Helena                107.0\n",
              "Name: total_vaccinations, Length: 112, dtype: float64"
            ]
          },
          "metadata": {
            "tags": []
          },
          "execution_count": 35
        }
      ]
    },
    {
      "cell_type": "markdown",
      "metadata": {
        "id": "oEkvbcIySktQ"
      },
      "source": [
        "Vamos então criar a lista com os TOP 10 países"
      ],
      "id": "oEkvbcIySktQ"
    },
    {
      "cell_type": "code",
      "metadata": {
        "colab": {
          "base_uri": "https://localhost:8080/"
        },
        "id": "J660G33SSktR",
        "outputId": "6f15cb11-da1c-4af9-aba4-3f26b32a6310"
      },
      "source": [
        "imunizados_por_pais = dados.groupby('country')['total_vaccinations'].max().sort_values(ascending=False)\n",
        "imunizados_por_pais"
      ],
      "id": "J660G33SSktR",
      "execution_count": 36,
      "outputs": [
        {
          "output_type": "execute_result",
          "data": {
            "text/plain": [
              "country\n",
              "United States          70454064.0\n",
              "China                  40520000.0\n",
              "United Kingdom         19913592.0\n",
              "England                16785841.0\n",
              "India                  13756940.0\n",
              "                          ...    \n",
              "Paraguay                   1000.0\n",
              "New Zealand                1000.0\n",
              "Trinidad and Tobago         440.0\n",
              "Venezuela                   157.0\n",
              "Saint Helena                107.0\n",
              "Name: total_vaccinations, Length: 112, dtype: float64"
            ]
          },
          "metadata": {
            "tags": []
          },
          "execution_count": 36
        }
      ]
    },
    {
      "cell_type": "code",
      "metadata": {
        "colab": {
          "base_uri": "https://localhost:8080/"
        },
        "id": "sIZc1H4QSktR",
        "outputId": "df7a7961-50aa-44b9-ead2-8aef12b808f0"
      },
      "source": [
        "type(imunizados_por_pais)"
      ],
      "id": "sIZc1H4QSktR",
      "execution_count": 37,
      "outputs": [
        {
          "output_type": "execute_result",
          "data": {
            "text/plain": [
              "pandas.core.series.Series"
            ]
          },
          "metadata": {
            "tags": []
          },
          "execution_count": 37
        }
      ]
    },
    {
      "cell_type": "markdown",
      "metadata": {
        "id": "Fw21sMCdSktS"
      },
      "source": [
        "Percebam que efetuar uma operação, o seu resultado se transforma em uma série pandas. \n",
        "\n",
        "Uma Série Pandas se caracterizada por um array unidimensional capaz de armazenar qualquer tipo de dados com rótulos ou índice de eixo. Um exemplo de um objeto Series é uma coluna de um DataFrame.\n",
        "\n",
        "Para transformar novamente em um dataframe temos que usar o comando to_frame() e resetar o index."
      ],
      "id": "Fw21sMCdSktS"
    },
    {
      "cell_type": "code",
      "metadata": {
        "colab": {
          "base_uri": "https://localhost:8080/",
          "height": 419
        },
        "id": "Gf0syi_qSktS",
        "outputId": "1c5a00ea-6246-44b4-d326-464debb53d09"
      },
      "source": [
        "imunizados = imunizados_por_pais.to_frame().reset_index()\n",
        "imunizados"
      ],
      "id": "Gf0syi_qSktS",
      "execution_count": 38,
      "outputs": [
        {
          "output_type": "execute_result",
          "data": {
            "text/html": [
              "<div>\n",
              "<style scoped>\n",
              "    .dataframe tbody tr th:only-of-type {\n",
              "        vertical-align: middle;\n",
              "    }\n",
              "\n",
              "    .dataframe tbody tr th {\n",
              "        vertical-align: top;\n",
              "    }\n",
              "\n",
              "    .dataframe thead th {\n",
              "        text-align: right;\n",
              "    }\n",
              "</style>\n",
              "<table border=\"1\" class=\"dataframe\">\n",
              "  <thead>\n",
              "    <tr style=\"text-align: right;\">\n",
              "      <th></th>\n",
              "      <th>country</th>\n",
              "      <th>total_vaccinations</th>\n",
              "    </tr>\n",
              "  </thead>\n",
              "  <tbody>\n",
              "    <tr>\n",
              "      <th>0</th>\n",
              "      <td>United States</td>\n",
              "      <td>70454064.0</td>\n",
              "    </tr>\n",
              "    <tr>\n",
              "      <th>1</th>\n",
              "      <td>China</td>\n",
              "      <td>40520000.0</td>\n",
              "    </tr>\n",
              "    <tr>\n",
              "      <th>2</th>\n",
              "      <td>United Kingdom</td>\n",
              "      <td>19913592.0</td>\n",
              "    </tr>\n",
              "    <tr>\n",
              "      <th>3</th>\n",
              "      <td>England</td>\n",
              "      <td>16785841.0</td>\n",
              "    </tr>\n",
              "    <tr>\n",
              "      <th>4</th>\n",
              "      <td>India</td>\n",
              "      <td>13756940.0</td>\n",
              "    </tr>\n",
              "    <tr>\n",
              "      <th>...</th>\n",
              "      <td>...</td>\n",
              "      <td>...</td>\n",
              "    </tr>\n",
              "    <tr>\n",
              "      <th>107</th>\n",
              "      <td>Paraguay</td>\n",
              "      <td>1000.0</td>\n",
              "    </tr>\n",
              "    <tr>\n",
              "      <th>108</th>\n",
              "      <td>New Zealand</td>\n",
              "      <td>1000.0</td>\n",
              "    </tr>\n",
              "    <tr>\n",
              "      <th>109</th>\n",
              "      <td>Trinidad and Tobago</td>\n",
              "      <td>440.0</td>\n",
              "    </tr>\n",
              "    <tr>\n",
              "      <th>110</th>\n",
              "      <td>Venezuela</td>\n",
              "      <td>157.0</td>\n",
              "    </tr>\n",
              "    <tr>\n",
              "      <th>111</th>\n",
              "      <td>Saint Helena</td>\n",
              "      <td>107.0</td>\n",
              "    </tr>\n",
              "  </tbody>\n",
              "</table>\n",
              "<p>112 rows × 2 columns</p>\n",
              "</div>"
            ],
            "text/plain": [
              "                 country  total_vaccinations\n",
              "0          United States          70454064.0\n",
              "1                  China          40520000.0\n",
              "2         United Kingdom          19913592.0\n",
              "3                England          16785841.0\n",
              "4                  India          13756940.0\n",
              "..                   ...                 ...\n",
              "107             Paraguay              1000.0\n",
              "108          New Zealand              1000.0\n",
              "109  Trinidad and Tobago               440.0\n",
              "110            Venezuela               157.0\n",
              "111         Saint Helena               107.0\n",
              "\n",
              "[112 rows x 2 columns]"
            ]
          },
          "metadata": {
            "tags": []
          },
          "execution_count": 38
        }
      ]
    },
    {
      "cell_type": "markdown",
      "metadata": {
        "id": "J4OlPDZ_SktS"
      },
      "source": [
        "Pronto! Agora temos a relação do número total de imunizados por pais.\n",
        "\n",
        "Vamos utilizar o metodo sort_values na variável total_vaccinations para ordenar e o parâmetro ascending como False para ordenar do maior para o menor. Além disso, vamos selecionar os 10 primeiros países"
      ],
      "id": "J4OlPDZ_SktS"
    },
    {
      "cell_type": "code",
      "metadata": {
        "colab": {
          "base_uri": "https://localhost:8080/",
          "height": 359
        },
        "id": "H68W8fP5SktT",
        "outputId": "afc4fa9c-3ce0-443e-a036-8cc866b9b5b4"
      },
      "source": [
        "imunizados.sort_values('total_vaccinations',ascending=False).head(10)"
      ],
      "id": "H68W8fP5SktT",
      "execution_count": 39,
      "outputs": [
        {
          "output_type": "execute_result",
          "data": {
            "text/html": [
              "<div>\n",
              "<style scoped>\n",
              "    .dataframe tbody tr th:only-of-type {\n",
              "        vertical-align: middle;\n",
              "    }\n",
              "\n",
              "    .dataframe tbody tr th {\n",
              "        vertical-align: top;\n",
              "    }\n",
              "\n",
              "    .dataframe thead th {\n",
              "        text-align: right;\n",
              "    }\n",
              "</style>\n",
              "<table border=\"1\" class=\"dataframe\">\n",
              "  <thead>\n",
              "    <tr style=\"text-align: right;\">\n",
              "      <th></th>\n",
              "      <th>country</th>\n",
              "      <th>total_vaccinations</th>\n",
              "    </tr>\n",
              "  </thead>\n",
              "  <tbody>\n",
              "    <tr>\n",
              "      <th>0</th>\n",
              "      <td>United States</td>\n",
              "      <td>70454064.0</td>\n",
              "    </tr>\n",
              "    <tr>\n",
              "      <th>1</th>\n",
              "      <td>China</td>\n",
              "      <td>40520000.0</td>\n",
              "    </tr>\n",
              "    <tr>\n",
              "      <th>2</th>\n",
              "      <td>United Kingdom</td>\n",
              "      <td>19913592.0</td>\n",
              "    </tr>\n",
              "    <tr>\n",
              "      <th>3</th>\n",
              "      <td>England</td>\n",
              "      <td>16785841.0</td>\n",
              "    </tr>\n",
              "    <tr>\n",
              "      <th>4</th>\n",
              "      <td>India</td>\n",
              "      <td>13756940.0</td>\n",
              "    </tr>\n",
              "    <tr>\n",
              "      <th>5</th>\n",
              "      <td>Turkey</td>\n",
              "      <td>8298805.0</td>\n",
              "    </tr>\n",
              "    <tr>\n",
              "      <th>6</th>\n",
              "      <td>Brazil</td>\n",
              "      <td>8101787.0</td>\n",
              "    </tr>\n",
              "    <tr>\n",
              "      <th>7</th>\n",
              "      <td>Israel</td>\n",
              "      <td>7957787.0</td>\n",
              "    </tr>\n",
              "    <tr>\n",
              "      <th>8</th>\n",
              "      <td>United Arab Emirates</td>\n",
              "      <td>5933299.0</td>\n",
              "    </tr>\n",
              "    <tr>\n",
              "      <th>9</th>\n",
              "      <td>Germany</td>\n",
              "      <td>5910537.0</td>\n",
              "    </tr>\n",
              "  </tbody>\n",
              "</table>\n",
              "</div>"
            ],
            "text/plain": [
              "                country  total_vaccinations\n",
              "0         United States          70454064.0\n",
              "1                 China          40520000.0\n",
              "2        United Kingdom          19913592.0\n",
              "3               England          16785841.0\n",
              "4                 India          13756940.0\n",
              "5                Turkey           8298805.0\n",
              "6                Brazil           8101787.0\n",
              "7                Israel           7957787.0\n",
              "8  United Arab Emirates           5933299.0\n",
              "9               Germany           5910537.0"
            ]
          },
          "metadata": {
            "tags": []
          },
          "execution_count": 39
        }
      ]
    },
    {
      "cell_type": "markdown",
      "metadata": {
        "id": "0ipl8hbgSktT"
      },
      "source": [
        "## 2. Qual vacina é a mais utilizada no mundo? "
      ],
      "id": "0ipl8hbgSktT"
    },
    {
      "cell_type": "markdown",
      "metadata": {
        "id": "M_vlGPafSktT"
      },
      "source": [
        "Para descobrir qual vacina mais utilizada no mundo devemos criar um dataframe contendo as vacinas utilizadas por pais. Com isso, vamos ter uma relação com todas as vacinas por pais em uma determinada data."
      ],
      "id": "M_vlGPafSktT"
    },
    {
      "cell_type": "code",
      "metadata": {
        "colab": {
          "base_uri": "https://localhost:8080/",
          "height": 419
        },
        "id": "87yGVZ6DSktU",
        "outputId": "3752f681-43b6-4107-e2b3-4283627eb9fb"
      },
      "source": [
        "vacinas_por_pais = dados[['country', 'date', 'vaccines']]\n",
        "vacinas_por_pais\n"
      ],
      "id": "87yGVZ6DSktU",
      "execution_count": 40,
      "outputs": [
        {
          "output_type": "execute_result",
          "data": {
            "text/html": [
              "<div>\n",
              "<style scoped>\n",
              "    .dataframe tbody tr th:only-of-type {\n",
              "        vertical-align: middle;\n",
              "    }\n",
              "\n",
              "    .dataframe tbody tr th {\n",
              "        vertical-align: top;\n",
              "    }\n",
              "\n",
              "    .dataframe thead th {\n",
              "        text-align: right;\n",
              "    }\n",
              "</style>\n",
              "<table border=\"1\" class=\"dataframe\">\n",
              "  <thead>\n",
              "    <tr style=\"text-align: right;\">\n",
              "      <th></th>\n",
              "      <th>country</th>\n",
              "      <th>date</th>\n",
              "      <th>vaccines</th>\n",
              "    </tr>\n",
              "  </thead>\n",
              "  <tbody>\n",
              "    <tr>\n",
              "      <th>0</th>\n",
              "      <td>Albania</td>\n",
              "      <td>2021-01-10</td>\n",
              "      <td>Pfizer/BioNTech</td>\n",
              "    </tr>\n",
              "    <tr>\n",
              "      <th>1</th>\n",
              "      <td>Albania</td>\n",
              "      <td>2021-01-11</td>\n",
              "      <td>Pfizer/BioNTech</td>\n",
              "    </tr>\n",
              "    <tr>\n",
              "      <th>2</th>\n",
              "      <td>Albania</td>\n",
              "      <td>2021-01-12</td>\n",
              "      <td>Pfizer/BioNTech</td>\n",
              "    </tr>\n",
              "    <tr>\n",
              "      <th>3</th>\n",
              "      <td>Albania</td>\n",
              "      <td>2021-01-13</td>\n",
              "      <td>Pfizer/BioNTech</td>\n",
              "    </tr>\n",
              "    <tr>\n",
              "      <th>4</th>\n",
              "      <td>Albania</td>\n",
              "      <td>2021-01-14</td>\n",
              "      <td>Pfizer/BioNTech</td>\n",
              "    </tr>\n",
              "    <tr>\n",
              "      <th>...</th>\n",
              "      <td>...</td>\n",
              "      <td>...</td>\n",
              "      <td>...</td>\n",
              "    </tr>\n",
              "    <tr>\n",
              "      <th>4375</th>\n",
              "      <td>Zimbabwe</td>\n",
              "      <td>2021-02-22</td>\n",
              "      <td>Sinopharm/Beijing</td>\n",
              "    </tr>\n",
              "    <tr>\n",
              "      <th>4376</th>\n",
              "      <td>Zimbabwe</td>\n",
              "      <td>2021-02-23</td>\n",
              "      <td>Sinopharm/Beijing</td>\n",
              "    </tr>\n",
              "    <tr>\n",
              "      <th>4377</th>\n",
              "      <td>Zimbabwe</td>\n",
              "      <td>2021-02-24</td>\n",
              "      <td>Sinopharm/Beijing</td>\n",
              "    </tr>\n",
              "    <tr>\n",
              "      <th>4378</th>\n",
              "      <td>Zimbabwe</td>\n",
              "      <td>2021-02-25</td>\n",
              "      <td>Sinopharm/Beijing</td>\n",
              "    </tr>\n",
              "    <tr>\n",
              "      <th>4379</th>\n",
              "      <td>Zimbabwe</td>\n",
              "      <td>2021-02-26</td>\n",
              "      <td>Sinopharm/Beijing</td>\n",
              "    </tr>\n",
              "  </tbody>\n",
              "</table>\n",
              "<p>4380 rows × 3 columns</p>\n",
              "</div>"
            ],
            "text/plain": [
              "       country        date           vaccines\n",
              "0      Albania  2021-01-10    Pfizer/BioNTech\n",
              "1      Albania  2021-01-11    Pfizer/BioNTech\n",
              "2      Albania  2021-01-12    Pfizer/BioNTech\n",
              "3      Albania  2021-01-13    Pfizer/BioNTech\n",
              "4      Albania  2021-01-14    Pfizer/BioNTech\n",
              "...        ...         ...                ...\n",
              "4375  Zimbabwe  2021-02-22  Sinopharm/Beijing\n",
              "4376  Zimbabwe  2021-02-23  Sinopharm/Beijing\n",
              "4377  Zimbabwe  2021-02-24  Sinopharm/Beijing\n",
              "4378  Zimbabwe  2021-02-25  Sinopharm/Beijing\n",
              "4379  Zimbabwe  2021-02-26  Sinopharm/Beijing\n",
              "\n",
              "[4380 rows x 3 columns]"
            ]
          },
          "metadata": {
            "tags": []
          },
          "execution_count": 40
        }
      ]
    },
    {
      "cell_type": "markdown",
      "metadata": {
        "id": "S0QgHjfPSktU"
      },
      "source": [
        "Ótimo! Agora vamos agrupar as vacinas e contar os pais apenas uma vez. Se no datasert tiver um país utilizando duas vacinas, ele vai ser contato duas vezes."
      ],
      "id": "S0QgHjfPSktU"
    },
    {
      "cell_type": "code",
      "metadata": {
        "colab": {
          "base_uri": "https://localhost:8080/"
        },
        "id": "pMx-c1hJSktU",
        "outputId": "0ffa6465-353d-47c2-fb5f-94a8f99369e4"
      },
      "source": [
        "vacinas_por_pais.groupby('vaccines')['country'].nunique().sort_values(ascending=False)"
      ],
      "id": "pMx-c1hJSktU",
      "execution_count": 41,
      "outputs": [
        {
          "output_type": "execute_result",
          "data": {
            "text/plain": [
              "vaccines\n",
              "Pfizer/BioNTech                                                                       26\n",
              "Moderna, Oxford/AstraZeneca, Pfizer/BioNTech                                          20\n",
              "Oxford/AstraZeneca                                                                    15\n",
              "Sputnik V                                                                             11\n",
              "Oxford/AstraZeneca, Pfizer/BioNTech                                                   10\n",
              "Moderna, Pfizer/BioNTech                                                               7\n",
              "Sinopharm/Beijing                                                                      6\n",
              "Sinovac                                                                                2\n",
              "Oxford/AstraZeneca, Sinopharm/Beijing                                                  2\n",
              "Pfizer/BioNTech, Sinopharm/Beijing, Sputnik V                                          2\n",
              "Pfizer/BioNTech, Sinovac                                                               2\n",
              "Oxford/AstraZeneca, Sinopharm/Beijing, Sputnik V                                       1\n",
              "Oxford/AstraZeneca, Sinovac                                                            1\n",
              "Oxford/AstraZeneca, Pfizer/BioNTech, Sputnik V                                         1\n",
              "Oxford/AstraZeneca, Pfizer/BioNTech, Sinopharm/Beijing, Sinopharm/Wuhan, Sputnik V     1\n",
              "Oxford/AstraZeneca, Sputnik V                                                          1\n",
              "Moderna, Oxford/AstraZeneca, Pfizer/BioNTech, Sinopharm/Beijing, Sputnik V             1\n",
              "Sinopharm/Beijing, Sinopharm/Wuhan, Sinovac                                            1\n",
              "Johnson&Johnson                                                                        1\n",
              "Covaxin, Oxford/AstraZeneca                                                            1\n",
              "Name: country, dtype: int64"
            ]
          },
          "metadata": {
            "tags": []
          },
          "execution_count": 41
        }
      ]
    },
    {
      "cell_type": "code",
      "metadata": {
        "id": "WxpZORC-SktV"
      },
      "source": [
        "vacinas_pais = dados.groupby('country')['vaccines'].unique()\n",
        "vacinas_pais = vacinas_pais.to_frame().reset_index()"
      ],
      "id": "WxpZORC-SktV",
      "execution_count": 42,
      "outputs": []
    },
    {
      "cell_type": "markdown",
      "metadata": {
        "id": "vOk16Q9gSktV"
      },
      "source": [
        "Temos a relação entre as vacinas mais utilizadas no mundo. Percebam que a vacina Pfizer/BioNTech contém 26 paises fazendo o seu uso."
      ],
      "id": "vOk16Q9gSktV"
    },
    {
      "cell_type": "markdown",
      "metadata": {
        "id": "wyKdEMYtSktV"
      },
      "source": [
        "## 3. Qual o país possui o maior número de vacinados por dia?\n",
        "\n",
        "Para obter essa resposta temos que analisar a variável *daily_vaccinations*. "
      ],
      "id": "wyKdEMYtSktV"
    },
    {
      "cell_type": "code",
      "metadata": {
        "colab": {
          "base_uri": "https://localhost:8080/"
        },
        "id": "Iat1G-GJSktW",
        "outputId": "3eb90955-47f9-409b-c473-95cf952fc6a8"
      },
      "source": [
        "dados.groupby('country')['daily_vaccinations'].max().sort_values(ascending=False)"
      ],
      "id": "Iat1G-GJSktW",
      "execution_count": 44,
      "outputs": [
        {
          "output_type": "execute_result",
          "data": {
            "text/plain": [
              "country\n",
              "China                  1916190.0\n",
              "United States          1716311.0\n",
              "India                   472428.0\n",
              "United Kingdom          445204.0\n",
              "Turkey                  435596.0\n",
              "                         ...    \n",
              "Andorra                    100.0\n",
              "Trinidad and Tobago         63.0\n",
              "Venezuela                   31.0\n",
              "Greenland                    NaN\n",
              "Saint Helena                 NaN\n",
              "Name: daily_vaccinations, Length: 112, dtype: float64"
            ]
          },
          "metadata": {
            "tags": []
          },
          "execution_count": 44
        }
      ]
    },
    {
      "cell_type": "markdown",
      "metadata": {
        "id": "3sFHCtsXSktW"
      },
      "source": [
        "## 4. Qual a média de vacinação de vacinação por pais?"
      ],
      "id": "3sFHCtsXSktW"
    },
    {
      "cell_type": "code",
      "metadata": {
        "colab": {
          "base_uri": "https://localhost:8080/",
          "height": 419
        },
        "id": "Ya211VHSSktW",
        "outputId": "23721658-6cd7-483c-a668-c4f4b2569ee5"
      },
      "source": [
        "media_pais = dados.groupby('country')['daily_vaccinations'].mean().sort_values(ascending=False)\n",
        "media_pais = media_pais.to_frame().reset_index()\n",
        "media_pais"
      ],
      "id": "Ya211VHSSktW",
      "execution_count": 45,
      "outputs": [
        {
          "output_type": "execute_result",
          "data": {
            "text/html": [
              "<div>\n",
              "<style scoped>\n",
              "    .dataframe tbody tr th:only-of-type {\n",
              "        vertical-align: middle;\n",
              "    }\n",
              "\n",
              "    .dataframe tbody tr th {\n",
              "        vertical-align: top;\n",
              "    }\n",
              "\n",
              "    .dataframe thead th {\n",
              "        text-align: right;\n",
              "    }\n",
              "</style>\n",
              "<table border=\"1\" class=\"dataframe\">\n",
              "  <thead>\n",
              "    <tr style=\"text-align: right;\">\n",
              "      <th></th>\n",
              "      <th>country</th>\n",
              "      <th>daily_vaccinations</th>\n",
              "    </tr>\n",
              "  </thead>\n",
              "  <tbody>\n",
              "    <tr>\n",
              "      <th>0</th>\n",
              "      <td>United States</td>\n",
              "      <td>961578.338235</td>\n",
              "    </tr>\n",
              "    <tr>\n",
              "      <th>1</th>\n",
              "      <td>China</td>\n",
              "      <td>623616.000000</td>\n",
              "    </tr>\n",
              "    <tr>\n",
              "      <th>2</th>\n",
              "      <td>India</td>\n",
              "      <td>298508.476190</td>\n",
              "    </tr>\n",
              "    <tr>\n",
              "      <th>3</th>\n",
              "      <td>United Kingdom</td>\n",
              "      <td>255473.256757</td>\n",
              "    </tr>\n",
              "    <tr>\n",
              "      <th>4</th>\n",
              "      <td>England</td>\n",
              "      <td>215682.081081</td>\n",
              "    </tr>\n",
              "    <tr>\n",
              "      <th>...</th>\n",
              "      <td>...</td>\n",
              "      <td>...</td>\n",
              "    </tr>\n",
              "    <tr>\n",
              "      <th>107</th>\n",
              "      <td>Andorra</td>\n",
              "      <td>62.000000</td>\n",
              "    </tr>\n",
              "    <tr>\n",
              "      <th>108</th>\n",
              "      <td>Liechtenstein</td>\n",
              "      <td>52.619048</td>\n",
              "    </tr>\n",
              "    <tr>\n",
              "      <th>109</th>\n",
              "      <td>Venezuela</td>\n",
              "      <td>31.000000</td>\n",
              "    </tr>\n",
              "    <tr>\n",
              "      <th>110</th>\n",
              "      <td>Greenland</td>\n",
              "      <td>NaN</td>\n",
              "    </tr>\n",
              "    <tr>\n",
              "      <th>111</th>\n",
              "      <td>Saint Helena</td>\n",
              "      <td>NaN</td>\n",
              "    </tr>\n",
              "  </tbody>\n",
              "</table>\n",
              "<p>112 rows × 2 columns</p>\n",
              "</div>"
            ],
            "text/plain": [
              "            country  daily_vaccinations\n",
              "0     United States       961578.338235\n",
              "1             China       623616.000000\n",
              "2             India       298508.476190\n",
              "3    United Kingdom       255473.256757\n",
              "4           England       215682.081081\n",
              "..              ...                 ...\n",
              "107         Andorra           62.000000\n",
              "108   Liechtenstein           52.619048\n",
              "109       Venezuela           31.000000\n",
              "110       Greenland                 NaN\n",
              "111    Saint Helena                 NaN\n",
              "\n",
              "[112 rows x 2 columns]"
            ]
          },
          "metadata": {
            "tags": []
          },
          "execution_count": 45
        }
      ]
    },
    {
      "cell_type": "markdown",
      "metadata": {
        "id": "XTIZNF61SktY"
      },
      "source": [
        "Pronto! Todas as perguntas respondidadas. \n",
        "\n",
        "Um dos trabalhos de um cientista de dados é extrair, limpar, tratar e gerar novos dados. \n",
        "\n",
        "Geramos alguns dataframes das perguntas que criamos.\n",
        "1. imunizados\n",
        "2. vacinas_por_pais\n",
        "3. media_pais\n",
        "\n",
        "Agora vamos criar uma nova base de dados utilizando os dados que tratamos anteriormente."
      ],
      "id": "XTIZNF61SktY"
    },
    {
      "cell_type": "code",
      "metadata": {
        "id": "mvr1ziL8SktY"
      },
      "source": [
        "# Renomeando novas colunas dos datas\n",
        "#Vamos iniciar alterando o nome de algumas colunas\n",
        "\n",
        "media_pais = media_pais.rename(columns={'country': 'pais','daily_vaccinations': 'media_vacinacao'})"
      ],
      "id": "mvr1ziL8SktY",
      "execution_count": 46,
      "outputs": []
    },
    {
      "cell_type": "code",
      "metadata": {
        "colab": {
          "base_uri": "https://localhost:8080/",
          "height": 419
        },
        "id": "KkptVyF1SktY",
        "outputId": "b1d51d87-f7bf-4b6f-82fa-c429f0bf53b0"
      },
      "source": [
        "media_pais"
      ],
      "id": "KkptVyF1SktY",
      "execution_count": 47,
      "outputs": [
        {
          "output_type": "execute_result",
          "data": {
            "text/html": [
              "<div>\n",
              "<style scoped>\n",
              "    .dataframe tbody tr th:only-of-type {\n",
              "        vertical-align: middle;\n",
              "    }\n",
              "\n",
              "    .dataframe tbody tr th {\n",
              "        vertical-align: top;\n",
              "    }\n",
              "\n",
              "    .dataframe thead th {\n",
              "        text-align: right;\n",
              "    }\n",
              "</style>\n",
              "<table border=\"1\" class=\"dataframe\">\n",
              "  <thead>\n",
              "    <tr style=\"text-align: right;\">\n",
              "      <th></th>\n",
              "      <th>pais</th>\n",
              "      <th>media_vacinacao</th>\n",
              "    </tr>\n",
              "  </thead>\n",
              "  <tbody>\n",
              "    <tr>\n",
              "      <th>0</th>\n",
              "      <td>United States</td>\n",
              "      <td>961578.338235</td>\n",
              "    </tr>\n",
              "    <tr>\n",
              "      <th>1</th>\n",
              "      <td>China</td>\n",
              "      <td>623616.000000</td>\n",
              "    </tr>\n",
              "    <tr>\n",
              "      <th>2</th>\n",
              "      <td>India</td>\n",
              "      <td>298508.476190</td>\n",
              "    </tr>\n",
              "    <tr>\n",
              "      <th>3</th>\n",
              "      <td>United Kingdom</td>\n",
              "      <td>255473.256757</td>\n",
              "    </tr>\n",
              "    <tr>\n",
              "      <th>4</th>\n",
              "      <td>England</td>\n",
              "      <td>215682.081081</td>\n",
              "    </tr>\n",
              "    <tr>\n",
              "      <th>...</th>\n",
              "      <td>...</td>\n",
              "      <td>...</td>\n",
              "    </tr>\n",
              "    <tr>\n",
              "      <th>107</th>\n",
              "      <td>Andorra</td>\n",
              "      <td>62.000000</td>\n",
              "    </tr>\n",
              "    <tr>\n",
              "      <th>108</th>\n",
              "      <td>Liechtenstein</td>\n",
              "      <td>52.619048</td>\n",
              "    </tr>\n",
              "    <tr>\n",
              "      <th>109</th>\n",
              "      <td>Venezuela</td>\n",
              "      <td>31.000000</td>\n",
              "    </tr>\n",
              "    <tr>\n",
              "      <th>110</th>\n",
              "      <td>Greenland</td>\n",
              "      <td>NaN</td>\n",
              "    </tr>\n",
              "    <tr>\n",
              "      <th>111</th>\n",
              "      <td>Saint Helena</td>\n",
              "      <td>NaN</td>\n",
              "    </tr>\n",
              "  </tbody>\n",
              "</table>\n",
              "<p>112 rows × 2 columns</p>\n",
              "</div>"
            ],
            "text/plain": [
              "               pais  media_vacinacao\n",
              "0     United States    961578.338235\n",
              "1             China    623616.000000\n",
              "2             India    298508.476190\n",
              "3    United Kingdom    255473.256757\n",
              "4           England    215682.081081\n",
              "..              ...              ...\n",
              "107         Andorra        62.000000\n",
              "108   Liechtenstein        52.619048\n",
              "109       Venezuela        31.000000\n",
              "110       Greenland              NaN\n",
              "111    Saint Helena              NaN\n",
              "\n",
              "[112 rows x 2 columns]"
            ]
          },
          "metadata": {
            "tags": []
          },
          "execution_count": 47
        }
      ]
    },
    {
      "cell_type": "code",
      "metadata": {
        "colab": {
          "base_uri": "https://localhost:8080/",
          "height": 204
        },
        "id": "pX3QMY5VSktZ",
        "outputId": "b72ed00e-4cec-4c4d-d44a-23db5362f3ae"
      },
      "source": [
        "vacinas_pais = vacinas_pais.rename(columns={'country': 'pais', 'vaccines': 'vacina_utilizada'})\n",
        "vacinas_pais[:5]"
      ],
      "id": "pX3QMY5VSktZ",
      "execution_count": 48,
      "outputs": [
        {
          "output_type": "execute_result",
          "data": {
            "text/html": [
              "<div>\n",
              "<style scoped>\n",
              "    .dataframe tbody tr th:only-of-type {\n",
              "        vertical-align: middle;\n",
              "    }\n",
              "\n",
              "    .dataframe tbody tr th {\n",
              "        vertical-align: top;\n",
              "    }\n",
              "\n",
              "    .dataframe thead th {\n",
              "        text-align: right;\n",
              "    }\n",
              "</style>\n",
              "<table border=\"1\" class=\"dataframe\">\n",
              "  <thead>\n",
              "    <tr style=\"text-align: right;\">\n",
              "      <th></th>\n",
              "      <th>pais</th>\n",
              "      <th>vacina_utilizada</th>\n",
              "    </tr>\n",
              "  </thead>\n",
              "  <tbody>\n",
              "    <tr>\n",
              "      <th>0</th>\n",
              "      <td>Albania</td>\n",
              "      <td>[Pfizer/BioNTech]</td>\n",
              "    </tr>\n",
              "    <tr>\n",
              "      <th>1</th>\n",
              "      <td>Algeria</td>\n",
              "      <td>[Sputnik V]</td>\n",
              "    </tr>\n",
              "    <tr>\n",
              "      <th>2</th>\n",
              "      <td>Andorra</td>\n",
              "      <td>[Pfizer/BioNTech]</td>\n",
              "    </tr>\n",
              "    <tr>\n",
              "      <th>3</th>\n",
              "      <td>Anguilla</td>\n",
              "      <td>[Oxford/AstraZeneca]</td>\n",
              "    </tr>\n",
              "    <tr>\n",
              "      <th>4</th>\n",
              "      <td>Argentina</td>\n",
              "      <td>[Sputnik V]</td>\n",
              "    </tr>\n",
              "  </tbody>\n",
              "</table>\n",
              "</div>"
            ],
            "text/plain": [
              "        pais      vacina_utilizada\n",
              "0    Albania     [Pfizer/BioNTech]\n",
              "1    Algeria           [Sputnik V]\n",
              "2    Andorra     [Pfizer/BioNTech]\n",
              "3   Anguilla  [Oxford/AstraZeneca]\n",
              "4  Argentina           [Sputnik V]"
            ]
          },
          "metadata": {
            "tags": []
          },
          "execution_count": 48
        }
      ]
    },
    {
      "cell_type": "code",
      "metadata": {
        "colab": {
          "base_uri": "https://localhost:8080/",
          "height": 204
        },
        "id": "hrTq8FgySktZ",
        "outputId": "bae773b8-5582-42e4-9b26-1d88bed3b7c4"
      },
      "source": [
        "imunizados = imunizados.rename(columns={'country': 'pais', 'total_vaccinations': 'Imunizados'})\n",
        "imunizados[:5]"
      ],
      "id": "hrTq8FgySktZ",
      "execution_count": 49,
      "outputs": [
        {
          "output_type": "execute_result",
          "data": {
            "text/html": [
              "<div>\n",
              "<style scoped>\n",
              "    .dataframe tbody tr th:only-of-type {\n",
              "        vertical-align: middle;\n",
              "    }\n",
              "\n",
              "    .dataframe tbody tr th {\n",
              "        vertical-align: top;\n",
              "    }\n",
              "\n",
              "    .dataframe thead th {\n",
              "        text-align: right;\n",
              "    }\n",
              "</style>\n",
              "<table border=\"1\" class=\"dataframe\">\n",
              "  <thead>\n",
              "    <tr style=\"text-align: right;\">\n",
              "      <th></th>\n",
              "      <th>pais</th>\n",
              "      <th>Imunizados</th>\n",
              "    </tr>\n",
              "  </thead>\n",
              "  <tbody>\n",
              "    <tr>\n",
              "      <th>0</th>\n",
              "      <td>United States</td>\n",
              "      <td>70454064.0</td>\n",
              "    </tr>\n",
              "    <tr>\n",
              "      <th>1</th>\n",
              "      <td>China</td>\n",
              "      <td>40520000.0</td>\n",
              "    </tr>\n",
              "    <tr>\n",
              "      <th>2</th>\n",
              "      <td>United Kingdom</td>\n",
              "      <td>19913592.0</td>\n",
              "    </tr>\n",
              "    <tr>\n",
              "      <th>3</th>\n",
              "      <td>England</td>\n",
              "      <td>16785841.0</td>\n",
              "    </tr>\n",
              "    <tr>\n",
              "      <th>4</th>\n",
              "      <td>India</td>\n",
              "      <td>13756940.0</td>\n",
              "    </tr>\n",
              "  </tbody>\n",
              "</table>\n",
              "</div>"
            ],
            "text/plain": [
              "             pais  Imunizados\n",
              "0   United States  70454064.0\n",
              "1           China  40520000.0\n",
              "2  United Kingdom  19913592.0\n",
              "3         England  16785841.0\n",
              "4           India  13756940.0"
            ]
          },
          "metadata": {
            "tags": []
          },
          "execution_count": 49
        }
      ]
    },
    {
      "cell_type": "markdown",
      "metadata": {
        "id": "dfKfN1yWSkta"
      },
      "source": [
        "# Criando um novo dataset\n",
        "\n",
        "Para criar um novo dateset (conjunto de dados), vamos utilizar a função merge. Essa função vai comparar os campos das tabelas que são chaves iguais, como o nome do pais e realizar uma junção entre as tabelas. Assim vamos ter todos os dados tratados em uma única tabela. "
      ],
      "id": "dfKfN1yWSkta"
    },
    {
      "cell_type": "code",
      "metadata": {
        "id": "y4dgCAUWSkta"
      },
      "source": [
        "dados_tratados = pd.merge(imunizados, media_pais, how='inner')"
      ],
      "id": "y4dgCAUWSkta",
      "execution_count": 50,
      "outputs": []
    },
    {
      "cell_type": "code",
      "metadata": {
        "colab": {
          "base_uri": "https://localhost:8080/",
          "height": 419
        },
        "id": "lPMPc6HzSkta",
        "outputId": "34c36adb-016d-4b06-e681-ef6ae1f1a49e"
      },
      "source": [
        "dados_tratados = pd.merge(dados_tratados, vacinas_pais)\n",
        "dados_tratados"
      ],
      "id": "lPMPc6HzSkta",
      "execution_count": 51,
      "outputs": [
        {
          "output_type": "execute_result",
          "data": {
            "text/html": [
              "<div>\n",
              "<style scoped>\n",
              "    .dataframe tbody tr th:only-of-type {\n",
              "        vertical-align: middle;\n",
              "    }\n",
              "\n",
              "    .dataframe tbody tr th {\n",
              "        vertical-align: top;\n",
              "    }\n",
              "\n",
              "    .dataframe thead th {\n",
              "        text-align: right;\n",
              "    }\n",
              "</style>\n",
              "<table border=\"1\" class=\"dataframe\">\n",
              "  <thead>\n",
              "    <tr style=\"text-align: right;\">\n",
              "      <th></th>\n",
              "      <th>pais</th>\n",
              "      <th>Imunizados</th>\n",
              "      <th>media_vacinacao</th>\n",
              "      <th>vacina_utilizada</th>\n",
              "    </tr>\n",
              "  </thead>\n",
              "  <tbody>\n",
              "    <tr>\n",
              "      <th>0</th>\n",
              "      <td>United States</td>\n",
              "      <td>70454064.0</td>\n",
              "      <td>961578.338235</td>\n",
              "      <td>[Moderna, Pfizer/BioNTech]</td>\n",
              "    </tr>\n",
              "    <tr>\n",
              "      <th>1</th>\n",
              "      <td>China</td>\n",
              "      <td>40520000.0</td>\n",
              "      <td>623616.000000</td>\n",
              "      <td>[Sinopharm/Beijing, Sinopharm/Wuhan, Sinovac]</td>\n",
              "    </tr>\n",
              "    <tr>\n",
              "      <th>2</th>\n",
              "      <td>United Kingdom</td>\n",
              "      <td>19913592.0</td>\n",
              "      <td>255473.256757</td>\n",
              "      <td>[Oxford/AstraZeneca, Pfizer/BioNTech]</td>\n",
              "    </tr>\n",
              "    <tr>\n",
              "      <th>3</th>\n",
              "      <td>England</td>\n",
              "      <td>16785841.0</td>\n",
              "      <td>215682.081081</td>\n",
              "      <td>[Oxford/AstraZeneca, Pfizer/BioNTech]</td>\n",
              "    </tr>\n",
              "    <tr>\n",
              "      <th>4</th>\n",
              "      <td>India</td>\n",
              "      <td>13756940.0</td>\n",
              "      <td>298508.476190</td>\n",
              "      <td>[Covaxin, Oxford/AstraZeneca]</td>\n",
              "    </tr>\n",
              "    <tr>\n",
              "      <th>...</th>\n",
              "      <td>...</td>\n",
              "      <td>...</td>\n",
              "      <td>...</td>\n",
              "      <td>...</td>\n",
              "    </tr>\n",
              "    <tr>\n",
              "      <th>107</th>\n",
              "      <td>Paraguay</td>\n",
              "      <td>1000.0</td>\n",
              "      <td>250.000000</td>\n",
              "      <td>[Sputnik V]</td>\n",
              "    </tr>\n",
              "    <tr>\n",
              "      <th>108</th>\n",
              "      <td>New Zealand</td>\n",
              "      <td>1000.0</td>\n",
              "      <td>108.000000</td>\n",
              "      <td>[Pfizer/BioNTech]</td>\n",
              "    </tr>\n",
              "    <tr>\n",
              "      <th>109</th>\n",
              "      <td>Trinidad and Tobago</td>\n",
              "      <td>440.0</td>\n",
              "      <td>63.000000</td>\n",
              "      <td>[Oxford/AstraZeneca]</td>\n",
              "    </tr>\n",
              "    <tr>\n",
              "      <th>110</th>\n",
              "      <td>Venezuela</td>\n",
              "      <td>157.0</td>\n",
              "      <td>31.000000</td>\n",
              "      <td>[Sputnik V]</td>\n",
              "    </tr>\n",
              "    <tr>\n",
              "      <th>111</th>\n",
              "      <td>Saint Helena</td>\n",
              "      <td>107.0</td>\n",
              "      <td>NaN</td>\n",
              "      <td>[Oxford/AstraZeneca]</td>\n",
              "    </tr>\n",
              "  </tbody>\n",
              "</table>\n",
              "<p>112 rows × 4 columns</p>\n",
              "</div>"
            ],
            "text/plain": [
              "                    pais  ...                               vacina_utilizada\n",
              "0          United States  ...                     [Moderna, Pfizer/BioNTech]\n",
              "1                  China  ...  [Sinopharm/Beijing, Sinopharm/Wuhan, Sinovac]\n",
              "2         United Kingdom  ...          [Oxford/AstraZeneca, Pfizer/BioNTech]\n",
              "3                England  ...          [Oxford/AstraZeneca, Pfizer/BioNTech]\n",
              "4                  India  ...                  [Covaxin, Oxford/AstraZeneca]\n",
              "..                   ...  ...                                            ...\n",
              "107             Paraguay  ...                                    [Sputnik V]\n",
              "108          New Zealand  ...                              [Pfizer/BioNTech]\n",
              "109  Trinidad and Tobago  ...                           [Oxford/AstraZeneca]\n",
              "110            Venezuela  ...                                    [Sputnik V]\n",
              "111         Saint Helena  ...                           [Oxford/AstraZeneca]\n",
              "\n",
              "[112 rows x 4 columns]"
            ]
          },
          "metadata": {
            "tags": []
          },
          "execution_count": 51
        }
      ]
    },
    {
      "cell_type": "markdown",
      "metadata": {
        "id": "cq_hoaTZSktb"
      },
      "source": [
        "Podemos também realizar de forma direta conforme o script abaixo. veja que temos que fazer cada junção de forma separada. Sempre de dentro para fora. "
      ],
      "id": "cq_hoaTZSktb"
    },
    {
      "cell_type": "code",
      "metadata": {
        "colab": {
          "base_uri": "https://localhost:8080/",
          "height": 419
        },
        "id": "5y13i_8zSktb",
        "outputId": "140172f8-f3a7-4547-8b93-52f0e017186d"
      },
      "source": [
        "pd.merge(pd.merge(imunizados, media_pais), vacinas_pais)"
      ],
      "id": "5y13i_8zSktb",
      "execution_count": 52,
      "outputs": [
        {
          "output_type": "execute_result",
          "data": {
            "text/html": [
              "<div>\n",
              "<style scoped>\n",
              "    .dataframe tbody tr th:only-of-type {\n",
              "        vertical-align: middle;\n",
              "    }\n",
              "\n",
              "    .dataframe tbody tr th {\n",
              "        vertical-align: top;\n",
              "    }\n",
              "\n",
              "    .dataframe thead th {\n",
              "        text-align: right;\n",
              "    }\n",
              "</style>\n",
              "<table border=\"1\" class=\"dataframe\">\n",
              "  <thead>\n",
              "    <tr style=\"text-align: right;\">\n",
              "      <th></th>\n",
              "      <th>pais</th>\n",
              "      <th>Imunizados</th>\n",
              "      <th>media_vacinacao</th>\n",
              "      <th>vacina_utilizada</th>\n",
              "    </tr>\n",
              "  </thead>\n",
              "  <tbody>\n",
              "    <tr>\n",
              "      <th>0</th>\n",
              "      <td>United States</td>\n",
              "      <td>70454064.0</td>\n",
              "      <td>961578.338235</td>\n",
              "      <td>[Moderna, Pfizer/BioNTech]</td>\n",
              "    </tr>\n",
              "    <tr>\n",
              "      <th>1</th>\n",
              "      <td>China</td>\n",
              "      <td>40520000.0</td>\n",
              "      <td>623616.000000</td>\n",
              "      <td>[Sinopharm/Beijing, Sinopharm/Wuhan, Sinovac]</td>\n",
              "    </tr>\n",
              "    <tr>\n",
              "      <th>2</th>\n",
              "      <td>United Kingdom</td>\n",
              "      <td>19913592.0</td>\n",
              "      <td>255473.256757</td>\n",
              "      <td>[Oxford/AstraZeneca, Pfizer/BioNTech]</td>\n",
              "    </tr>\n",
              "    <tr>\n",
              "      <th>3</th>\n",
              "      <td>England</td>\n",
              "      <td>16785841.0</td>\n",
              "      <td>215682.081081</td>\n",
              "      <td>[Oxford/AstraZeneca, Pfizer/BioNTech]</td>\n",
              "    </tr>\n",
              "    <tr>\n",
              "      <th>4</th>\n",
              "      <td>India</td>\n",
              "      <td>13756940.0</td>\n",
              "      <td>298508.476190</td>\n",
              "      <td>[Covaxin, Oxford/AstraZeneca]</td>\n",
              "    </tr>\n",
              "    <tr>\n",
              "      <th>...</th>\n",
              "      <td>...</td>\n",
              "      <td>...</td>\n",
              "      <td>...</td>\n",
              "      <td>...</td>\n",
              "    </tr>\n",
              "    <tr>\n",
              "      <th>107</th>\n",
              "      <td>Paraguay</td>\n",
              "      <td>1000.0</td>\n",
              "      <td>250.000000</td>\n",
              "      <td>[Sputnik V]</td>\n",
              "    </tr>\n",
              "    <tr>\n",
              "      <th>108</th>\n",
              "      <td>New Zealand</td>\n",
              "      <td>1000.0</td>\n",
              "      <td>108.000000</td>\n",
              "      <td>[Pfizer/BioNTech]</td>\n",
              "    </tr>\n",
              "    <tr>\n",
              "      <th>109</th>\n",
              "      <td>Trinidad and Tobago</td>\n",
              "      <td>440.0</td>\n",
              "      <td>63.000000</td>\n",
              "      <td>[Oxford/AstraZeneca]</td>\n",
              "    </tr>\n",
              "    <tr>\n",
              "      <th>110</th>\n",
              "      <td>Venezuela</td>\n",
              "      <td>157.0</td>\n",
              "      <td>31.000000</td>\n",
              "      <td>[Sputnik V]</td>\n",
              "    </tr>\n",
              "    <tr>\n",
              "      <th>111</th>\n",
              "      <td>Saint Helena</td>\n",
              "      <td>107.0</td>\n",
              "      <td>NaN</td>\n",
              "      <td>[Oxford/AstraZeneca]</td>\n",
              "    </tr>\n",
              "  </tbody>\n",
              "</table>\n",
              "<p>112 rows × 4 columns</p>\n",
              "</div>"
            ],
            "text/plain": [
              "                    pais  ...                               vacina_utilizada\n",
              "0          United States  ...                     [Moderna, Pfizer/BioNTech]\n",
              "1                  China  ...  [Sinopharm/Beijing, Sinopharm/Wuhan, Sinovac]\n",
              "2         United Kingdom  ...          [Oxford/AstraZeneca, Pfizer/BioNTech]\n",
              "3                England  ...          [Oxford/AstraZeneca, Pfizer/BioNTech]\n",
              "4                  India  ...                  [Covaxin, Oxford/AstraZeneca]\n",
              "..                   ...  ...                                            ...\n",
              "107             Paraguay  ...                                    [Sputnik V]\n",
              "108          New Zealand  ...                              [Pfizer/BioNTech]\n",
              "109  Trinidad and Tobago  ...                           [Oxford/AstraZeneca]\n",
              "110            Venezuela  ...                                    [Sputnik V]\n",
              "111         Saint Helena  ...                           [Oxford/AstraZeneca]\n",
              "\n",
              "[112 rows x 4 columns]"
            ]
          },
          "metadata": {
            "tags": []
          },
          "execution_count": 52
        }
      ]
    },
    {
      "cell_type": "markdown",
      "metadata": {
        "id": "vUHswuVpSktb"
      },
      "source": [
        "# Exportando dados tratados\n",
        "Pronto! Agora que criamos o nosso dataset vamos exportar ele para um arquivo txt.\n",
        "\n"
      ],
      "id": "vUHswuVpSktb"
    },
    {
      "cell_type": "code",
      "metadata": {
        "id": "MpzZcYLGSktc"
      },
      "source": [
        "dados_tratados.to_csv('estatistica_pais.csv', index= True, sep = ';')"
      ],
      "id": "MpzZcYLGSktc",
      "execution_count": 53,
      "outputs": []
    },
    {
      "cell_type": "code",
      "metadata": {
        "id": "_GUN4H0ZSktc"
      },
      "source": [
        "dados_tratados.to_json('estatistica.json', orient = 'records')"
      ],
      "id": "_GUN4H0ZSktc",
      "execution_count": 54,
      "outputs": []
    },
    {
      "cell_type": "code",
      "metadata": {
        "id": "ODMwVlhpSktd"
      },
      "source": [
        ""
      ],
      "id": "ODMwVlhpSktd",
      "execution_count": null,
      "outputs": []
    }
  ]
}